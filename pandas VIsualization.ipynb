{
 "cells": [
  {
   "cell_type": "code",
   "execution_count": 6,
   "id": "f93ed5b3",
   "metadata": {},
   "outputs": [],
   "source": [
    "import pandas as pd\n"
   ]
  },
  {
   "cell_type": "code",
   "execution_count": 7,
   "id": "fa8d22ac",
   "metadata": {},
   "outputs": [],
   "source": [
    "df1 = pd.read_csv('DF1.csv',index_col=0)"
   ]
  },
  {
   "cell_type": "code",
   "execution_count": 8,
   "id": "63255c1f",
   "metadata": {},
   "outputs": [],
   "source": [
    "import seaborn as sns"
   ]
  },
  {
   "cell_type": "code",
   "execution_count": 9,
   "id": "93a36ad1",
   "metadata": {},
   "outputs": [],
   "source": [
    "import matplotlib.pyplot as plt"
   ]
  },
  {
   "cell_type": "code",
   "execution_count": 10,
   "id": "03e634d7",
   "metadata": {},
   "outputs": [],
   "source": [
    "%matplotlib inline\n"
   ]
  },
  {
   "cell_type": "code",
   "execution_count": 11,
   "id": "1d55f29c",
   "metadata": {},
   "outputs": [
    {
     "data": {
      "text/html": [
       "<div>\n",
       "<style scoped>\n",
       "    .dataframe tbody tr th:only-of-type {\n",
       "        vertical-align: middle;\n",
       "    }\n",
       "\n",
       "    .dataframe tbody tr th {\n",
       "        vertical-align: top;\n",
       "    }\n",
       "\n",
       "    .dataframe thead th {\n",
       "        text-align: right;\n",
       "    }\n",
       "</style>\n",
       "<table border=\"1\" class=\"dataframe\">\n",
       "  <thead>\n",
       "    <tr style=\"text-align: right;\">\n",
       "      <th></th>\n",
       "      <th>B</th>\n",
       "      <th>C</th>\n",
       "      <th>D</th>\n",
       "    </tr>\n",
       "    <tr>\n",
       "      <th>A</th>\n",
       "      <th></th>\n",
       "      <th></th>\n",
       "      <th></th>\n",
       "    </tr>\n",
       "  </thead>\n",
       "  <tbody>\n",
       "    <tr>\n",
       "      <th>0.345675</th>\n",
       "      <td>0.234567</td>\n",
       "      <td>0.122345</td>\n",
       "      <td>0.345678</td>\n",
       "    </tr>\n",
       "    <tr>\n",
       "      <th>0.567894</th>\n",
       "      <td>0.778899</td>\n",
       "      <td>0.234567</td>\n",
       "      <td>0.850519</td>\n",
       "    </tr>\n",
       "    <tr>\n",
       "      <th>0.871345</th>\n",
       "      <td>0.345678</td>\n",
       "      <td>0.567893</td>\n",
       "      <td>0.347865</td>\n",
       "    </tr>\n",
       "    <tr>\n",
       "      <th>0.345612</th>\n",
       "      <td>0.345678</td>\n",
       "      <td>0.236789</td>\n",
       "      <td>0.456728</td>\n",
       "    </tr>\n",
       "    <tr>\n",
       "      <th>0.451234</th>\n",
       "      <td>0.678945</td>\n",
       "      <td>0.984567</td>\n",
       "      <td>0.341780</td>\n",
       "    </tr>\n",
       "  </tbody>\n",
       "</table>\n",
       "</div>"
      ],
      "text/plain": [
       "                 B         C         D\n",
       "A                                     \n",
       "0.345675  0.234567  0.122345  0.345678\n",
       "0.567894  0.778899  0.234567  0.850519\n",
       "0.871345  0.345678  0.567893  0.347865\n",
       "0.345612  0.345678  0.236789  0.456728\n",
       "0.451234  0.678945  0.984567  0.341780"
      ]
     },
     "execution_count": 11,
     "metadata": {},
     "output_type": "execute_result"
    }
   ],
   "source": [
    "df1.head()"
   ]
  },
  {
   "cell_type": "code",
   "execution_count": 18,
   "id": "3effecdf",
   "metadata": {},
   "outputs": [],
   "source": [
    "df1 = pd.read_csv('DF1.csv')"
   ]
  },
  {
   "cell_type": "code",
   "execution_count": 20,
   "id": "e1014522",
   "metadata": {},
   "outputs": [
    {
     "data": {
      "text/html": [
       "<div>\n",
       "<style scoped>\n",
       "    .dataframe tbody tr th:only-of-type {\n",
       "        vertical-align: middle;\n",
       "    }\n",
       "\n",
       "    .dataframe tbody tr th {\n",
       "        vertical-align: top;\n",
       "    }\n",
       "\n",
       "    .dataframe thead th {\n",
       "        text-align: right;\n",
       "    }\n",
       "</style>\n",
       "<table border=\"1\" class=\"dataframe\">\n",
       "  <thead>\n",
       "    <tr style=\"text-align: right;\">\n",
       "      <th></th>\n",
       "      <th>A</th>\n",
       "      <th>B</th>\n",
       "      <th>C</th>\n",
       "      <th>D</th>\n",
       "    </tr>\n",
       "  </thead>\n",
       "  <tbody>\n",
       "    <tr>\n",
       "      <th>0</th>\n",
       "      <td>0.345675</td>\n",
       "      <td>0.234567</td>\n",
       "      <td>0.122345</td>\n",
       "      <td>0.345678</td>\n",
       "    </tr>\n",
       "    <tr>\n",
       "      <th>1</th>\n",
       "      <td>0.567894</td>\n",
       "      <td>0.778899</td>\n",
       "      <td>0.234567</td>\n",
       "      <td>0.850519</td>\n",
       "    </tr>\n",
       "    <tr>\n",
       "      <th>2</th>\n",
       "      <td>0.871345</td>\n",
       "      <td>0.345678</td>\n",
       "      <td>0.567893</td>\n",
       "      <td>0.347865</td>\n",
       "    </tr>\n",
       "    <tr>\n",
       "      <th>3</th>\n",
       "      <td>0.345612</td>\n",
       "      <td>0.345678</td>\n",
       "      <td>0.236789</td>\n",
       "      <td>0.456728</td>\n",
       "    </tr>\n",
       "    <tr>\n",
       "      <th>4</th>\n",
       "      <td>0.451234</td>\n",
       "      <td>0.678945</td>\n",
       "      <td>0.984567</td>\n",
       "      <td>0.341780</td>\n",
       "    </tr>\n",
       "    <tr>\n",
       "      <th>5</th>\n",
       "      <td>0.762345</td>\n",
       "      <td>0.941567</td>\n",
       "      <td>0.564567</td>\n",
       "      <td>0.345678</td>\n",
       "    </tr>\n",
       "    <tr>\n",
       "      <th>6</th>\n",
       "      <td>0.451245</td>\n",
       "      <td>0.451423</td>\n",
       "      <td>0.456713</td>\n",
       "      <td>0.456789</td>\n",
       "    </tr>\n",
       "    <tr>\n",
       "      <th>7</th>\n",
       "      <td>0.345678</td>\n",
       "      <td>0.347893</td>\n",
       "      <td>0.768899</td>\n",
       "      <td>0.678900</td>\n",
       "    </tr>\n",
       "    <tr>\n",
       "      <th>8</th>\n",
       "      <td>0.234567</td>\n",
       "      <td>0.232726</td>\n",
       "      <td>0.569923</td>\n",
       "      <td>0.456731</td>\n",
       "    </tr>\n",
       "    <tr>\n",
       "      <th>9</th>\n",
       "      <td>0.345513</td>\n",
       "      <td>0.456789</td>\n",
       "      <td>0.567834</td>\n",
       "      <td>0.345678</td>\n",
       "    </tr>\n",
       "  </tbody>\n",
       "</table>\n",
       "</div>"
      ],
      "text/plain": [
       "          A         B         C         D\n",
       "0  0.345675  0.234567  0.122345  0.345678\n",
       "1  0.567894  0.778899  0.234567  0.850519\n",
       "2  0.871345  0.345678  0.567893  0.347865\n",
       "3  0.345612  0.345678  0.236789  0.456728\n",
       "4  0.451234  0.678945  0.984567  0.341780\n",
       "5  0.762345  0.941567  0.564567  0.345678\n",
       "6  0.451245  0.451423  0.456713  0.456789\n",
       "7  0.345678  0.347893  0.768899  0.678900\n",
       "8  0.234567  0.232726  0.569923  0.456731\n",
       "9  0.345513  0.456789  0.567834  0.345678"
      ]
     },
     "execution_count": 20,
     "metadata": {},
     "output_type": "execute_result"
    }
   ],
   "source": [
    "df1"
   ]
  },
  {
   "cell_type": "code",
   "execution_count": 10,
   "id": "fb49f437",
   "metadata": {},
   "outputs": [
    {
     "data": {
      "text/html": [
       "<div>\n",
       "<style scoped>\n",
       "    .dataframe tbody tr th:only-of-type {\n",
       "        vertical-align: middle;\n",
       "    }\n",
       "\n",
       "    .dataframe tbody tr th {\n",
       "        vertical-align: top;\n",
       "    }\n",
       "\n",
       "    .dataframe thead th {\n",
       "        text-align: right;\n",
       "    }\n",
       "</style>\n",
       "<table border=\"1\" class=\"dataframe\">\n",
       "  <thead>\n",
       "    <tr style=\"text-align: right;\">\n",
       "      <th></th>\n",
       "      <th>A</th>\n",
       "      <th>B</th>\n",
       "      <th>C</th>\n",
       "      <th>D</th>\n",
       "    </tr>\n",
       "  </thead>\n",
       "  <tbody>\n",
       "    <tr>\n",
       "      <th>0</th>\n",
       "      <td>0.345675</td>\n",
       "      <td>0.234567</td>\n",
       "      <td>0.122345</td>\n",
       "      <td>0.345678</td>\n",
       "    </tr>\n",
       "    <tr>\n",
       "      <th>1</th>\n",
       "      <td>0.567894</td>\n",
       "      <td>0.778899</td>\n",
       "      <td>0.234567</td>\n",
       "      <td>0.850519</td>\n",
       "    </tr>\n",
       "    <tr>\n",
       "      <th>2</th>\n",
       "      <td>0.871345</td>\n",
       "      <td>0.345678</td>\n",
       "      <td>0.567893</td>\n",
       "      <td>0.347865</td>\n",
       "    </tr>\n",
       "    <tr>\n",
       "      <th>3</th>\n",
       "      <td>0.345612</td>\n",
       "      <td>0.345678</td>\n",
       "      <td>0.236789</td>\n",
       "      <td>0.456728</td>\n",
       "    </tr>\n",
       "    <tr>\n",
       "      <th>4</th>\n",
       "      <td>0.451234</td>\n",
       "      <td>0.678945</td>\n",
       "      <td>0.984567</td>\n",
       "      <td>0.341780</td>\n",
       "    </tr>\n",
       "  </tbody>\n",
       "</table>\n",
       "</div>"
      ],
      "text/plain": [
       "          A         B         C         D\n",
       "0  0.345675  0.234567  0.122345  0.345678\n",
       "1  0.567894  0.778899  0.234567  0.850519\n",
       "2  0.871345  0.345678  0.567893  0.347865\n",
       "3  0.345612  0.345678  0.236789  0.456728\n",
       "4  0.451234  0.678945  0.984567  0.341780"
      ]
     },
     "execution_count": 10,
     "metadata": {},
     "output_type": "execute_result"
    }
   ],
   "source": [
    "df1.head()"
   ]
  },
  {
   "cell_type": "code",
   "execution_count": 23,
   "id": "0a652469",
   "metadata": {},
   "outputs": [],
   "source": [
    "df2 = pd.read_csv('DF2.csv',index_col=0)"
   ]
  },
  {
   "cell_type": "code",
   "execution_count": 25,
   "id": "e31d0feb",
   "metadata": {},
   "outputs": [
    {
     "data": {
      "text/html": [
       "<div>\n",
       "<style scoped>\n",
       "    .dataframe tbody tr th:only-of-type {\n",
       "        vertical-align: middle;\n",
       "    }\n",
       "\n",
       "    .dataframe tbody tr th {\n",
       "        vertical-align: top;\n",
       "    }\n",
       "\n",
       "    .dataframe thead th {\n",
       "        text-align: right;\n",
       "    }\n",
       "</style>\n",
       "<table border=\"1\" class=\"dataframe\">\n",
       "  <thead>\n",
       "    <tr style=\"text-align: right;\">\n",
       "      <th></th>\n",
       "      <th>A</th>\n",
       "      <th>B</th>\n",
       "      <th>C</th>\n",
       "      <th>D</th>\n",
       "    </tr>\n",
       "  </thead>\n",
       "  <tbody>\n",
       "    <tr>\n",
       "      <th>1/1/2023</th>\n",
       "      <td>0.983456</td>\n",
       "      <td>0.345678</td>\n",
       "      <td>-0.345678</td>\n",
       "      <td>0.345678</td>\n",
       "    </tr>\n",
       "    <tr>\n",
       "      <th>2/1/2023</th>\n",
       "      <td>-0.456788</td>\n",
       "      <td>0.236789</td>\n",
       "      <td>0.765435</td>\n",
       "      <td>0.236789</td>\n",
       "    </tr>\n",
       "    <tr>\n",
       "      <th>3/1/2023</th>\n",
       "      <td>0.456789</td>\n",
       "      <td>0.236789</td>\n",
       "      <td>0.234576</td>\n",
       "      <td>0.237893</td>\n",
       "    </tr>\n",
       "    <tr>\n",
       "      <th>4/1/2023</th>\n",
       "      <td>0.456789</td>\n",
       "      <td>-0.346789</td>\n",
       "      <td>-0.679345</td>\n",
       "      <td>0.234567</td>\n",
       "    </tr>\n",
       "    <tr>\n",
       "      <th>5/1/2023</th>\n",
       "      <td>-1.345678</td>\n",
       "      <td>0.345678</td>\n",
       "      <td>0.345687</td>\n",
       "      <td>0.346789</td>\n",
       "    </tr>\n",
       "    <tr>\n",
       "      <th>6/1/2023</th>\n",
       "      <td>0.345678</td>\n",
       "      <td>-0.987645</td>\n",
       "      <td>-0.347459</td>\n",
       "      <td>-0.478638</td>\n",
       "    </tr>\n",
       "    <tr>\n",
       "      <th>7/1/2023</th>\n",
       "      <td>-1.754567</td>\n",
       "      <td>0.345678</td>\n",
       "      <td>0.015085</td>\n",
       "      <td>0.015085</td>\n",
       "    </tr>\n",
       "    <tr>\n",
       "      <th>8/1/2023</th>\n",
       "      <td>0.456789</td>\n",
       "      <td>0.768834</td>\n",
       "      <td>0.345687</td>\n",
       "      <td>0.287654</td>\n",
       "    </tr>\n",
       "    <tr>\n",
       "      <th>9/1/2023</th>\n",
       "      <td>-0.345678</td>\n",
       "      <td>0.342378</td>\n",
       "      <td>0.347896</td>\n",
       "      <td>0.348932</td>\n",
       "    </tr>\n",
       "    <tr>\n",
       "      <th>10/1/2023</th>\n",
       "      <td>0.457894</td>\n",
       "      <td>0.455678</td>\n",
       "      <td>0.235698</td>\n",
       "      <td>-0.232222</td>\n",
       "    </tr>\n",
       "  </tbody>\n",
       "</table>\n",
       "</div>"
      ],
      "text/plain": [
       "                  A         B         C         D\n",
       "1/1/2023   0.983456  0.345678 -0.345678  0.345678\n",
       "2/1/2023  -0.456788  0.236789  0.765435  0.236789\n",
       "3/1/2023   0.456789  0.236789  0.234576  0.237893\n",
       "4/1/2023   0.456789 -0.346789 -0.679345  0.234567\n",
       "5/1/2023  -1.345678  0.345678  0.345687  0.346789\n",
       "6/1/2023   0.345678 -0.987645 -0.347459 -0.478638\n",
       "7/1/2023  -1.754567  0.345678  0.015085  0.015085\n",
       "8/1/2023   0.456789  0.768834  0.345687  0.287654\n",
       "9/1/2023  -0.345678  0.342378  0.347896  0.348932\n",
       "10/1/2023  0.457894  0.455678  0.235698 -0.232222"
      ]
     },
     "execution_count": 25,
     "metadata": {},
     "output_type": "execute_result"
    }
   ],
   "source": [
    "df2"
   ]
  },
  {
   "cell_type": "code",
   "execution_count": 27,
   "id": "78ee4d0e",
   "metadata": {},
   "outputs": [
    {
     "data": {
      "text/plain": [
       "<AxesSubplot:>"
      ]
     },
     "execution_count": 27,
     "metadata": {},
     "output_type": "execute_result"
    },
    {
     "data": {
      "image/png": "[encoded data removed]",
      "text/plain": [
       "<Figure size 432x288 with 1 Axes>"
      ]
     },
     "metadata": {
      "needs_background": "light"
     },
     "output_type": "display_data"
    }
   ],
   "source": [
    "df2['A'].hist()"
   ]
  },
  {
   "cell_type": "code",
   "execution_count": 32,
   "id": "5b5df4b3",
   "metadata": {},
   "outputs": [
    {
     "data": {
      "text/plain": [
       "<AxesSubplot:>"
      ]
     },
     "execution_count": 32,
     "metadata": {},
     "output_type": "execute_result"
    },
    {
     "data": {
      "image/png": "[encoded data removed]",
      "text/plain": [
       "<Figure size 432x288 with 1 Axes>"
      ]
     },
     "metadata": {
      "needs_background": "light"
     },
     "output_type": "display_data"
    }
   ],
   "source": [
    "df1['A'].hist()"
   ]
  },
  {
   "cell_type": "code",
   "execution_count": 33,
   "id": "b3d6daee",
   "metadata": {},
   "outputs": [
    {
     "data": {
      "text/plain": [
       "<AxesSubplot:>"
      ]
     },
     "execution_count": 33,
     "metadata": {},
     "output_type": "execute_result"
    },
    {
     "data": {
      "image/png": "[encoded data removed]",
      "text/plain": [
       "<Figure size 432x288 with 1 Axes>"
      ]
     },
     "metadata": {
      "needs_background": "light"
     },
     "output_type": "display_data"
    }
   ],
   "source": [
    "df2['A'].hist(bins=20)"
   ]
  },
  {
   "cell_type": "code",
   "execution_count": 22,
   "id": "0dd70017",
   "metadata": {},
   "outputs": [
    {
     "data": {
      "text/plain": [
       "<AxesSubplot:>"
      ]
     },
     "execution_count": 22,
     "metadata": {},
     "output_type": "execute_result"
    },
    {
     "data": {
      "image/png": "[encoded data removed]",
      "text/plain": [
       "<Figure size 432x288 with 1 Axes>"
      ]
     },
     "metadata": {
      "needs_background": "light"
     },
     "output_type": "display_data"
    }
   ],
   "source": [
    "df2['A'].hist(bins=20)"
   ]
  },
  {
   "cell_type": "code",
   "execution_count": 34,
   "id": "a120e462",
   "metadata": {},
   "outputs": [
    {
     "data": {
      "text/plain": [
       "<AxesSubplot:ylabel='Frequency'>"
      ]
     },
     "execution_count": 34,
     "metadata": {},
     "output_type": "execute_result"
    },
    {
     "data": {
      "image/png": "[encoded data removed]",
      "text/plain": [
       "<Figure size 432x288 with 1 Axes>"
      ]
     },
     "metadata": {
      "needs_background": "light"
     },
     "output_type": "display_data"
    }
   ],
   "source": [
    "df1['A'].plot(kind='hist',bins=30)"
   ]
  },
  {
   "cell_type": "code",
   "execution_count": 26,
   "id": "2adb2619",
   "metadata": {},
   "outputs": [
    {
     "data": {
      "text/plain": [
       "<AxesSubplot:ylabel='Frequency'>"
      ]
     },
     "execution_count": 26,
     "metadata": {},
     "output_type": "execute_result"
    },
    {
     "data": {
      "image/png": "[encoded data removed]",
      "text/plain": [
       "<Figure size 432x288 with 1 Axes>"
      ]
     },
     "metadata": {
      "needs_background": "light"
     },
     "output_type": "display_data"
    }
   ],
   "source": [
    "df1['A'].plot.hist()"
   ]
  },
  {
   "cell_type": "code",
   "execution_count": 27,
   "id": "14805316",
   "metadata": {},
   "outputs": [
    {
     "data": {
      "text/html": [
       "<div>\n",
       "<style scoped>\n",
       "    .dataframe tbody tr th:only-of-type {\n",
       "        vertical-align: middle;\n",
       "    }\n",
       "\n",
       "    .dataframe tbody tr th {\n",
       "        vertical-align: top;\n",
       "    }\n",
       "\n",
       "    .dataframe thead th {\n",
       "        text-align: right;\n",
       "    }\n",
       "</style>\n",
       "<table border=\"1\" class=\"dataframe\">\n",
       "  <thead>\n",
       "    <tr style=\"text-align: right;\">\n",
       "      <th></th>\n",
       "      <th>A</th>\n",
       "      <th>B</th>\n",
       "      <th>C</th>\n",
       "      <th>D</th>\n",
       "    </tr>\n",
       "  </thead>\n",
       "  <tbody>\n",
       "    <tr>\n",
       "      <th>0</th>\n",
       "      <td>0.345675</td>\n",
       "      <td>0.234567</td>\n",
       "      <td>0.122345</td>\n",
       "      <td>0.345678</td>\n",
       "    </tr>\n",
       "    <tr>\n",
       "      <th>1</th>\n",
       "      <td>0.567894</td>\n",
       "      <td>0.778899</td>\n",
       "      <td>0.234567</td>\n",
       "      <td>0.850519</td>\n",
       "    </tr>\n",
       "    <tr>\n",
       "      <th>2</th>\n",
       "      <td>0.871345</td>\n",
       "      <td>0.345678</td>\n",
       "      <td>0.567893</td>\n",
       "      <td>0.347865</td>\n",
       "    </tr>\n",
       "    <tr>\n",
       "      <th>3</th>\n",
       "      <td>0.345612</td>\n",
       "      <td>0.345678</td>\n",
       "      <td>0.236789</td>\n",
       "      <td>0.456728</td>\n",
       "    </tr>\n",
       "    <tr>\n",
       "      <th>4</th>\n",
       "      <td>0.451234</td>\n",
       "      <td>0.678945</td>\n",
       "      <td>0.984567</td>\n",
       "      <td>0.341780</td>\n",
       "    </tr>\n",
       "  </tbody>\n",
       "</table>\n",
       "</div>"
      ],
      "text/plain": [
       "          A         B         C         D\n",
       "0  0.345675  0.234567  0.122345  0.345678\n",
       "1  0.567894  0.778899  0.234567  0.850519\n",
       "2  0.871345  0.345678  0.567893  0.347865\n",
       "3  0.345612  0.345678  0.236789  0.456728\n",
       "4  0.451234  0.678945  0.984567  0.341780"
      ]
     },
     "execution_count": 27,
     "metadata": {},
     "output_type": "execute_result"
    }
   ],
   "source": [
    "df1.head()"
   ]
  },
  {
   "cell_type": "code",
   "execution_count": 29,
   "id": "dc18300d",
   "metadata": {},
   "outputs": [],
   "source": [
    "import seaborn as sns"
   ]
  },
  {
   "cell_type": "code",
   "execution_count": 44,
   "id": "8fc62a07",
   "metadata": {},
   "outputs": [
    {
     "data": {
      "text/plain": [
       "<AxesSubplot:>"
      ]
     },
     "execution_count": 44,
     "metadata": {},
     "output_type": "execute_result"
    },
    {
     "data": {
      "image/png": "[encoded data removed]",
      "text/plain": [
       "<Figure size 432x288 with 1 Axes>"
      ]
     },
     "metadata": {
      "needs_background": "light"
     },
     "output_type": "display_data"
    }
   ],
   "source": [
    "df1.plot.area(alpha=0.8)"
   ]
  },
  {
   "cell_type": "code",
   "execution_count": 46,
   "id": "13712c80",
   "metadata": {},
   "outputs": [
    {
     "data": {
      "text/plain": [
       "<AxesSubplot:>"
      ]
     },
     "execution_count": 46,
     "metadata": {},
     "output_type": "execute_result"
    },
    {
     "data": {
      "image/png": "[encoded data removed]",
      "text/plain": [
       "<Figure size 432x288 with 1 Axes>"
      ]
     },
     "metadata": {
      "needs_background": "light"
     },
     "output_type": "display_data"
    }
   ],
   "source": [
    "df1.plot.bar()"
   ]
  },
  {
   "cell_type": "code",
   "execution_count": 33,
   "id": "a9f70455",
   "metadata": {
    "scrolled": true
   },
   "outputs": [
    {
     "data": {
      "text/plain": [
       "<AxesSubplot:>"
      ]
     },
     "execution_count": 33,
     "metadata": {},
     "output_type": "execute_result"
    },
    {
     "data": {
      "image/png": "[encoded data removed]",
      "text/plain": [
       "<Figure size 432x288 with 1 Axes>"
      ]
     },
     "metadata": {
      "needs_background": "light"
     },
     "output_type": "display_data"
    }
   ],
   "source": [
    "df1.plot.bar(stacked=True)"
   ]
  },
  {
   "cell_type": "code",
   "execution_count": 48,
   "id": "1b9d335a",
   "metadata": {},
   "outputs": [
    {
     "data": {
      "text/plain": [
       "<AxesSubplot:ylabel='Frequency'>"
      ]
     },
     "execution_count": 48,
     "metadata": {},
     "output_type": "execute_result"
    },
    {
     "data": {
      "image/png": "[encoded data removed]",
      "text/plain": [
       "<Figure size 432x288 with 1 Axes>"
      ]
     },
     "metadata": {
      "needs_background": "light"
     },
     "output_type": "display_data"
    }
   ],
   "source": [
    "df1['A'].plot.hist()"
   ]
  },
  {
   "cell_type": "code",
   "execution_count": 49,
   "id": "07fec6b3",
   "metadata": {},
   "outputs": [
    {
     "data": {
      "text/plain": [
       "<AxesSubplot:ylabel='Frequency'>"
      ]
     },
     "execution_count": 49,
     "metadata": {},
     "output_type": "execute_result"
    },
    {
     "data": {
      "image/png": "[encoded data removed]",
      "text/plain": [
       "<Figure size 432x288 with 1 Axes>"
      ]
     },
     "metadata": {
      "needs_background": "light"
     },
     "output_type": "display_data"
    }
   ],
   "source": [
    "df2['A'].plot.hist(bins=50)"
   ]
  },
  {
   "cell_type": "code",
   "execution_count": 52,
   "id": "48aa6dca",
   "metadata": {},
   "outputs": [
    {
     "data": {
      "text/html": [
       "<div>\n",
       "<style scoped>\n",
       "    .dataframe tbody tr th:only-of-type {\n",
       "        vertical-align: middle;\n",
       "    }\n",
       "\n",
       "    .dataframe tbody tr th {\n",
       "        vertical-align: top;\n",
       "    }\n",
       "\n",
       "    .dataframe thead th {\n",
       "        text-align: right;\n",
       "    }\n",
       "</style>\n",
       "<table border=\"1\" class=\"dataframe\">\n",
       "  <thead>\n",
       "    <tr style=\"text-align: right;\">\n",
       "      <th></th>\n",
       "      <th>A</th>\n",
       "      <th>B</th>\n",
       "      <th>C</th>\n",
       "      <th>D</th>\n",
       "    </tr>\n",
       "  </thead>\n",
       "  <tbody>\n",
       "    <tr>\n",
       "      <th>1/1/2023</th>\n",
       "      <td>0.983456</td>\n",
       "      <td>0.345678</td>\n",
       "      <td>-0.345678</td>\n",
       "      <td>0.345678</td>\n",
       "    </tr>\n",
       "    <tr>\n",
       "      <th>2/1/2023</th>\n",
       "      <td>-0.456788</td>\n",
       "      <td>0.236789</td>\n",
       "      <td>0.765435</td>\n",
       "      <td>0.236789</td>\n",
       "    </tr>\n",
       "    <tr>\n",
       "      <th>3/1/2023</th>\n",
       "      <td>0.456789</td>\n",
       "      <td>0.236789</td>\n",
       "      <td>0.234576</td>\n",
       "      <td>0.237893</td>\n",
       "    </tr>\n",
       "    <tr>\n",
       "      <th>4/1/2023</th>\n",
       "      <td>0.456789</td>\n",
       "      <td>-0.346789</td>\n",
       "      <td>-0.679345</td>\n",
       "      <td>0.234567</td>\n",
       "    </tr>\n",
       "    <tr>\n",
       "      <th>5/1/2023</th>\n",
       "      <td>-1.345678</td>\n",
       "      <td>0.345678</td>\n",
       "      <td>0.345687</td>\n",
       "      <td>0.346789</td>\n",
       "    </tr>\n",
       "  </tbody>\n",
       "</table>\n",
       "</div>"
      ],
      "text/plain": [
       "                 A         B         C         D\n",
       "1/1/2023  0.983456  0.345678 -0.345678  0.345678\n",
       "2/1/2023 -0.456788  0.236789  0.765435  0.236789\n",
       "3/1/2023  0.456789  0.236789  0.234576  0.237893\n",
       "4/1/2023  0.456789 -0.346789 -0.679345  0.234567\n",
       "5/1/2023 -1.345678  0.345678  0.345687  0.346789"
      ]
     },
     "execution_count": 52,
     "metadata": {},
     "output_type": "execute_result"
    }
   ],
   "source": [
    "df2.head()"
   ]
  },
  {
   "cell_type": "code",
   "execution_count": 74,
   "id": "a1d7d3cf",
   "metadata": {},
   "outputs": [
    {
     "data": {
      "text/html": [
       "<div>\n",
       "<style scoped>\n",
       "    .dataframe tbody tr th:only-of-type {\n",
       "        vertical-align: middle;\n",
       "    }\n",
       "\n",
       "    .dataframe tbody tr th {\n",
       "        vertical-align: top;\n",
       "    }\n",
       "\n",
       "    .dataframe thead th {\n",
       "        text-align: right;\n",
       "    }\n",
       "</style>\n",
       "<table border=\"1\" class=\"dataframe\">\n",
       "  <thead>\n",
       "    <tr style=\"text-align: right;\">\n",
       "      <th></th>\n",
       "      <th>A</th>\n",
       "      <th>B</th>\n",
       "      <th>C</th>\n",
       "      <th>D</th>\n",
       "    </tr>\n",
       "  </thead>\n",
       "  <tbody>\n",
       "    <tr>\n",
       "      <th>1/1/2023</th>\n",
       "      <td>0.983456</td>\n",
       "      <td>0.345678</td>\n",
       "      <td>-0.345678</td>\n",
       "      <td>0.345678</td>\n",
       "    </tr>\n",
       "    <tr>\n",
       "      <th>2/1/2023</th>\n",
       "      <td>-0.456788</td>\n",
       "      <td>0.236789</td>\n",
       "      <td>0.765435</td>\n",
       "      <td>0.236789</td>\n",
       "    </tr>\n",
       "    <tr>\n",
       "      <th>3/1/2023</th>\n",
       "      <td>0.456789</td>\n",
       "      <td>0.236789</td>\n",
       "      <td>0.234576</td>\n",
       "      <td>0.237893</td>\n",
       "    </tr>\n",
       "    <tr>\n",
       "      <th>4/1/2023</th>\n",
       "      <td>0.456789</td>\n",
       "      <td>-0.346789</td>\n",
       "      <td>-0.679345</td>\n",
       "      <td>0.234567</td>\n",
       "    </tr>\n",
       "    <tr>\n",
       "      <th>5/1/2023</th>\n",
       "      <td>-1.345678</td>\n",
       "      <td>0.345678</td>\n",
       "      <td>0.345687</td>\n",
       "      <td>0.346789</td>\n",
       "    </tr>\n",
       "    <tr>\n",
       "      <th>6/1/2023</th>\n",
       "      <td>0.345678</td>\n",
       "      <td>-0.987645</td>\n",
       "      <td>-0.347459</td>\n",
       "      <td>-0.478638</td>\n",
       "    </tr>\n",
       "    <tr>\n",
       "      <th>7/1/2023</th>\n",
       "      <td>-1.754567</td>\n",
       "      <td>0.345678</td>\n",
       "      <td>0.015085</td>\n",
       "      <td>0.015085</td>\n",
       "    </tr>\n",
       "    <tr>\n",
       "      <th>8/1/2023</th>\n",
       "      <td>0.456789</td>\n",
       "      <td>0.768834</td>\n",
       "      <td>0.345687</td>\n",
       "      <td>0.287654</td>\n",
       "    </tr>\n",
       "    <tr>\n",
       "      <th>9/1/2023</th>\n",
       "      <td>-0.345678</td>\n",
       "      <td>0.342378</td>\n",
       "      <td>0.347896</td>\n",
       "      <td>0.348932</td>\n",
       "    </tr>\n",
       "    <tr>\n",
       "      <th>10/1/2023</th>\n",
       "      <td>0.457894</td>\n",
       "      <td>0.455678</td>\n",
       "      <td>0.235698</td>\n",
       "      <td>-0.232222</td>\n",
       "    </tr>\n",
       "  </tbody>\n",
       "</table>\n",
       "</div>"
      ],
      "text/plain": [
       "                  A         B         C         D\n",
       "1/1/2023   0.983456  0.345678 -0.345678  0.345678\n",
       "2/1/2023  -0.456788  0.236789  0.765435  0.236789\n",
       "3/1/2023   0.456789  0.236789  0.234576  0.237893\n",
       "4/1/2023   0.456789 -0.346789 -0.679345  0.234567\n",
       "5/1/2023  -1.345678  0.345678  0.345687  0.346789\n",
       "6/1/2023   0.345678 -0.987645 -0.347459 -0.478638\n",
       "7/1/2023  -1.754567  0.345678  0.015085  0.015085\n",
       "8/1/2023   0.456789  0.768834  0.345687  0.287654\n",
       "9/1/2023  -0.345678  0.342378  0.347896  0.348932\n",
       "10/1/2023  0.457894  0.455678  0.235698 -0.232222"
      ]
     },
     "execution_count": 74,
     "metadata": {},
     "output_type": "execute_result"
    }
   ],
   "source": [
    "df2"
   ]
  },
  {
   "cell_type": "code",
   "execution_count": 77,
   "id": "4e3d6bf5",
   "metadata": {},
   "outputs": [],
   "source": [
    "#df2.plot.line(x=df2.index,y='C')"
   ]
  },
  {
   "cell_type": "code",
   "execution_count": 1,
   "id": "8fa0b836",
   "metadata": {},
   "outputs": [],
   "source": [
    "import pandas as pd"
   ]
  },
  {
   "cell_type": "code",
   "execution_count": 41,
   "id": "2efb29a5",
   "metadata": {},
   "outputs": [],
   "source": [
    "df1 = pd.read_csv('DF1.csv')"
   ]
  },
  {
   "cell_type": "code",
   "execution_count": 40,
   "id": "77c62ad2",
   "metadata": {},
   "outputs": [
    {
     "data": {
      "text/html": [
       "<div>\n",
       "<style scoped>\n",
       "    .dataframe tbody tr th:only-of-type {\n",
       "        vertical-align: middle;\n",
       "    }\n",
       "\n",
       "    .dataframe tbody tr th {\n",
       "        vertical-align: top;\n",
       "    }\n",
       "\n",
       "    .dataframe thead th {\n",
       "        text-align: right;\n",
       "    }\n",
       "</style>\n",
       "<table border=\"1\" class=\"dataframe\">\n",
       "  <thead>\n",
       "    <tr style=\"text-align: right;\">\n",
       "      <th></th>\n",
       "      <th>A</th>\n",
       "      <th>B</th>\n",
       "      <th>C</th>\n",
       "      <th>D</th>\n",
       "    </tr>\n",
       "  </thead>\n",
       "  <tbody>\n",
       "    <tr>\n",
       "      <th>0</th>\n",
       "      <td>0.345675</td>\n",
       "      <td>0.234567</td>\n",
       "      <td>0.122345</td>\n",
       "      <td>0.345678</td>\n",
       "    </tr>\n",
       "    <tr>\n",
       "      <th>1</th>\n",
       "      <td>0.567894</td>\n",
       "      <td>0.778899</td>\n",
       "      <td>0.234567</td>\n",
       "      <td>0.850519</td>\n",
       "    </tr>\n",
       "    <tr>\n",
       "      <th>2</th>\n",
       "      <td>0.871345</td>\n",
       "      <td>0.345678</td>\n",
       "      <td>0.567893</td>\n",
       "      <td>0.347865</td>\n",
       "    </tr>\n",
       "    <tr>\n",
       "      <th>3</th>\n",
       "      <td>0.345612</td>\n",
       "      <td>0.345678</td>\n",
       "      <td>0.236789</td>\n",
       "      <td>0.456728</td>\n",
       "    </tr>\n",
       "    <tr>\n",
       "      <th>4</th>\n",
       "      <td>0.451234</td>\n",
       "      <td>0.678945</td>\n",
       "      <td>0.984567</td>\n",
       "      <td>0.341780</td>\n",
       "    </tr>\n",
       "  </tbody>\n",
       "</table>\n",
       "</div>"
      ],
      "text/plain": [
       "          A         B         C         D\n",
       "0  0.345675  0.234567  0.122345  0.345678\n",
       "1  0.567894  0.778899  0.234567  0.850519\n",
       "2  0.871345  0.345678  0.567893  0.347865\n",
       "3  0.345612  0.345678  0.236789  0.456728\n",
       "4  0.451234  0.678945  0.984567  0.341780"
      ]
     },
     "execution_count": 40,
     "metadata": {},
     "output_type": "execute_result"
    }
   ],
   "source": [
    "df1.head()"
   ]
  },
  {
   "cell_type": "code",
   "execution_count": 7,
   "id": "1d46da10",
   "metadata": {},
   "outputs": [],
   "source": [
    "import seaborn as sns"
   ]
  },
  {
   "cell_type": "code",
   "execution_count": 8,
   "id": "cdc5d628",
   "metadata": {},
   "outputs": [],
   "source": [
    "import matplotlib.pyplot as plt"
   ]
  },
  {
   "cell_type": "code",
   "execution_count": 9,
   "id": "8d58b45a",
   "metadata": {},
   "outputs": [],
   "source": [
    "%matplotlib inline"
   ]
  },
  {
   "cell_type": "code",
   "execution_count": null,
   "id": "58310f49",
   "metadata": {},
   "outputs": [],
   "source": []
  },
  {
   "cell_type": "code",
   "execution_count": null,
   "id": "517d648e",
   "metadata": {},
   "outputs": [],
   "source": []
  },
  {
   "cell_type": "code",
   "execution_count": 2,
   "id": "8a1499fc",
   "metadata": {},
   "outputs": [],
   "source": [
    "# practice  01/11/23"
   ]
  },
  {
   "cell_type": "code",
   "execution_count": 5,
   "id": "f680888d",
   "metadata": {},
   "outputs": [],
   "source": [
    "import pandas as pd"
   ]
  },
  {
   "cell_type": "code",
   "execution_count": 6,
   "id": "41bb4863",
   "metadata": {},
   "outputs": [],
   "source": [
    "df2 = pd.read_csv('DF2.csv')"
   ]
  },
  {
   "cell_type": "code",
   "execution_count": 55,
   "id": "64101957",
   "metadata": {},
   "outputs": [
    {
     "data": {
      "text/html": [
       "<div>\n",
       "<style scoped>\n",
       "    .dataframe tbody tr th:only-of-type {\n",
       "        vertical-align: middle;\n",
       "    }\n",
       "\n",
       "    .dataframe tbody tr th {\n",
       "        vertical-align: top;\n",
       "    }\n",
       "\n",
       "    .dataframe thead th {\n",
       "        text-align: right;\n",
       "    }\n",
       "</style>\n",
       "<table border=\"1\" class=\"dataframe\">\n",
       "  <thead>\n",
       "    <tr style=\"text-align: right;\">\n",
       "      <th></th>\n",
       "      <th>A</th>\n",
       "      <th>B</th>\n",
       "      <th>C</th>\n",
       "      <th>D</th>\n",
       "    </tr>\n",
       "  </thead>\n",
       "  <tbody>\n",
       "    <tr>\n",
       "      <th>1/1/2023</th>\n",
       "      <td>0.983456</td>\n",
       "      <td>0.345678</td>\n",
       "      <td>-0.345678</td>\n",
       "      <td>0.345678</td>\n",
       "    </tr>\n",
       "    <tr>\n",
       "      <th>2/1/2023</th>\n",
       "      <td>-0.456788</td>\n",
       "      <td>0.236789</td>\n",
       "      <td>0.765435</td>\n",
       "      <td>0.236789</td>\n",
       "    </tr>\n",
       "    <tr>\n",
       "      <th>3/1/2023</th>\n",
       "      <td>0.456789</td>\n",
       "      <td>0.236789</td>\n",
       "      <td>0.234576</td>\n",
       "      <td>0.237893</td>\n",
       "    </tr>\n",
       "    <tr>\n",
       "      <th>4/1/2023</th>\n",
       "      <td>0.456789</td>\n",
       "      <td>-0.346789</td>\n",
       "      <td>-0.679345</td>\n",
       "      <td>0.234567</td>\n",
       "    </tr>\n",
       "    <tr>\n",
       "      <th>5/1/2023</th>\n",
       "      <td>-1.345678</td>\n",
       "      <td>0.345678</td>\n",
       "      <td>0.345687</td>\n",
       "      <td>0.346789</td>\n",
       "    </tr>\n",
       "    <tr>\n",
       "      <th>6/1/2023</th>\n",
       "      <td>0.345678</td>\n",
       "      <td>-0.987645</td>\n",
       "      <td>-0.347459</td>\n",
       "      <td>-0.478638</td>\n",
       "    </tr>\n",
       "    <tr>\n",
       "      <th>7/1/2023</th>\n",
       "      <td>-1.754567</td>\n",
       "      <td>0.345678</td>\n",
       "      <td>0.015085</td>\n",
       "      <td>0.015085</td>\n",
       "    </tr>\n",
       "    <tr>\n",
       "      <th>8/1/2023</th>\n",
       "      <td>0.456789</td>\n",
       "      <td>0.768834</td>\n",
       "      <td>0.345687</td>\n",
       "      <td>0.287654</td>\n",
       "    </tr>\n",
       "    <tr>\n",
       "      <th>9/1/2023</th>\n",
       "      <td>-0.345678</td>\n",
       "      <td>0.342378</td>\n",
       "      <td>0.347896</td>\n",
       "      <td>0.348932</td>\n",
       "    </tr>\n",
       "    <tr>\n",
       "      <th>10/1/2023</th>\n",
       "      <td>0.457894</td>\n",
       "      <td>0.455678</td>\n",
       "      <td>0.235698</td>\n",
       "      <td>-0.232222</td>\n",
       "    </tr>\n",
       "  </tbody>\n",
       "</table>\n",
       "</div>"
      ],
      "text/plain": [
       "                  A         B         C         D\n",
       "1/1/2023   0.983456  0.345678 -0.345678  0.345678\n",
       "2/1/2023  -0.456788  0.236789  0.765435  0.236789\n",
       "3/1/2023   0.456789  0.236789  0.234576  0.237893\n",
       "4/1/2023   0.456789 -0.346789 -0.679345  0.234567\n",
       "5/1/2023  -1.345678  0.345678  0.345687  0.346789\n",
       "6/1/2023   0.345678 -0.987645 -0.347459 -0.478638\n",
       "7/1/2023  -1.754567  0.345678  0.015085  0.015085\n",
       "8/1/2023   0.456789  0.768834  0.345687  0.287654\n",
       "9/1/2023  -0.345678  0.342378  0.347896  0.348932\n",
       "10/1/2023  0.457894  0.455678  0.235698 -0.232222"
      ]
     },
     "execution_count": 55,
     "metadata": {},
     "output_type": "execute_result"
    }
   ],
   "source": [
    "df2"
   ]
  },
  {
   "cell_type": "code",
   "execution_count": 38,
   "id": "8787f411",
   "metadata": {},
   "outputs": [
    {
     "data": {
      "text/html": [
       "<div>\n",
       "<style scoped>\n",
       "    .dataframe tbody tr th:only-of-type {\n",
       "        vertical-align: middle;\n",
       "    }\n",
       "\n",
       "    .dataframe tbody tr th {\n",
       "        vertical-align: top;\n",
       "    }\n",
       "\n",
       "    .dataframe thead th {\n",
       "        text-align: right;\n",
       "    }\n",
       "</style>\n",
       "<table border=\"1\" class=\"dataframe\">\n",
       "  <thead>\n",
       "    <tr style=\"text-align: right;\">\n",
       "      <th></th>\n",
       "      <th>A</th>\n",
       "      <th>B</th>\n",
       "      <th>C</th>\n",
       "      <th>D</th>\n",
       "    </tr>\n",
       "  </thead>\n",
       "  <tbody>\n",
       "    <tr>\n",
       "      <th>1/1/2023</th>\n",
       "      <td>0.983456</td>\n",
       "      <td>0.345678</td>\n",
       "      <td>-0.345678</td>\n",
       "      <td>0.345678</td>\n",
       "    </tr>\n",
       "    <tr>\n",
       "      <th>2/1/2023</th>\n",
       "      <td>-0.456788</td>\n",
       "      <td>0.236789</td>\n",
       "      <td>0.765435</td>\n",
       "      <td>0.236789</td>\n",
       "    </tr>\n",
       "    <tr>\n",
       "      <th>3/1/2023</th>\n",
       "      <td>0.456789</td>\n",
       "      <td>0.236789</td>\n",
       "      <td>0.234576</td>\n",
       "      <td>0.237893</td>\n",
       "    </tr>\n",
       "    <tr>\n",
       "      <th>4/1/2023</th>\n",
       "      <td>0.456789</td>\n",
       "      <td>-0.346789</td>\n",
       "      <td>-0.679345</td>\n",
       "      <td>0.234567</td>\n",
       "    </tr>\n",
       "    <tr>\n",
       "      <th>5/1/2023</th>\n",
       "      <td>-1.345678</td>\n",
       "      <td>0.345678</td>\n",
       "      <td>0.345687</td>\n",
       "      <td>0.346789</td>\n",
       "    </tr>\n",
       "  </tbody>\n",
       "</table>\n",
       "</div>"
      ],
      "text/plain": [
       "                 A         B         C         D\n",
       "1/1/2023  0.983456  0.345678 -0.345678  0.345678\n",
       "2/1/2023 -0.456788  0.236789  0.765435  0.236789\n",
       "3/1/2023  0.456789  0.236789  0.234576  0.237893\n",
       "4/1/2023  0.456789 -0.346789 -0.679345  0.234567\n",
       "5/1/2023 -1.345678  0.345678  0.345687  0.346789"
      ]
     },
     "execution_count": 38,
     "metadata": {},
     "output_type": "execute_result"
    }
   ],
   "source": [
    "df2.head()"
   ]
  },
  {
   "cell_type": "code",
   "execution_count": 37,
   "id": "9fb9b9a7",
   "metadata": {},
   "outputs": [
    {
     "data": {
      "text/plain": [
       "<AxesSubplot:>"
      ]
     },
     "execution_count": 37,
     "metadata": {},
     "output_type": "execute_result"
    },
    {
     "data": {
      "image/png": "[encoded data removed]",
      "text/plain": [
       "<Figure size 432x288 with 1 Axes>"
      ]
     },
     "metadata": {
      "needs_background": "light"
     },
     "output_type": "display_data"
    }
   ],
   "source": [
    "df2.plot(kind='bar')"
   ]
  },
  {
   "cell_type": "code",
   "execution_count": 56,
   "id": "3665ea87",
   "metadata": {},
   "outputs": [
    {
     "data": {
      "text/plain": [
       "<AxesSubplot:>"
      ]
     },
     "execution_count": 56,
     "metadata": {},
     "output_type": "execute_result"
    },
    {
     "data": {
      "image/png": "[encoded data removed]",
      "text/plain": [
       "<Figure size 432x288 with 1 Axes>"
      ]
     },
     "metadata": {
      "needs_background": "light"
     },
     "output_type": "display_data"
    }
   ],
   "source": [
    "df2.plot(kind='bar')"
   ]
  },
  {
   "cell_type": "code",
   "execution_count": 57,
   "id": "f7ac029a",
   "metadata": {},
   "outputs": [],
   "source": [
    "df1 = pd.read_csv('DF1.csv')"
   ]
  },
  {
   "cell_type": "code",
   "execution_count": 58,
   "id": "7de3620b",
   "metadata": {},
   "outputs": [
    {
     "data": {
      "text/html": [
       "<div>\n",
       "<style scoped>\n",
       "    .dataframe tbody tr th:only-of-type {\n",
       "        vertical-align: middle;\n",
       "    }\n",
       "\n",
       "    .dataframe tbody tr th {\n",
       "        vertical-align: top;\n",
       "    }\n",
       "\n",
       "    .dataframe thead th {\n",
       "        text-align: right;\n",
       "    }\n",
       "</style>\n",
       "<table border=\"1\" class=\"dataframe\">\n",
       "  <thead>\n",
       "    <tr style=\"text-align: right;\">\n",
       "      <th></th>\n",
       "      <th>A</th>\n",
       "      <th>B</th>\n",
       "      <th>C</th>\n",
       "      <th>D</th>\n",
       "    </tr>\n",
       "  </thead>\n",
       "  <tbody>\n",
       "    <tr>\n",
       "      <th>0</th>\n",
       "      <td>0.345675</td>\n",
       "      <td>0.234567</td>\n",
       "      <td>0.122345</td>\n",
       "      <td>0.345678</td>\n",
       "    </tr>\n",
       "    <tr>\n",
       "      <th>1</th>\n",
       "      <td>0.567894</td>\n",
       "      <td>0.778899</td>\n",
       "      <td>0.234567</td>\n",
       "      <td>0.850519</td>\n",
       "    </tr>\n",
       "    <tr>\n",
       "      <th>2</th>\n",
       "      <td>0.871345</td>\n",
       "      <td>0.345678</td>\n",
       "      <td>0.567893</td>\n",
       "      <td>0.347865</td>\n",
       "    </tr>\n",
       "    <tr>\n",
       "      <th>3</th>\n",
       "      <td>0.345612</td>\n",
       "      <td>0.345678</td>\n",
       "      <td>0.236789</td>\n",
       "      <td>0.456728</td>\n",
       "    </tr>\n",
       "    <tr>\n",
       "      <th>4</th>\n",
       "      <td>0.451234</td>\n",
       "      <td>0.678945</td>\n",
       "      <td>0.984567</td>\n",
       "      <td>0.341780</td>\n",
       "    </tr>\n",
       "    <tr>\n",
       "      <th>5</th>\n",
       "      <td>0.762345</td>\n",
       "      <td>0.941567</td>\n",
       "      <td>0.564567</td>\n",
       "      <td>0.345678</td>\n",
       "    </tr>\n",
       "    <tr>\n",
       "      <th>6</th>\n",
       "      <td>0.451245</td>\n",
       "      <td>0.451423</td>\n",
       "      <td>0.456713</td>\n",
       "      <td>0.456789</td>\n",
       "    </tr>\n",
       "    <tr>\n",
       "      <th>7</th>\n",
       "      <td>0.345678</td>\n",
       "      <td>0.347893</td>\n",
       "      <td>0.768899</td>\n",
       "      <td>0.678900</td>\n",
       "    </tr>\n",
       "    <tr>\n",
       "      <th>8</th>\n",
       "      <td>0.234567</td>\n",
       "      <td>0.232726</td>\n",
       "      <td>0.569923</td>\n",
       "      <td>0.456731</td>\n",
       "    </tr>\n",
       "    <tr>\n",
       "      <th>9</th>\n",
       "      <td>0.345513</td>\n",
       "      <td>0.456789</td>\n",
       "      <td>0.567834</td>\n",
       "      <td>0.345678</td>\n",
       "    </tr>\n",
       "  </tbody>\n",
       "</table>\n",
       "</div>"
      ],
      "text/plain": [
       "          A         B         C         D\n",
       "0  0.345675  0.234567  0.122345  0.345678\n",
       "1  0.567894  0.778899  0.234567  0.850519\n",
       "2  0.871345  0.345678  0.567893  0.347865\n",
       "3  0.345612  0.345678  0.236789  0.456728\n",
       "4  0.451234  0.678945  0.984567  0.341780\n",
       "5  0.762345  0.941567  0.564567  0.345678\n",
       "6  0.451245  0.451423  0.456713  0.456789\n",
       "7  0.345678  0.347893  0.768899  0.678900\n",
       "8  0.234567  0.232726  0.569923  0.456731\n",
       "9  0.345513  0.456789  0.567834  0.345678"
      ]
     },
     "execution_count": 58,
     "metadata": {},
     "output_type": "execute_result"
    }
   ],
   "source": [
    "df1"
   ]
  },
  {
   "cell_type": "code",
   "execution_count": 59,
   "id": "9bb26e43",
   "metadata": {},
   "outputs": [
    {
     "data": {
      "text/plain": [
       "<AxesSubplot:>"
      ]
     },
     "execution_count": 59,
     "metadata": {},
     "output_type": "execute_result"
    },
    {
     "data": {
      "image/png": "[encoded data removed]",
      "text/plain": [
       "<Figure size 432x288 with 1 Axes>"
      ]
     },
     "metadata": {
      "needs_background": "light"
     },
     "output_type": "display_data"
    }
   ],
   "source": [
    "df1['A'].plot(kind='bar')"
   ]
  },
  {
   "cell_type": "code",
   "execution_count": 60,
   "id": "6a67b7db",
   "metadata": {},
   "outputs": [
    {
     "data": {
      "text/html": [
       "<div>\n",
       "<style scoped>\n",
       "    .dataframe tbody tr th:only-of-type {\n",
       "        vertical-align: middle;\n",
       "    }\n",
       "\n",
       "    .dataframe tbody tr th {\n",
       "        vertical-align: top;\n",
       "    }\n",
       "\n",
       "    .dataframe thead th {\n",
       "        text-align: right;\n",
       "    }\n",
       "</style>\n",
       "<table border=\"1\" class=\"dataframe\">\n",
       "  <thead>\n",
       "    <tr style=\"text-align: right;\">\n",
       "      <th></th>\n",
       "      <th>A</th>\n",
       "      <th>B</th>\n",
       "      <th>C</th>\n",
       "      <th>D</th>\n",
       "    </tr>\n",
       "  </thead>\n",
       "  <tbody>\n",
       "    <tr>\n",
       "      <th>1/1/2023</th>\n",
       "      <td>0.983456</td>\n",
       "      <td>0.345678</td>\n",
       "      <td>-0.345678</td>\n",
       "      <td>0.345678</td>\n",
       "    </tr>\n",
       "    <tr>\n",
       "      <th>2/1/2023</th>\n",
       "      <td>-0.456788</td>\n",
       "      <td>0.236789</td>\n",
       "      <td>0.765435</td>\n",
       "      <td>0.236789</td>\n",
       "    </tr>\n",
       "    <tr>\n",
       "      <th>3/1/2023</th>\n",
       "      <td>0.456789</td>\n",
       "      <td>0.236789</td>\n",
       "      <td>0.234576</td>\n",
       "      <td>0.237893</td>\n",
       "    </tr>\n",
       "    <tr>\n",
       "      <th>4/1/2023</th>\n",
       "      <td>0.456789</td>\n",
       "      <td>-0.346789</td>\n",
       "      <td>-0.679345</td>\n",
       "      <td>0.234567</td>\n",
       "    </tr>\n",
       "    <tr>\n",
       "      <th>5/1/2023</th>\n",
       "      <td>-1.345678</td>\n",
       "      <td>0.345678</td>\n",
       "      <td>0.345687</td>\n",
       "      <td>0.346789</td>\n",
       "    </tr>\n",
       "    <tr>\n",
       "      <th>6/1/2023</th>\n",
       "      <td>0.345678</td>\n",
       "      <td>-0.987645</td>\n",
       "      <td>-0.347459</td>\n",
       "      <td>-0.478638</td>\n",
       "    </tr>\n",
       "    <tr>\n",
       "      <th>7/1/2023</th>\n",
       "      <td>-1.754567</td>\n",
       "      <td>0.345678</td>\n",
       "      <td>0.015085</td>\n",
       "      <td>0.015085</td>\n",
       "    </tr>\n",
       "    <tr>\n",
       "      <th>8/1/2023</th>\n",
       "      <td>0.456789</td>\n",
       "      <td>0.768834</td>\n",
       "      <td>0.345687</td>\n",
       "      <td>0.287654</td>\n",
       "    </tr>\n",
       "    <tr>\n",
       "      <th>9/1/2023</th>\n",
       "      <td>-0.345678</td>\n",
       "      <td>0.342378</td>\n",
       "      <td>0.347896</td>\n",
       "      <td>0.348932</td>\n",
       "    </tr>\n",
       "    <tr>\n",
       "      <th>10/1/2023</th>\n",
       "      <td>0.457894</td>\n",
       "      <td>0.455678</td>\n",
       "      <td>0.235698</td>\n",
       "      <td>-0.232222</td>\n",
       "    </tr>\n",
       "  </tbody>\n",
       "</table>\n",
       "</div>"
      ],
      "text/plain": [
       "                  A         B         C         D\n",
       "1/1/2023   0.983456  0.345678 -0.345678  0.345678\n",
       "2/1/2023  -0.456788  0.236789  0.765435  0.236789\n",
       "3/1/2023   0.456789  0.236789  0.234576  0.237893\n",
       "4/1/2023   0.456789 -0.346789 -0.679345  0.234567\n",
       "5/1/2023  -1.345678  0.345678  0.345687  0.346789\n",
       "6/1/2023   0.345678 -0.987645 -0.347459 -0.478638\n",
       "7/1/2023  -1.754567  0.345678  0.015085  0.015085\n",
       "8/1/2023   0.456789  0.768834  0.345687  0.287654\n",
       "9/1/2023  -0.345678  0.342378  0.347896  0.348932\n",
       "10/1/2023  0.457894  0.455678  0.235698 -0.232222"
      ]
     },
     "execution_count": 60,
     "metadata": {},
     "output_type": "execute_result"
    }
   ],
   "source": [
    "df2"
   ]
  },
  {
   "cell_type": "code",
   "execution_count": 61,
   "id": "c0e0a6ce",
   "metadata": {},
   "outputs": [
    {
     "data": {
      "text/plain": [
       "<AxesSubplot:>"
      ]
     },
     "execution_count": 61,
     "metadata": {},
     "output_type": "execute_result"
    },
    {
     "data": {
      "image/png": "[encoded data removed]",
      "text/plain": [
       "<Figure size 432x288 with 1 Axes>"
      ]
     },
     "metadata": {
      "needs_background": "light"
     },
     "output_type": "display_data"
    }
   ],
   "source": [
    "df1.plot.area()"
   ]
  },
  {
   "cell_type": "code",
   "execution_count": 23,
   "id": "2a7c2839",
   "metadata": {},
   "outputs": [
    {
     "data": {
      "text/plain": [
       "<AxesSubplot:>"
      ]
     },
     "execution_count": 23,
     "metadata": {},
     "output_type": "execute_result"
    },
    {
     "data": {
      "image/png": "[encoded data removed]",
      "text/plain": [
       "<Figure size 432x288 with 1 Axes>"
      ]
     },
     "metadata": {
      "needs_background": "light"
     },
     "output_type": "display_data"
    }
   ],
   "source": [
    "df1.plot.area(alpha=0.4)"
   ]
  },
  {
   "cell_type": "code",
   "execution_count": 62,
   "id": "3ce269f3",
   "metadata": {},
   "outputs": [
    {
     "data": {
      "text/plain": [
       "<AxesSubplot:>"
      ]
     },
     "execution_count": 62,
     "metadata": {},
     "output_type": "execute_result"
    },
    {
     "data": {
      "image/png": "[encoded data removed]",
      "text/plain": [
       "<Figure size 432x288 with 1 Axes>"
      ]
     },
     "metadata": {
      "needs_background": "light"
     },
     "output_type": "display_data"
    }
   ],
   "source": [
    "df1.plot.bar()"
   ]
  },
  {
   "cell_type": "code",
   "execution_count": 63,
   "id": "f25e40c5",
   "metadata": {},
   "outputs": [
    {
     "data": {
      "text/plain": [
       "<AxesSubplot:>"
      ]
     },
     "execution_count": 63,
     "metadata": {},
     "output_type": "execute_result"
    },
    {
     "data": {
      "image/png": "[encoded data removed]",
      "text/plain": [
       "<Figure size 432x288 with 1 Axes>"
      ]
     },
     "metadata": {
      "needs_background": "light"
     },
     "output_type": "display_data"
    }
   ],
   "source": [
    "df1.plot.bar(stacked=True)"
   ]
  },
  {
   "cell_type": "code",
   "execution_count": 29,
   "id": "c3f71c14",
   "metadata": {},
   "outputs": [],
   "source": [
    "import seaborn as sns"
   ]
  },
  {
   "cell_type": "code",
   "execution_count": 64,
   "id": "6131bab0",
   "metadata": {},
   "outputs": [
    {
     "data": {
      "text/plain": [
       "<AxesSubplot:>"
      ]
     },
     "execution_count": 64,
     "metadata": {},
     "output_type": "execute_result"
    },
    {
     "data": {
      "image/png": "[encoded data removed]",
      "text/plain": [
       "<Figure size 432x288 with 1 Axes>"
      ]
     },
     "metadata": {
      "needs_background": "light"
     },
     "output_type": "display_data"
    }
   ],
   "source": [
    "df1.plot.bar(stacked=True)"
   ]
  },
  {
   "cell_type": "code",
   "execution_count": 65,
   "id": "c3f0c47b",
   "metadata": {},
   "outputs": [
    {
     "data": {
      "text/plain": [
       "<AxesSubplot:ylabel='Frequency'>"
      ]
     },
     "execution_count": 65,
     "metadata": {},
     "output_type": "execute_result"
    },
    {
     "data": {
      "image/png": "[encoded data removed]",
      "text/plain": [
       "<Figure size 432x288 with 1 Axes>"
      ]
     },
     "metadata": {
      "needs_background": "light"
     },
     "output_type": "display_data"
    }
   ],
   "source": [
    "df2.plot.hist(bins=5)"
   ]
  },
  {
   "cell_type": "code",
   "execution_count": 66,
   "id": "be0a3510",
   "metadata": {},
   "outputs": [
    {
     "data": {
      "text/plain": [
       "<AxesSubplot:>"
      ]
     },
     "execution_count": 66,
     "metadata": {},
     "output_type": "execute_result"
    },
    {
     "data": {
      "image/png": "[encoded data removed]",
      "text/plain": [
       "<Figure size 432x288 with 1 Axes>"
      ]
     },
     "metadata": {
      "needs_background": "light"
     },
     "output_type": "display_data"
    }
   ],
   "source": [
    "df1.plot.area(alpha=0.4)"
   ]
  },
  {
   "cell_type": "code",
   "execution_count": 67,
   "id": "a9675e78",
   "metadata": {},
   "outputs": [
    {
     "data": {
      "text/html": [
       "<div>\n",
       "<style scoped>\n",
       "    .dataframe tbody tr th:only-of-type {\n",
       "        vertical-align: middle;\n",
       "    }\n",
       "\n",
       "    .dataframe tbody tr th {\n",
       "        vertical-align: top;\n",
       "    }\n",
       "\n",
       "    .dataframe thead th {\n",
       "        text-align: right;\n",
       "    }\n",
       "</style>\n",
       "<table border=\"1\" class=\"dataframe\">\n",
       "  <thead>\n",
       "    <tr style=\"text-align: right;\">\n",
       "      <th></th>\n",
       "      <th>A</th>\n",
       "      <th>B</th>\n",
       "      <th>C</th>\n",
       "      <th>D</th>\n",
       "    </tr>\n",
       "  </thead>\n",
       "  <tbody>\n",
       "    <tr>\n",
       "      <th>0</th>\n",
       "      <td>0.345675</td>\n",
       "      <td>0.234567</td>\n",
       "      <td>0.122345</td>\n",
       "      <td>0.345678</td>\n",
       "    </tr>\n",
       "    <tr>\n",
       "      <th>1</th>\n",
       "      <td>0.567894</td>\n",
       "      <td>0.778899</td>\n",
       "      <td>0.234567</td>\n",
       "      <td>0.850519</td>\n",
       "    </tr>\n",
       "    <tr>\n",
       "      <th>2</th>\n",
       "      <td>0.871345</td>\n",
       "      <td>0.345678</td>\n",
       "      <td>0.567893</td>\n",
       "      <td>0.347865</td>\n",
       "    </tr>\n",
       "    <tr>\n",
       "      <th>3</th>\n",
       "      <td>0.345612</td>\n",
       "      <td>0.345678</td>\n",
       "      <td>0.236789</td>\n",
       "      <td>0.456728</td>\n",
       "    </tr>\n",
       "    <tr>\n",
       "      <th>4</th>\n",
       "      <td>0.451234</td>\n",
       "      <td>0.678945</td>\n",
       "      <td>0.984567</td>\n",
       "      <td>0.341780</td>\n",
       "    </tr>\n",
       "    <tr>\n",
       "      <th>5</th>\n",
       "      <td>0.762345</td>\n",
       "      <td>0.941567</td>\n",
       "      <td>0.564567</td>\n",
       "      <td>0.345678</td>\n",
       "    </tr>\n",
       "    <tr>\n",
       "      <th>6</th>\n",
       "      <td>0.451245</td>\n",
       "      <td>0.451423</td>\n",
       "      <td>0.456713</td>\n",
       "      <td>0.456789</td>\n",
       "    </tr>\n",
       "    <tr>\n",
       "      <th>7</th>\n",
       "      <td>0.345678</td>\n",
       "      <td>0.347893</td>\n",
       "      <td>0.768899</td>\n",
       "      <td>0.678900</td>\n",
       "    </tr>\n",
       "    <tr>\n",
       "      <th>8</th>\n",
       "      <td>0.234567</td>\n",
       "      <td>0.232726</td>\n",
       "      <td>0.569923</td>\n",
       "      <td>0.456731</td>\n",
       "    </tr>\n",
       "    <tr>\n",
       "      <th>9</th>\n",
       "      <td>0.345513</td>\n",
       "      <td>0.456789</td>\n",
       "      <td>0.567834</td>\n",
       "      <td>0.345678</td>\n",
       "    </tr>\n",
       "  </tbody>\n",
       "</table>\n",
       "</div>"
      ],
      "text/plain": [
       "          A         B         C         D\n",
       "0  0.345675  0.234567  0.122345  0.345678\n",
       "1  0.567894  0.778899  0.234567  0.850519\n",
       "2  0.871345  0.345678  0.567893  0.347865\n",
       "3  0.345612  0.345678  0.236789  0.456728\n",
       "4  0.451234  0.678945  0.984567  0.341780\n",
       "5  0.762345  0.941567  0.564567  0.345678\n",
       "6  0.451245  0.451423  0.456713  0.456789\n",
       "7  0.345678  0.347893  0.768899  0.678900\n",
       "8  0.234567  0.232726  0.569923  0.456731\n",
       "9  0.345513  0.456789  0.567834  0.345678"
      ]
     },
     "execution_count": 67,
     "metadata": {},
     "output_type": "execute_result"
    }
   ],
   "source": [
    "df1"
   ]
  },
  {
   "cell_type": "code",
   "execution_count": 78,
   "id": "e298d203",
   "metadata": {},
   "outputs": [],
   "source": [
    "import matplotlib.pyplot as plt"
   ]
  },
  {
   "cell_type": "code",
   "execution_count": 79,
   "id": "59472b8d",
   "metadata": {},
   "outputs": [],
   "source": [
    "%matplotlib inline\n",
    "import seaborn as sns"
   ]
  },
  {
   "cell_type": "code",
   "execution_count": 80,
   "id": "a16b5040",
   "metadata": {},
   "outputs": [],
   "source": [
    "#df2.plot.line(x=df2.index,y='B')"
   ]
  },
  {
   "cell_type": "code",
   "execution_count": 81,
   "id": "183e943b",
   "metadata": {},
   "outputs": [
    {
     "data": {
      "text/plain": [
       "<AxesSubplot:xlabel='A', ylabel='B'>"
      ]
     },
     "execution_count": 81,
     "metadata": {},
     "output_type": "execute_result"
    },
    {
     "data": {
      "image/png": "[encoded data removed]",
      "text/plain": [
       "<Figure size 432x288 with 1 Axes>"
      ]
     },
     "metadata": {
      "needs_background": "light"
     },
     "output_type": "display_data"
    }
   ],
   "source": [
    "df2.plot.scatter(x='A',y='B')"
   ]
  },
  {
   "cell_type": "code",
   "execution_count": 82,
   "id": "cb994384",
   "metadata": {},
   "outputs": [
    {
     "data": {
      "text/plain": [
       "<AxesSubplot:xlabel='A', ylabel='B'>"
      ]
     },
     "execution_count": 82,
     "metadata": {},
     "output_type": "execute_result"
    },
    {
     "data": {
      "image/png": "[encoded data removed]",
      "text/plain": [
       "<Figure size 432x288 with 2 Axes>"
      ]
     },
     "metadata": {
      "needs_background": "light"
     },
     "output_type": "display_data"
    }
   ],
   "source": [
    "df2.plot.scatter(x='A',y='B',c='C')"
   ]
  },
  {
   "cell_type": "code",
   "execution_count": 83,
   "id": "36973618",
   "metadata": {},
   "outputs": [
    {
     "data": {
      "text/html": [
       "<div>\n",
       "<style scoped>\n",
       "    .dataframe tbody tr th:only-of-type {\n",
       "        vertical-align: middle;\n",
       "    }\n",
       "\n",
       "    .dataframe tbody tr th {\n",
       "        vertical-align: top;\n",
       "    }\n",
       "\n",
       "    .dataframe thead th {\n",
       "        text-align: right;\n",
       "    }\n",
       "</style>\n",
       "<table border=\"1\" class=\"dataframe\">\n",
       "  <thead>\n",
       "    <tr style=\"text-align: right;\">\n",
       "      <th></th>\n",
       "      <th>A</th>\n",
       "      <th>B</th>\n",
       "      <th>C</th>\n",
       "      <th>D</th>\n",
       "    </tr>\n",
       "  </thead>\n",
       "  <tbody>\n",
       "    <tr>\n",
       "      <th>1/1/2023</th>\n",
       "      <td>0.983456</td>\n",
       "      <td>0.345678</td>\n",
       "      <td>-0.345678</td>\n",
       "      <td>0.345678</td>\n",
       "    </tr>\n",
       "    <tr>\n",
       "      <th>2/1/2023</th>\n",
       "      <td>-0.456788</td>\n",
       "      <td>0.236789</td>\n",
       "      <td>0.765435</td>\n",
       "      <td>0.236789</td>\n",
       "    </tr>\n",
       "    <tr>\n",
       "      <th>3/1/2023</th>\n",
       "      <td>0.456789</td>\n",
       "      <td>0.236789</td>\n",
       "      <td>0.234576</td>\n",
       "      <td>0.237893</td>\n",
       "    </tr>\n",
       "    <tr>\n",
       "      <th>4/1/2023</th>\n",
       "      <td>0.456789</td>\n",
       "      <td>-0.346789</td>\n",
       "      <td>-0.679345</td>\n",
       "      <td>0.234567</td>\n",
       "    </tr>\n",
       "    <tr>\n",
       "      <th>5/1/2023</th>\n",
       "      <td>-1.345678</td>\n",
       "      <td>0.345678</td>\n",
       "      <td>0.345687</td>\n",
       "      <td>0.346789</td>\n",
       "    </tr>\n",
       "  </tbody>\n",
       "</table>\n",
       "</div>"
      ],
      "text/plain": [
       "                 A         B         C         D\n",
       "1/1/2023  0.983456  0.345678 -0.345678  0.345678\n",
       "2/1/2023 -0.456788  0.236789  0.765435  0.236789\n",
       "3/1/2023  0.456789  0.236789  0.234576  0.237893\n",
       "4/1/2023  0.456789 -0.346789 -0.679345  0.234567\n",
       "5/1/2023 -1.345678  0.345678  0.345687  0.346789"
      ]
     },
     "execution_count": 83,
     "metadata": {},
     "output_type": "execute_result"
    }
   ],
   "source": [
    "df2.head()"
   ]
  },
  {
   "cell_type": "code",
   "execution_count": 84,
   "id": "a9d0fda3",
   "metadata": {},
   "outputs": [
    {
     "data": {
      "text/plain": [
       "<AxesSubplot:xlabel='A', ylabel='B'>"
      ]
     },
     "execution_count": 84,
     "metadata": {},
     "output_type": "execute_result"
    },
    {
     "data": {
      "image/png": "[encoded data removed]",
      "text/plain": [
       "<Figure size 432x288 with 2 Axes>"
      ]
     },
     "metadata": {
      "needs_background": "light"
     },
     "output_type": "display_data"
    }
   ],
   "source": [
    "df2.plot.scatter(x='A',y='B',c='C',cmap='coolwarm')"
   ]
  },
  {
   "cell_type": "code",
   "execution_count": 89,
   "id": "c5d23d28",
   "metadata": {},
   "outputs": [
    {
     "data": {
      "text/plain": [
       "<AxesSubplot:xlabel='A', ylabel='B'>"
      ]
     },
     "execution_count": 89,
     "metadata": {},
     "output_type": "execute_result"
    },
    {
     "data": {
      "image/png": "[encoded data removed]",
      "text/plain": [
       "<Figure size 432x288 with 1 Axes>"
      ]
     },
     "metadata": {
      "needs_background": "light"
     },
     "output_type": "display_data"
    }
   ],
   "source": [
    "df2.plot.scatter(x='A',y='B',s=df2['C'])"
   ]
  },
  {
   "cell_type": "code",
   "execution_count": 90,
   "id": "6951a204",
   "metadata": {},
   "outputs": [
    {
     "data": {
      "text/plain": [
       "<AxesSubplot:xlabel='A', ylabel='B'>"
      ]
     },
     "execution_count": 90,
     "metadata": {},
     "output_type": "execute_result"
    },
    {
     "data": {
      "image/png": "[encoded data removed]",
      "text/plain": [
       "<Figure size 432x288 with 1 Axes>"
      ]
     },
     "metadata": {
      "needs_background": "light"
     },
     "output_type": "display_data"
    }
   ],
   "source": [
    "df1.plot.scatter(x='A',y='B',s=df1['C']*100)"
   ]
  },
  {
   "cell_type": "code",
   "execution_count": 91,
   "id": "20ad9be3",
   "metadata": {},
   "outputs": [
    {
     "data": {
      "text/html": [
       "<div>\n",
       "<style scoped>\n",
       "    .dataframe tbody tr th:only-of-type {\n",
       "        vertical-align: middle;\n",
       "    }\n",
       "\n",
       "    .dataframe tbody tr th {\n",
       "        vertical-align: top;\n",
       "    }\n",
       "\n",
       "    .dataframe thead th {\n",
       "        text-align: right;\n",
       "    }\n",
       "</style>\n",
       "<table border=\"1\" class=\"dataframe\">\n",
       "  <thead>\n",
       "    <tr style=\"text-align: right;\">\n",
       "      <th></th>\n",
       "      <th>A</th>\n",
       "      <th>B</th>\n",
       "      <th>C</th>\n",
       "      <th>D</th>\n",
       "    </tr>\n",
       "  </thead>\n",
       "  <tbody>\n",
       "    <tr>\n",
       "      <th>1/1/2023</th>\n",
       "      <td>0.983456</td>\n",
       "      <td>0.345678</td>\n",
       "      <td>-0.345678</td>\n",
       "      <td>0.345678</td>\n",
       "    </tr>\n",
       "    <tr>\n",
       "      <th>2/1/2023</th>\n",
       "      <td>-0.456788</td>\n",
       "      <td>0.236789</td>\n",
       "      <td>0.765435</td>\n",
       "      <td>0.236789</td>\n",
       "    </tr>\n",
       "    <tr>\n",
       "      <th>3/1/2023</th>\n",
       "      <td>0.456789</td>\n",
       "      <td>0.236789</td>\n",
       "      <td>0.234576</td>\n",
       "      <td>0.237893</td>\n",
       "    </tr>\n",
       "    <tr>\n",
       "      <th>4/1/2023</th>\n",
       "      <td>0.456789</td>\n",
       "      <td>-0.346789</td>\n",
       "      <td>-0.679345</td>\n",
       "      <td>0.234567</td>\n",
       "    </tr>\n",
       "    <tr>\n",
       "      <th>5/1/2023</th>\n",
       "      <td>-1.345678</td>\n",
       "      <td>0.345678</td>\n",
       "      <td>0.345687</td>\n",
       "      <td>0.346789</td>\n",
       "    </tr>\n",
       "  </tbody>\n",
       "</table>\n",
       "</div>"
      ],
      "text/plain": [
       "                 A         B         C         D\n",
       "1/1/2023  0.983456  0.345678 -0.345678  0.345678\n",
       "2/1/2023 -0.456788  0.236789  0.765435  0.236789\n",
       "3/1/2023  0.456789  0.236789  0.234576  0.237893\n",
       "4/1/2023  0.456789 -0.346789 -0.679345  0.234567\n",
       "5/1/2023 -1.345678  0.345678  0.345687  0.346789"
      ]
     },
     "execution_count": 91,
     "metadata": {},
     "output_type": "execute_result"
    }
   ],
   "source": [
    "df2.head()"
   ]
  },
  {
   "cell_type": "code",
   "execution_count": 92,
   "id": "3206d6a4",
   "metadata": {},
   "outputs": [
    {
     "data": {
      "text/plain": [
       "<AxesSubplot:>"
      ]
     },
     "execution_count": 92,
     "metadata": {},
     "output_type": "execute_result"
    },
    {
     "data": {
      "image/png": "[encoded data removed]",
      "text/plain": [
       "<Figure size 432x288 with 1 Axes>"
      ]
     },
     "metadata": {
      "needs_background": "light"
     },
     "output_type": "display_data"
    }
   ],
   "source": [
    "df2.plot.box()"
   ]
  },
  {
   "cell_type": "code",
   "execution_count": 93,
   "id": "8281dc24",
   "metadata": {},
   "outputs": [],
   "source": [
    "import pandas as pd\n",
    "import numpy as np"
   ]
  },
  {
   "cell_type": "code",
   "execution_count": 95,
   "id": "67701804",
   "metadata": {},
   "outputs": [],
   "source": [
    "df = pd.DataFrame(np.random.randn(1000,2),columns=['a','b'])"
   ]
  },
  {
   "cell_type": "code",
   "execution_count": 96,
   "id": "6091077a",
   "metadata": {},
   "outputs": [
    {
     "data": {
      "text/html": [
       "<div>\n",
       "<style scoped>\n",
       "    .dataframe tbody tr th:only-of-type {\n",
       "        vertical-align: middle;\n",
       "    }\n",
       "\n",
       "    .dataframe tbody tr th {\n",
       "        vertical-align: top;\n",
       "    }\n",
       "\n",
       "    .dataframe thead th {\n",
       "        text-align: right;\n",
       "    }\n",
       "</style>\n",
       "<table border=\"1\" class=\"dataframe\">\n",
       "  <thead>\n",
       "    <tr style=\"text-align: right;\">\n",
       "      <th></th>\n",
       "      <th>a</th>\n",
       "      <th>b</th>\n",
       "    </tr>\n",
       "  </thead>\n",
       "  <tbody>\n",
       "    <tr>\n",
       "      <th>0</th>\n",
       "      <td>1.505149</td>\n",
       "      <td>-0.609645</td>\n",
       "    </tr>\n",
       "    <tr>\n",
       "      <th>1</th>\n",
       "      <td>0.814271</td>\n",
       "      <td>-0.608424</td>\n",
       "    </tr>\n",
       "    <tr>\n",
       "      <th>2</th>\n",
       "      <td>0.703096</td>\n",
       "      <td>-0.485225</td>\n",
       "    </tr>\n",
       "    <tr>\n",
       "      <th>3</th>\n",
       "      <td>-0.100946</td>\n",
       "      <td>-0.932412</td>\n",
       "    </tr>\n",
       "    <tr>\n",
       "      <th>4</th>\n",
       "      <td>0.434066</td>\n",
       "      <td>-0.616396</td>\n",
       "    </tr>\n",
       "  </tbody>\n",
       "</table>\n",
       "</div>"
      ],
      "text/plain": [
       "          a         b\n",
       "0  1.505149 -0.609645\n",
       "1  0.814271 -0.608424\n",
       "2  0.703096 -0.485225\n",
       "3 -0.100946 -0.932412\n",
       "4  0.434066 -0.616396"
      ]
     },
     "execution_count": 96,
     "metadata": {},
     "output_type": "execute_result"
    }
   ],
   "source": [
    "df.head()"
   ]
  },
  {
   "cell_type": "code",
   "execution_count": 97,
   "id": "1ea12148",
   "metadata": {},
   "outputs": [
    {
     "data": {
      "text/plain": [
       "<AxesSubplot:xlabel='a', ylabel='b'>"
      ]
     },
     "execution_count": 97,
     "metadata": {},
     "output_type": "execute_result"
    },
    {
     "data": {
      "image/png": "[encoded data removed]",
      "text/plain": [
       "<Figure size 432x288 with 2 Axes>"
      ]
     },
     "metadata": {
      "needs_background": "light"
     },
     "output_type": "display_data"
    }
   ],
   "source": [
    "df.plot.hexbin(x='a',y='b')"
   ]
  },
  {
   "cell_type": "code",
   "execution_count": 98,
   "id": "ac18215f",
   "metadata": {},
   "outputs": [
    {
     "data": {
      "text/plain": [
       "<AxesSubplot:xlabel='a', ylabel='b'>"
      ]
     },
     "execution_count": 98,
     "metadata": {},
     "output_type": "execute_result"
    },
    {
     "data": {
      "image/png": "[encoded data removed]",
      "text/plain": [
       "<Figure size 432x288 with 2 Axes>"
      ]
     },
     "metadata": {
      "needs_background": "light"
     },
     "output_type": "display_data"
    }
   ],
   "source": [
    "df.plot.hexbin(x='a',y='b',gridsize=25)"
   ]
  },
  {
   "cell_type": "code",
   "execution_count": 99,
   "id": "d3ed526c",
   "metadata": {},
   "outputs": [
    {
     "data": {
      "text/plain": [
       "<AxesSubplot:xlabel='a', ylabel='b'>"
      ]
     },
     "execution_count": 99,
     "metadata": {},
     "output_type": "execute_result"
    },
    {
     "data": {
      "image/png": "[encoded data removed]",
      "text/plain": [
       "<Figure size 432x288 with 2 Axes>"
      ]
     },
     "metadata": {
      "needs_background": "light"
     },
     "output_type": "display_data"
    }
   ],
   "source": [
    "df.plot.hexbin(x='a',y='b',gridsize=25,cmap='coolwarm')"
   ]
  },
  {
   "cell_type": "code",
   "execution_count": 103,
   "id": "bc4137bb",
   "metadata": {},
   "outputs": [
    {
     "data": {
      "text/plain": [
       "0      1.505149\n",
       "1      0.814271\n",
       "2      0.703096\n",
       "3     -0.100946\n",
       "4      0.434066\n",
       "         ...   \n",
       "995    1.094278\n",
       "996    0.266300\n",
       "997   -1.746907\n",
       "998    2.098413\n",
       "999    0.267744\n",
       "Name: a, Length: 1000, dtype: float64"
      ]
     },
     "execution_count": 103,
     "metadata": {},
     "output_type": "execute_result"
    }
   ],
   "source": [
    "df['a']"
   ]
  },
  {
   "cell_type": "code",
   "execution_count": 68,
   "id": "24d30261",
   "metadata": {},
   "outputs": [
    {
     "data": {
      "text/plain": [
       "<AxesSubplot:ylabel='Density'>"
      ]
     },
     "execution_count": 68,
     "metadata": {},
     "output_type": "execute_result"
    },
    {
     "data": {
      "image/png": "[encoded data removed]",
      "text/plain": [
       "<Figure size 432x288 with 1 Axes>"
      ]
     },
     "metadata": {
      "needs_background": "light"
     },
     "output_type": "display_data"
    }
   ],
   "source": [
    "df['a'].plot.kde()"
   ]
  },
  {
   "cell_type": "code",
   "execution_count": 70,
   "id": "7779296c",
   "metadata": {},
   "outputs": [
    {
     "data": {
      "text/plain": [
       "<AxesSubplot:ylabel='Density'>"
      ]
     },
     "execution_count": 70,
     "metadata": {},
     "output_type": "execute_result"
    },
    {
     "data": {
      "image/png": "[encoded data removed]",
      "text/plain": [
       "<Figure size 432x288 with 1 Axes>"
      ]
     },
     "metadata": {
      "needs_background": "light"
     },
     "output_type": "display_data"
    }
   ],
   "source": [
    "df['a'].plot.density()"
   ]
  },
  {
   "cell_type": "code",
   "execution_count": 71,
   "id": "a0f34abd",
   "metadata": {},
   "outputs": [
    {
     "data": {
      "text/plain": [
       "<AxesSubplot:ylabel='Density'>"
      ]
     },
     "execution_count": 71,
     "metadata": {},
     "output_type": "execute_result"
    },
    {
     "data": {
      "image/png": "[encoded data removed]",
      "text/plain": [
       "<Figure size 432x288 with 1 Axes>"
      ]
     },
     "metadata": {
      "needs_background": "light"
     },
     "output_type": "display_data"
    }
   ],
   "source": [
    "df.plot.density()"
   ]
  },
  {
   "cell_type": "code",
   "execution_count": 72,
   "id": "877ab21d",
   "metadata": {},
   "outputs": [
    {
     "data": {
      "text/plain": [
       "0      0.139062\n",
       "1     -0.566115\n",
       "2      0.188073\n",
       "3      1.275572\n",
       "4      0.064900\n",
       "         ...   \n",
       "995    0.105327\n",
       "996    1.343498\n",
       "997   -0.337435\n",
       "998    0.548839\n",
       "999    0.416346\n",
       "Name: a, Length: 1000, dtype: float64"
      ]
     },
     "execution_count": 72,
     "metadata": {},
     "output_type": "execute_result"
    }
   ],
   "source": [
    "df['a']"
   ]
  },
  {
   "cell_type": "code",
   "execution_count": 104,
   "id": "b6fd5853",
   "metadata": {},
   "outputs": [
    {
     "data": {
      "text/html": [
       "<div>\n",
       "<style scoped>\n",
       "    .dataframe tbody tr th:only-of-type {\n",
       "        vertical-align: middle;\n",
       "    }\n",
       "\n",
       "    .dataframe tbody tr th {\n",
       "        vertical-align: top;\n",
       "    }\n",
       "\n",
       "    .dataframe thead th {\n",
       "        text-align: right;\n",
       "    }\n",
       "</style>\n",
       "<table border=\"1\" class=\"dataframe\">\n",
       "  <thead>\n",
       "    <tr style=\"text-align: right;\">\n",
       "      <th></th>\n",
       "      <th>A</th>\n",
       "      <th>B</th>\n",
       "      <th>C</th>\n",
       "      <th>D</th>\n",
       "    </tr>\n",
       "  </thead>\n",
       "  <tbody>\n",
       "    <tr>\n",
       "      <th>1/1/2023</th>\n",
       "      <td>0.983456</td>\n",
       "      <td>0.345678</td>\n",
       "      <td>-0.345678</td>\n",
       "      <td>0.345678</td>\n",
       "    </tr>\n",
       "    <tr>\n",
       "      <th>2/1/2023</th>\n",
       "      <td>-0.456788</td>\n",
       "      <td>0.236789</td>\n",
       "      <td>0.765435</td>\n",
       "      <td>0.236789</td>\n",
       "    </tr>\n",
       "    <tr>\n",
       "      <th>3/1/2023</th>\n",
       "      <td>0.456789</td>\n",
       "      <td>0.236789</td>\n",
       "      <td>0.234576</td>\n",
       "      <td>0.237893</td>\n",
       "    </tr>\n",
       "    <tr>\n",
       "      <th>4/1/2023</th>\n",
       "      <td>0.456789</td>\n",
       "      <td>-0.346789</td>\n",
       "      <td>-0.679345</td>\n",
       "      <td>0.234567</td>\n",
       "    </tr>\n",
       "    <tr>\n",
       "      <th>5/1/2023</th>\n",
       "      <td>-1.345678</td>\n",
       "      <td>0.345678</td>\n",
       "      <td>0.345687</td>\n",
       "      <td>0.346789</td>\n",
       "    </tr>\n",
       "    <tr>\n",
       "      <th>6/1/2023</th>\n",
       "      <td>0.345678</td>\n",
       "      <td>-0.987645</td>\n",
       "      <td>-0.347459</td>\n",
       "      <td>-0.478638</td>\n",
       "    </tr>\n",
       "    <tr>\n",
       "      <th>7/1/2023</th>\n",
       "      <td>-1.754567</td>\n",
       "      <td>0.345678</td>\n",
       "      <td>0.015085</td>\n",
       "      <td>0.015085</td>\n",
       "    </tr>\n",
       "    <tr>\n",
       "      <th>8/1/2023</th>\n",
       "      <td>0.456789</td>\n",
       "      <td>0.768834</td>\n",
       "      <td>0.345687</td>\n",
       "      <td>0.287654</td>\n",
       "    </tr>\n",
       "    <tr>\n",
       "      <th>9/1/2023</th>\n",
       "      <td>-0.345678</td>\n",
       "      <td>0.342378</td>\n",
       "      <td>0.347896</td>\n",
       "      <td>0.348932</td>\n",
       "    </tr>\n",
       "    <tr>\n",
       "      <th>10/1/2023</th>\n",
       "      <td>0.457894</td>\n",
       "      <td>0.455678</td>\n",
       "      <td>0.235698</td>\n",
       "      <td>-0.232222</td>\n",
       "    </tr>\n",
       "  </tbody>\n",
       "</table>\n",
       "</div>"
      ],
      "text/plain": [
       "                  A         B         C         D\n",
       "1/1/2023   0.983456  0.345678 -0.345678  0.345678\n",
       "2/1/2023  -0.456788  0.236789  0.765435  0.236789\n",
       "3/1/2023   0.456789  0.236789  0.234576  0.237893\n",
       "4/1/2023   0.456789 -0.346789 -0.679345  0.234567\n",
       "5/1/2023  -1.345678  0.345678  0.345687  0.346789\n",
       "6/1/2023   0.345678 -0.987645 -0.347459 -0.478638\n",
       "7/1/2023  -1.754567  0.345678  0.015085  0.015085\n",
       "8/1/2023   0.456789  0.768834  0.345687  0.287654\n",
       "9/1/2023  -0.345678  0.342378  0.347896  0.348932\n",
       "10/1/2023  0.457894  0.455678  0.235698 -0.232222"
      ]
     },
     "execution_count": 104,
     "metadata": {},
     "output_type": "execute_result"
    }
   ],
   "source": [
    "df2"
   ]
  },
  {
   "cell_type": "code",
   "execution_count": 105,
   "id": "a1491023",
   "metadata": {},
   "outputs": [
    {
     "data": {
      "text/html": [
       "<div>\n",
       "<style scoped>\n",
       "    .dataframe tbody tr th:only-of-type {\n",
       "        vertical-align: middle;\n",
       "    }\n",
       "\n",
       "    .dataframe tbody tr th {\n",
       "        vertical-align: top;\n",
       "    }\n",
       "\n",
       "    .dataframe thead th {\n",
       "        text-align: right;\n",
       "    }\n",
       "</style>\n",
       "<table border=\"1\" class=\"dataframe\">\n",
       "  <thead>\n",
       "    <tr style=\"text-align: right;\">\n",
       "      <th></th>\n",
       "      <th>A</th>\n",
       "      <th>B</th>\n",
       "      <th>C</th>\n",
       "      <th>D</th>\n",
       "    </tr>\n",
       "  </thead>\n",
       "  <tbody>\n",
       "    <tr>\n",
       "      <th>0</th>\n",
       "      <td>0.345675</td>\n",
       "      <td>0.234567</td>\n",
       "      <td>0.122345</td>\n",
       "      <td>0.345678</td>\n",
       "    </tr>\n",
       "    <tr>\n",
       "      <th>1</th>\n",
       "      <td>0.567894</td>\n",
       "      <td>0.778899</td>\n",
       "      <td>0.234567</td>\n",
       "      <td>0.850519</td>\n",
       "    </tr>\n",
       "    <tr>\n",
       "      <th>2</th>\n",
       "      <td>0.871345</td>\n",
       "      <td>0.345678</td>\n",
       "      <td>0.567893</td>\n",
       "      <td>0.347865</td>\n",
       "    </tr>\n",
       "    <tr>\n",
       "      <th>3</th>\n",
       "      <td>0.345612</td>\n",
       "      <td>0.345678</td>\n",
       "      <td>0.236789</td>\n",
       "      <td>0.456728</td>\n",
       "    </tr>\n",
       "    <tr>\n",
       "      <th>4</th>\n",
       "      <td>0.451234</td>\n",
       "      <td>0.678945</td>\n",
       "      <td>0.984567</td>\n",
       "      <td>0.341780</td>\n",
       "    </tr>\n",
       "    <tr>\n",
       "      <th>5</th>\n",
       "      <td>0.762345</td>\n",
       "      <td>0.941567</td>\n",
       "      <td>0.564567</td>\n",
       "      <td>0.345678</td>\n",
       "    </tr>\n",
       "    <tr>\n",
       "      <th>6</th>\n",
       "      <td>0.451245</td>\n",
       "      <td>0.451423</td>\n",
       "      <td>0.456713</td>\n",
       "      <td>0.456789</td>\n",
       "    </tr>\n",
       "    <tr>\n",
       "      <th>7</th>\n",
       "      <td>0.345678</td>\n",
       "      <td>0.347893</td>\n",
       "      <td>0.768899</td>\n",
       "      <td>0.678900</td>\n",
       "    </tr>\n",
       "    <tr>\n",
       "      <th>8</th>\n",
       "      <td>0.234567</td>\n",
       "      <td>0.232726</td>\n",
       "      <td>0.569923</td>\n",
       "      <td>0.456731</td>\n",
       "    </tr>\n",
       "    <tr>\n",
       "      <th>9</th>\n",
       "      <td>0.345513</td>\n",
       "      <td>0.456789</td>\n",
       "      <td>0.567834</td>\n",
       "      <td>0.345678</td>\n",
       "    </tr>\n",
       "  </tbody>\n",
       "</table>\n",
       "</div>"
      ],
      "text/plain": [
       "          A         B         C         D\n",
       "0  0.345675  0.234567  0.122345  0.345678\n",
       "1  0.567894  0.778899  0.234567  0.850519\n",
       "2  0.871345  0.345678  0.567893  0.347865\n",
       "3  0.345612  0.345678  0.236789  0.456728\n",
       "4  0.451234  0.678945  0.984567  0.341780\n",
       "5  0.762345  0.941567  0.564567  0.345678\n",
       "6  0.451245  0.451423  0.456713  0.456789\n",
       "7  0.345678  0.347893  0.768899  0.678900\n",
       "8  0.234567  0.232726  0.569923  0.456731\n",
       "9  0.345513  0.456789  0.567834  0.345678"
      ]
     },
     "execution_count": 105,
     "metadata": {},
     "output_type": "execute_result"
    }
   ],
   "source": [
    "df1"
   ]
  },
  {
   "cell_type": "code",
   "execution_count": 107,
   "id": "08e97afd",
   "metadata": {},
   "outputs": [
    {
     "data": {
      "text/plain": [
       "0    0.345675\n",
       "1    0.567894\n",
       "2    0.871345\n",
       "3    0.345612\n",
       "4    0.451234\n",
       "5    0.762345\n",
       "6    0.451245\n",
       "7    0.345678\n",
       "8    0.234567\n",
       "9    0.345513\n",
       "Name: A, dtype: float64"
      ]
     },
     "execution_count": 107,
     "metadata": {},
     "output_type": "execute_result"
    }
   ],
   "source": [
    "df1['A']"
   ]
  },
  {
   "cell_type": "code",
   "execution_count": 108,
   "id": "430eff36",
   "metadata": {},
   "outputs": [
    {
     "data": {
      "text/plain": [
       "<AxesSubplot:ylabel='Density'>"
      ]
     },
     "execution_count": 108,
     "metadata": {},
     "output_type": "execute_result"
    },
    {
     "data": {
      "image/png": "[encoded data removed]",
      "text/plain": [
       "<Figure size 432x288 with 1 Axes>"
      ]
     },
     "metadata": {
      "needs_background": "light"
     },
     "output_type": "display_data"
    }
   ],
   "source": [
    "df1['A'].plot.kde()"
   ]
  },
  {
   "cell_type": "code",
   "execution_count": 109,
   "id": "7cc52132",
   "metadata": {},
   "outputs": [
    {
     "data": {
      "text/plain": [
       "<AxesSubplot:ylabel='Density'>"
      ]
     },
     "execution_count": 109,
     "metadata": {},
     "output_type": "execute_result"
    },
    {
     "data": {
      "image/png": "[encoded data removed]",
      "text/plain": [
       "<Figure size 432x288 with 1 Axes>"
      ]
     },
     "metadata": {
      "needs_background": "light"
     },
     "output_type": "display_data"
    }
   ],
   "source": [
    "df1['A'].plot.density()"
   ]
  },
  {
   "cell_type": "code",
   "execution_count": 112,
   "id": "895db851",
   "metadata": {},
   "outputs": [
    {
     "data": {
      "text/html": [
       "<div>\n",
       "<style scoped>\n",
       "    .dataframe tbody tr th:only-of-type {\n",
       "        vertical-align: middle;\n",
       "    }\n",
       "\n",
       "    .dataframe tbody tr th {\n",
       "        vertical-align: top;\n",
       "    }\n",
       "\n",
       "    .dataframe thead th {\n",
       "        text-align: right;\n",
       "    }\n",
       "</style>\n",
       "<table border=\"1\" class=\"dataframe\">\n",
       "  <thead>\n",
       "    <tr style=\"text-align: right;\">\n",
       "      <th></th>\n",
       "      <th>A</th>\n",
       "      <th>B</th>\n",
       "      <th>C</th>\n",
       "      <th>D</th>\n",
       "    </tr>\n",
       "  </thead>\n",
       "  <tbody>\n",
       "    <tr>\n",
       "      <th>0</th>\n",
       "      <td>0.345675</td>\n",
       "      <td>0.234567</td>\n",
       "      <td>0.122345</td>\n",
       "      <td>0.345678</td>\n",
       "    </tr>\n",
       "    <tr>\n",
       "      <th>1</th>\n",
       "      <td>0.567894</td>\n",
       "      <td>0.778899</td>\n",
       "      <td>0.234567</td>\n",
       "      <td>0.850519</td>\n",
       "    </tr>\n",
       "    <tr>\n",
       "      <th>2</th>\n",
       "      <td>0.871345</td>\n",
       "      <td>0.345678</td>\n",
       "      <td>0.567893</td>\n",
       "      <td>0.347865</td>\n",
       "    </tr>\n",
       "    <tr>\n",
       "      <th>3</th>\n",
       "      <td>0.345612</td>\n",
       "      <td>0.345678</td>\n",
       "      <td>0.236789</td>\n",
       "      <td>0.456728</td>\n",
       "    </tr>\n",
       "    <tr>\n",
       "      <th>4</th>\n",
       "      <td>0.451234</td>\n",
       "      <td>0.678945</td>\n",
       "      <td>0.984567</td>\n",
       "      <td>0.341780</td>\n",
       "    </tr>\n",
       "    <tr>\n",
       "      <th>5</th>\n",
       "      <td>0.762345</td>\n",
       "      <td>0.941567</td>\n",
       "      <td>0.564567</td>\n",
       "      <td>0.345678</td>\n",
       "    </tr>\n",
       "    <tr>\n",
       "      <th>6</th>\n",
       "      <td>0.451245</td>\n",
       "      <td>0.451423</td>\n",
       "      <td>0.456713</td>\n",
       "      <td>0.456789</td>\n",
       "    </tr>\n",
       "    <tr>\n",
       "      <th>7</th>\n",
       "      <td>0.345678</td>\n",
       "      <td>0.347893</td>\n",
       "      <td>0.768899</td>\n",
       "      <td>0.678900</td>\n",
       "    </tr>\n",
       "    <tr>\n",
       "      <th>8</th>\n",
       "      <td>0.234567</td>\n",
       "      <td>0.232726</td>\n",
       "      <td>0.569923</td>\n",
       "      <td>0.456731</td>\n",
       "    </tr>\n",
       "    <tr>\n",
       "      <th>9</th>\n",
       "      <td>0.345513</td>\n",
       "      <td>0.456789</td>\n",
       "      <td>0.567834</td>\n",
       "      <td>0.345678</td>\n",
       "    </tr>\n",
       "  </tbody>\n",
       "</table>\n",
       "</div>"
      ],
      "text/plain": [
       "          A         B         C         D\n",
       "0  0.345675  0.234567  0.122345  0.345678\n",
       "1  0.567894  0.778899  0.234567  0.850519\n",
       "2  0.871345  0.345678  0.567893  0.347865\n",
       "3  0.345612  0.345678  0.236789  0.456728\n",
       "4  0.451234  0.678945  0.984567  0.341780\n",
       "5  0.762345  0.941567  0.564567  0.345678\n",
       "6  0.451245  0.451423  0.456713  0.456789\n",
       "7  0.345678  0.347893  0.768899  0.678900\n",
       "8  0.234567  0.232726  0.569923  0.456731\n",
       "9  0.345513  0.456789  0.567834  0.345678"
      ]
     },
     "execution_count": 112,
     "metadata": {},
     "output_type": "execute_result"
    }
   ],
   "source": [
    "df1"
   ]
  },
  {
   "cell_type": "code",
   "execution_count": 113,
   "id": "8c2fcab7",
   "metadata": {},
   "outputs": [
    {
     "data": {
      "text/html": [
       "<div>\n",
       "<style scoped>\n",
       "    .dataframe tbody tr th:only-of-type {\n",
       "        vertical-align: middle;\n",
       "    }\n",
       "\n",
       "    .dataframe tbody tr th {\n",
       "        vertical-align: top;\n",
       "    }\n",
       "\n",
       "    .dataframe thead th {\n",
       "        text-align: right;\n",
       "    }\n",
       "</style>\n",
       "<table border=\"1\" class=\"dataframe\">\n",
       "  <thead>\n",
       "    <tr style=\"text-align: right;\">\n",
       "      <th></th>\n",
       "      <th>A</th>\n",
       "      <th>B</th>\n",
       "      <th>C</th>\n",
       "      <th>D</th>\n",
       "    </tr>\n",
       "  </thead>\n",
       "  <tbody>\n",
       "    <tr>\n",
       "      <th>1/1/2023</th>\n",
       "      <td>0.983456</td>\n",
       "      <td>0.345678</td>\n",
       "      <td>-0.345678</td>\n",
       "      <td>0.345678</td>\n",
       "    </tr>\n",
       "    <tr>\n",
       "      <th>2/1/2023</th>\n",
       "      <td>-0.456788</td>\n",
       "      <td>0.236789</td>\n",
       "      <td>0.765435</td>\n",
       "      <td>0.236789</td>\n",
       "    </tr>\n",
       "    <tr>\n",
       "      <th>3/1/2023</th>\n",
       "      <td>0.456789</td>\n",
       "      <td>0.236789</td>\n",
       "      <td>0.234576</td>\n",
       "      <td>0.237893</td>\n",
       "    </tr>\n",
       "    <tr>\n",
       "      <th>4/1/2023</th>\n",
       "      <td>0.456789</td>\n",
       "      <td>-0.346789</td>\n",
       "      <td>-0.679345</td>\n",
       "      <td>0.234567</td>\n",
       "    </tr>\n",
       "    <tr>\n",
       "      <th>5/1/2023</th>\n",
       "      <td>-1.345678</td>\n",
       "      <td>0.345678</td>\n",
       "      <td>0.345687</td>\n",
       "      <td>0.346789</td>\n",
       "    </tr>\n",
       "    <tr>\n",
       "      <th>6/1/2023</th>\n",
       "      <td>0.345678</td>\n",
       "      <td>-0.987645</td>\n",
       "      <td>-0.347459</td>\n",
       "      <td>-0.478638</td>\n",
       "    </tr>\n",
       "    <tr>\n",
       "      <th>7/1/2023</th>\n",
       "      <td>-1.754567</td>\n",
       "      <td>0.345678</td>\n",
       "      <td>0.015085</td>\n",
       "      <td>0.015085</td>\n",
       "    </tr>\n",
       "    <tr>\n",
       "      <th>8/1/2023</th>\n",
       "      <td>0.456789</td>\n",
       "      <td>0.768834</td>\n",
       "      <td>0.345687</td>\n",
       "      <td>0.287654</td>\n",
       "    </tr>\n",
       "    <tr>\n",
       "      <th>9/1/2023</th>\n",
       "      <td>-0.345678</td>\n",
       "      <td>0.342378</td>\n",
       "      <td>0.347896</td>\n",
       "      <td>0.348932</td>\n",
       "    </tr>\n",
       "    <tr>\n",
       "      <th>10/1/2023</th>\n",
       "      <td>0.457894</td>\n",
       "      <td>0.455678</td>\n",
       "      <td>0.235698</td>\n",
       "      <td>-0.232222</td>\n",
       "    </tr>\n",
       "  </tbody>\n",
       "</table>\n",
       "</div>"
      ],
      "text/plain": [
       "                  A         B         C         D\n",
       "1/1/2023   0.983456  0.345678 -0.345678  0.345678\n",
       "2/1/2023  -0.456788  0.236789  0.765435  0.236789\n",
       "3/1/2023   0.456789  0.236789  0.234576  0.237893\n",
       "4/1/2023   0.456789 -0.346789 -0.679345  0.234567\n",
       "5/1/2023  -1.345678  0.345678  0.345687  0.346789\n",
       "6/1/2023   0.345678 -0.987645 -0.347459 -0.478638\n",
       "7/1/2023  -1.754567  0.345678  0.015085  0.015085\n",
       "8/1/2023   0.456789  0.768834  0.345687  0.287654\n",
       "9/1/2023  -0.345678  0.342378  0.347896  0.348932\n",
       "10/1/2023  0.457894  0.455678  0.235698 -0.232222"
      ]
     },
     "execution_count": 113,
     "metadata": {},
     "output_type": "execute_result"
    }
   ],
   "source": [
    "df2"
   ]
  },
  {
   "cell_type": "code",
   "execution_count": 115,
   "id": "9ff64c6f",
   "metadata": {},
   "outputs": [
    {
     "data": {
      "text/plain": [
       "1/1/2023     0.983456\n",
       "2/1/2023    -0.456788\n",
       "3/1/2023     0.456789\n",
       "4/1/2023     0.456789\n",
       "5/1/2023    -1.345678\n",
       "6/1/2023     0.345678\n",
       "7/1/2023    -1.754567\n",
       "8/1/2023     0.456789\n",
       "9/1/2023    -0.345678\n",
       "10/1/2023    0.457894\n",
       "Name: A, dtype: float64"
      ]
     },
     "execution_count": 115,
     "metadata": {},
     "output_type": "execute_result"
    }
   ],
   "source": [
    "df2['A']"
   ]
  },
  {
   "cell_type": "code",
   "execution_count": 116,
   "id": "1767ad5e",
   "metadata": {},
   "outputs": [
    {
     "data": {
      "text/plain": [
       "<AxesSubplot:ylabel='Density'>"
      ]
     },
     "execution_count": 116,
     "metadata": {},
     "output_type": "execute_result"
    },
    {
     "data": {
      "image/png": "[encoded data removed]",
      "text/plain": [
       "<Figure size 432x288 with 1 Axes>"
      ]
     },
     "metadata": {
      "needs_background": "light"
     },
     "output_type": "display_data"
    }
   ],
   "source": [
    "df2['A'].plot.kde()"
   ]
  },
  {
   "cell_type": "code",
   "execution_count": 118,
   "id": "f1e7e580",
   "metadata": {},
   "outputs": [
    {
     "data": {
      "text/plain": [
       "<AxesSubplot:ylabel='Density'>"
      ]
     },
     "execution_count": 118,
     "metadata": {},
     "output_type": "execute_result"
    },
    {
     "data": {
      "image/png": "[encoded data removed]",
      "text/plain": [
       "<Figure size 432x288 with 1 Axes>"
      ]
     },
     "metadata": {
      "needs_background": "light"
     },
     "output_type": "display_data"
    }
   ],
   "source": [
    "df2.plot.kde()"
   ]
  },
  {
   "cell_type": "code",
   "execution_count": 119,
   "id": "a1074dff",
   "metadata": {},
   "outputs": [
    {
     "data": {
      "text/plain": [
       "<AxesSubplot:ylabel='Density'>"
      ]
     },
     "execution_count": 119,
     "metadata": {},
     "output_type": "execute_result"
    },
    {
     "data": {
      "image/png": "[encoded data removed]",
      "text/plain": [
       "<Figure size 432x288 with 1 Axes>"
      ]
     },
     "metadata": {
      "needs_background": "light"
     },
     "output_type": "display_data"
    }
   ],
   "source": [
    "df1.plot.density()"
   ]
  },
  {
   "cell_type": "code",
   "execution_count": 120,
   "id": "40ef9bbd",
   "metadata": {},
   "outputs": [
    {
     "data": {
      "text/plain": [
       "<AxesSubplot:ylabel='Density'>"
      ]
     },
     "execution_count": 120,
     "metadata": {},
     "output_type": "execute_result"
    },
    {
     "data": {
      "image/png": "[encoded data removed]",
      "text/plain": [
       "<Figure size 432x288 with 1 Axes>"
      ]
     },
     "metadata": {
      "needs_background": "light"
     },
     "output_type": "display_data"
    }
   ],
   "source": [
    "df1.plot.kde()"
   ]
  },
  {
   "cell_type": "code",
   "execution_count": 121,
   "id": "faf637a1",
   "metadata": {
    "scrolled": true
   },
   "outputs": [
    {
     "data": {
      "text/html": [
       "<div>\n",
       "<style scoped>\n",
       "    .dataframe tbody tr th:only-of-type {\n",
       "        vertical-align: middle;\n",
       "    }\n",
       "\n",
       "    .dataframe tbody tr th {\n",
       "        vertical-align: top;\n",
       "    }\n",
       "\n",
       "    .dataframe thead th {\n",
       "        text-align: right;\n",
       "    }\n",
       "</style>\n",
       "<table border=\"1\" class=\"dataframe\">\n",
       "  <thead>\n",
       "    <tr style=\"text-align: right;\">\n",
       "      <th></th>\n",
       "      <th>A</th>\n",
       "      <th>B</th>\n",
       "      <th>C</th>\n",
       "      <th>D</th>\n",
       "    </tr>\n",
       "  </thead>\n",
       "  <tbody>\n",
       "    <tr>\n",
       "      <th>1/1/2023</th>\n",
       "      <td>0.983456</td>\n",
       "      <td>0.345678</td>\n",
       "      <td>-0.345678</td>\n",
       "      <td>0.345678</td>\n",
       "    </tr>\n",
       "    <tr>\n",
       "      <th>2/1/2023</th>\n",
       "      <td>-0.456788</td>\n",
       "      <td>0.236789</td>\n",
       "      <td>0.765435</td>\n",
       "      <td>0.236789</td>\n",
       "    </tr>\n",
       "    <tr>\n",
       "      <th>3/1/2023</th>\n",
       "      <td>0.456789</td>\n",
       "      <td>0.236789</td>\n",
       "      <td>0.234576</td>\n",
       "      <td>0.237893</td>\n",
       "    </tr>\n",
       "    <tr>\n",
       "      <th>4/1/2023</th>\n",
       "      <td>0.456789</td>\n",
       "      <td>-0.346789</td>\n",
       "      <td>-0.679345</td>\n",
       "      <td>0.234567</td>\n",
       "    </tr>\n",
       "    <tr>\n",
       "      <th>5/1/2023</th>\n",
       "      <td>-1.345678</td>\n",
       "      <td>0.345678</td>\n",
       "      <td>0.345687</td>\n",
       "      <td>0.346789</td>\n",
       "    </tr>\n",
       "    <tr>\n",
       "      <th>6/1/2023</th>\n",
       "      <td>0.345678</td>\n",
       "      <td>-0.987645</td>\n",
       "      <td>-0.347459</td>\n",
       "      <td>-0.478638</td>\n",
       "    </tr>\n",
       "    <tr>\n",
       "      <th>7/1/2023</th>\n",
       "      <td>-1.754567</td>\n",
       "      <td>0.345678</td>\n",
       "      <td>0.015085</td>\n",
       "      <td>0.015085</td>\n",
       "    </tr>\n",
       "    <tr>\n",
       "      <th>8/1/2023</th>\n",
       "      <td>0.456789</td>\n",
       "      <td>0.768834</td>\n",
       "      <td>0.345687</td>\n",
       "      <td>0.287654</td>\n",
       "    </tr>\n",
       "    <tr>\n",
       "      <th>9/1/2023</th>\n",
       "      <td>-0.345678</td>\n",
       "      <td>0.342378</td>\n",
       "      <td>0.347896</td>\n",
       "      <td>0.348932</td>\n",
       "    </tr>\n",
       "    <tr>\n",
       "      <th>10/1/2023</th>\n",
       "      <td>0.457894</td>\n",
       "      <td>0.455678</td>\n",
       "      <td>0.235698</td>\n",
       "      <td>-0.232222</td>\n",
       "    </tr>\n",
       "  </tbody>\n",
       "</table>\n",
       "</div>"
      ],
      "text/plain": [
       "                  A         B         C         D\n",
       "1/1/2023   0.983456  0.345678 -0.345678  0.345678\n",
       "2/1/2023  -0.456788  0.236789  0.765435  0.236789\n",
       "3/1/2023   0.456789  0.236789  0.234576  0.237893\n",
       "4/1/2023   0.456789 -0.346789 -0.679345  0.234567\n",
       "5/1/2023  -1.345678  0.345678  0.345687  0.346789\n",
       "6/1/2023   0.345678 -0.987645 -0.347459 -0.478638\n",
       "7/1/2023  -1.754567  0.345678  0.015085  0.015085\n",
       "8/1/2023   0.456789  0.768834  0.345687  0.287654\n",
       "9/1/2023  -0.345678  0.342378  0.347896  0.348932\n",
       "10/1/2023  0.457894  0.455678  0.235698 -0.232222"
      ]
     },
     "execution_count": 121,
     "metadata": {},
     "output_type": "execute_result"
    }
   ],
   "source": [
    "df2"
   ]
  },
  {
   "cell_type": "code",
   "execution_count": null,
   "id": "1ae0d7ca",
   "metadata": {},
   "outputs": [],
   "source": []
  },
  {
   "cell_type": "code",
   "execution_count": null,
   "id": "1fbbd455",
   "metadata": {},
   "outputs": [],
   "source": []
  },
  {
   "cell_type": "code",
   "execution_count": 95,
   "id": "366253a2",
   "metadata": {},
   "outputs": [],
   "source": [
    "# EXERCISE"
   ]
  },
  {
   "cell_type": "code",
   "execution_count": 123,
   "id": "87e95478",
   "metadata": {},
   "outputs": [],
   "source": [
    "import pandas as pd\n",
    "import numpy as np\n",
    "import matplotlib.pyplot as plt"
   ]
  },
  {
   "cell_type": "code",
   "execution_count": 124,
   "id": "2c7d5ff3",
   "metadata": {},
   "outputs": [],
   "source": [
    "import numpy as np\n",
    "import pandas as pd\n"
   ]
  },
  {
   "cell_type": "code",
   "execution_count": 125,
   "id": "f1a0ea9c",
   "metadata": {},
   "outputs": [],
   "source": [
    "import matplotlib.pyplot as plt\n",
    "%matplotlib inline"
   ]
  },
  {
   "cell_type": "code",
   "execution_count": 126,
   "id": "ff3c48c4",
   "metadata": {},
   "outputs": [],
   "source": [
    "import seaborn as sns"
   ]
  },
  {
   "cell_type": "code",
   "execution_count": 127,
   "id": "c48740f7",
   "metadata": {},
   "outputs": [],
   "source": [
    "df3 = pd.read_csv('df3.csv')"
   ]
  },
  {
   "cell_type": "code",
   "execution_count": 10,
   "id": "803029c5",
   "metadata": {},
   "outputs": [
    {
     "data": {
      "text/html": [
       "<div>\n",
       "<style scoped>\n",
       "    .dataframe tbody tr th:only-of-type {\n",
       "        vertical-align: middle;\n",
       "    }\n",
       "\n",
       "    .dataframe tbody tr th {\n",
       "        vertical-align: top;\n",
       "    }\n",
       "\n",
       "    .dataframe thead th {\n",
       "        text-align: right;\n",
       "    }\n",
       "</style>\n",
       "<table border=\"1\" class=\"dataframe\">\n",
       "  <thead>\n",
       "    <tr style=\"text-align: right;\">\n",
       "      <th></th>\n",
       "      <th>A</th>\n",
       "      <th>B</th>\n",
       "      <th>C</th>\n",
       "      <th>D</th>\n",
       "    </tr>\n",
       "  </thead>\n",
       "  <tbody>\n",
       "    <tr>\n",
       "      <th>0</th>\n",
       "      <td>0.456789</td>\n",
       "      <td>0.678489</td>\n",
       "      <td>0.453412</td>\n",
       "      <td>0.342367</td>\n",
       "    </tr>\n",
       "    <tr>\n",
       "      <th>1</th>\n",
       "      <td>0.496789</td>\n",
       "      <td>0.347894</td>\n",
       "      <td>0.345692</td>\n",
       "      <td>0.346789</td>\n",
       "    </tr>\n",
       "    <tr>\n",
       "      <th>2</th>\n",
       "      <td>0.894567</td>\n",
       "      <td>0.349807</td>\n",
       "      <td>0.234567</td>\n",
       "      <td>0.342378</td>\n",
       "    </tr>\n",
       "    <tr>\n",
       "      <th>3</th>\n",
       "      <td>0.456783</td>\n",
       "      <td>0.345673</td>\n",
       "      <td>0.678934</td>\n",
       "      <td>0.333453</td>\n",
       "    </tr>\n",
       "    <tr>\n",
       "      <th>4</th>\n",
       "      <td>0.678946</td>\n",
       "      <td>0.678945</td>\n",
       "      <td>0.678956</td>\n",
       "      <td>0.456734</td>\n",
       "    </tr>\n",
       "    <tr>\n",
       "      <th>5</th>\n",
       "      <td>0.346789</td>\n",
       "      <td>0.556789</td>\n",
       "      <td>0.453422</td>\n",
       "      <td>0.345677</td>\n",
       "    </tr>\n",
       "    <tr>\n",
       "      <th>6</th>\n",
       "      <td>0.678893</td>\n",
       "      <td>0.894567</td>\n",
       "      <td>0.456789</td>\n",
       "      <td>0.489568</td>\n",
       "    </tr>\n",
       "    <tr>\n",
       "      <th>7</th>\n",
       "      <td>0.347856</td>\n",
       "      <td>0.347895</td>\n",
       "      <td>0.456735</td>\n",
       "      <td>0.236784</td>\n",
       "    </tr>\n",
       "    <tr>\n",
       "      <th>8</th>\n",
       "      <td>0.457895</td>\n",
       "      <td>0.347896</td>\n",
       "      <td>0.555323</td>\n",
       "      <td>0.346786</td>\n",
       "    </tr>\n",
       "    <tr>\n",
       "      <th>9</th>\n",
       "      <td>0.345674</td>\n",
       "      <td>0.324575</td>\n",
       "      <td>0.345623</td>\n",
       "      <td>0.235678</td>\n",
       "    </tr>\n",
       "  </tbody>\n",
       "</table>\n",
       "</div>"
      ],
      "text/plain": [
       "          A        B          C         D\n",
       "0  0.456789  0.678489  0.453412  0.342367\n",
       "1  0.496789  0.347894  0.345692  0.346789\n",
       "2  0.894567  0.349807  0.234567  0.342378\n",
       "3  0.456783  0.345673  0.678934  0.333453\n",
       "4  0.678946  0.678945  0.678956  0.456734\n",
       "5  0.346789  0.556789  0.453422  0.345677\n",
       "6  0.678893  0.894567  0.456789  0.489568\n",
       "7  0.347856  0.347895  0.456735  0.236784\n",
       "8  0.457895  0.347896  0.555323  0.346786\n",
       "9  0.345674  0.324575  0.345623  0.235678"
      ]
     },
     "execution_count": 10,
     "metadata": {},
     "output_type": "execute_result"
    }
   ],
   "source": [
    "df3"
   ]
  },
  {
   "cell_type": "code",
   "execution_count": 128,
   "id": "723a4b90",
   "metadata": {},
   "outputs": [
    {
     "data": {
      "text/html": [
       "<div>\n",
       "<style scoped>\n",
       "    .dataframe tbody tr th:only-of-type {\n",
       "        vertical-align: middle;\n",
       "    }\n",
       "\n",
       "    .dataframe tbody tr th {\n",
       "        vertical-align: top;\n",
       "    }\n",
       "\n",
       "    .dataframe thead th {\n",
       "        text-align: right;\n",
       "    }\n",
       "</style>\n",
       "<table border=\"1\" class=\"dataframe\">\n",
       "  <thead>\n",
       "    <tr style=\"text-align: right;\">\n",
       "      <th></th>\n",
       "      <th>A</th>\n",
       "      <th>B</th>\n",
       "      <th>C</th>\n",
       "      <th>D</th>\n",
       "    </tr>\n",
       "  </thead>\n",
       "  <tbody>\n",
       "    <tr>\n",
       "      <th>0</th>\n",
       "      <td>0.456789</td>\n",
       "      <td>0.678489</td>\n",
       "      <td>0.453412</td>\n",
       "      <td>0.342367</td>\n",
       "    </tr>\n",
       "    <tr>\n",
       "      <th>1</th>\n",
       "      <td>0.496789</td>\n",
       "      <td>0.347894</td>\n",
       "      <td>0.345692</td>\n",
       "      <td>0.346789</td>\n",
       "    </tr>\n",
       "    <tr>\n",
       "      <th>2</th>\n",
       "      <td>0.894567</td>\n",
       "      <td>0.349807</td>\n",
       "      <td>0.234567</td>\n",
       "      <td>0.342378</td>\n",
       "    </tr>\n",
       "    <tr>\n",
       "      <th>3</th>\n",
       "      <td>0.456783</td>\n",
       "      <td>0.345673</td>\n",
       "      <td>0.678934</td>\n",
       "      <td>0.333453</td>\n",
       "    </tr>\n",
       "    <tr>\n",
       "      <th>4</th>\n",
       "      <td>0.678946</td>\n",
       "      <td>0.678945</td>\n",
       "      <td>0.678956</td>\n",
       "      <td>0.456734</td>\n",
       "    </tr>\n",
       "  </tbody>\n",
       "</table>\n",
       "</div>"
      ],
      "text/plain": [
       "          A        B          C         D\n",
       "0  0.456789  0.678489  0.453412  0.342367\n",
       "1  0.496789  0.347894  0.345692  0.346789\n",
       "2  0.894567  0.349807  0.234567  0.342378\n",
       "3  0.456783  0.345673  0.678934  0.333453\n",
       "4  0.678946  0.678945  0.678956  0.456734"
      ]
     },
     "execution_count": 128,
     "metadata": {},
     "output_type": "execute_result"
    }
   ],
   "source": [
    "df3.head()"
   ]
  },
  {
   "cell_type": "code",
   "execution_count": 129,
   "id": "aaa1cd1f",
   "metadata": {},
   "outputs": [
    {
     "name": "stdout",
     "output_type": "stream",
     "text": [
      "<class 'pandas.core.frame.DataFrame'>\n",
      "RangeIndex: 10 entries, 0 to 9\n",
      "Data columns (total 4 columns):\n",
      " #   Column  Non-Null Count  Dtype  \n",
      "---  ------  --------------  -----  \n",
      " 0   A       10 non-null     float64\n",
      " 1   B       10 non-null     float64\n",
      " 2   C       10 non-null     float64\n",
      " 3   D       10 non-null     float64\n",
      "dtypes: float64(4)\n",
      "memory usage: 448.0 bytes\n"
     ]
    }
   ],
   "source": [
    "df3.info()"
   ]
  },
  {
   "cell_type": "code",
   "execution_count": 130,
   "id": "0f19c830",
   "metadata": {},
   "outputs": [
    {
     "data": {
      "text/html": [
       "<div>\n",
       "<style scoped>\n",
       "    .dataframe tbody tr th:only-of-type {\n",
       "        vertical-align: middle;\n",
       "    }\n",
       "\n",
       "    .dataframe tbody tr th {\n",
       "        vertical-align: top;\n",
       "    }\n",
       "\n",
       "    .dataframe thead th {\n",
       "        text-align: right;\n",
       "    }\n",
       "</style>\n",
       "<table border=\"1\" class=\"dataframe\">\n",
       "  <thead>\n",
       "    <tr style=\"text-align: right;\">\n",
       "      <th></th>\n",
       "      <th>A</th>\n",
       "      <th>B</th>\n",
       "      <th>C</th>\n",
       "      <th>D</th>\n",
       "    </tr>\n",
       "  </thead>\n",
       "  <tbody>\n",
       "    <tr>\n",
       "      <th>count</th>\n",
       "      <td>10.000000</td>\n",
       "      <td>10.000000</td>\n",
       "      <td>10.000000</td>\n",
       "      <td>10.000000</td>\n",
       "    </tr>\n",
       "    <tr>\n",
       "      <th>mean</th>\n",
       "      <td>0.516098</td>\n",
       "      <td>0.487253</td>\n",
       "      <td>0.465945</td>\n",
       "      <td>0.347621</td>\n",
       "    </tr>\n",
       "    <tr>\n",
       "      <th>std</th>\n",
       "      <td>0.180454</td>\n",
       "      <td>0.202133</td>\n",
       "      <td>0.142081</td>\n",
       "      <td>0.079674</td>\n",
       "    </tr>\n",
       "    <tr>\n",
       "      <th>min</th>\n",
       "      <td>0.345674</td>\n",
       "      <td>0.324575</td>\n",
       "      <td>0.234567</td>\n",
       "      <td>0.235678</td>\n",
       "    </tr>\n",
       "    <tr>\n",
       "      <th>25%</th>\n",
       "      <td>0.375088</td>\n",
       "      <td>0.347894</td>\n",
       "      <td>0.372622</td>\n",
       "      <td>0.335681</td>\n",
       "    </tr>\n",
       "    <tr>\n",
       "      <th>50%</th>\n",
       "      <td>0.457342</td>\n",
       "      <td>0.348851</td>\n",
       "      <td>0.455078</td>\n",
       "      <td>0.344028</td>\n",
       "    </tr>\n",
       "    <tr>\n",
       "      <th>75%</th>\n",
       "      <td>0.633367</td>\n",
       "      <td>0.648064</td>\n",
       "      <td>0.530690</td>\n",
       "      <td>0.346788</td>\n",
       "    </tr>\n",
       "    <tr>\n",
       "      <th>max</th>\n",
       "      <td>0.894567</td>\n",
       "      <td>0.894567</td>\n",
       "      <td>0.678956</td>\n",
       "      <td>0.489568</td>\n",
       "    </tr>\n",
       "  </tbody>\n",
       "</table>\n",
       "</div>"
      ],
      "text/plain": [
       "               A         B           C          D\n",
       "count  10.000000  10.000000  10.000000  10.000000\n",
       "mean    0.516098   0.487253   0.465945   0.347621\n",
       "std     0.180454   0.202133   0.142081   0.079674\n",
       "min     0.345674   0.324575   0.234567   0.235678\n",
       "25%     0.375088   0.347894   0.372622   0.335681\n",
       "50%     0.457342   0.348851   0.455078   0.344028\n",
       "75%     0.633367   0.648064   0.530690   0.346788\n",
       "max     0.894567   0.894567   0.678956   0.489568"
      ]
     },
     "execution_count": 130,
     "metadata": {},
     "output_type": "execute_result"
    }
   ],
   "source": [
    "df3.describe()"
   ]
  },
  {
   "cell_type": "code",
   "execution_count": 131,
   "id": "b18e12ca",
   "metadata": {},
   "outputs": [
    {
     "data": {
      "text/html": [
       "<div>\n",
       "<style scoped>\n",
       "    .dataframe tbody tr th:only-of-type {\n",
       "        vertical-align: middle;\n",
       "    }\n",
       "\n",
       "    .dataframe tbody tr th {\n",
       "        vertical-align: top;\n",
       "    }\n",
       "\n",
       "    .dataframe thead th {\n",
       "        text-align: right;\n",
       "    }\n",
       "</style>\n",
       "<table border=\"1\" class=\"dataframe\">\n",
       "  <thead>\n",
       "    <tr style=\"text-align: right;\">\n",
       "      <th></th>\n",
       "      <th>A</th>\n",
       "      <th>B</th>\n",
       "      <th>C</th>\n",
       "      <th>D</th>\n",
       "    </tr>\n",
       "  </thead>\n",
       "  <tbody>\n",
       "    <tr>\n",
       "      <th>0</th>\n",
       "      <td>False</td>\n",
       "      <td>False</td>\n",
       "      <td>False</td>\n",
       "      <td>False</td>\n",
       "    </tr>\n",
       "    <tr>\n",
       "      <th>1</th>\n",
       "      <td>False</td>\n",
       "      <td>False</td>\n",
       "      <td>False</td>\n",
       "      <td>False</td>\n",
       "    </tr>\n",
       "    <tr>\n",
       "      <th>2</th>\n",
       "      <td>False</td>\n",
       "      <td>False</td>\n",
       "      <td>False</td>\n",
       "      <td>False</td>\n",
       "    </tr>\n",
       "    <tr>\n",
       "      <th>3</th>\n",
       "      <td>False</td>\n",
       "      <td>False</td>\n",
       "      <td>False</td>\n",
       "      <td>False</td>\n",
       "    </tr>\n",
       "    <tr>\n",
       "      <th>4</th>\n",
       "      <td>False</td>\n",
       "      <td>False</td>\n",
       "      <td>False</td>\n",
       "      <td>False</td>\n",
       "    </tr>\n",
       "    <tr>\n",
       "      <th>5</th>\n",
       "      <td>False</td>\n",
       "      <td>False</td>\n",
       "      <td>False</td>\n",
       "      <td>False</td>\n",
       "    </tr>\n",
       "    <tr>\n",
       "      <th>6</th>\n",
       "      <td>False</td>\n",
       "      <td>False</td>\n",
       "      <td>False</td>\n",
       "      <td>False</td>\n",
       "    </tr>\n",
       "    <tr>\n",
       "      <th>7</th>\n",
       "      <td>False</td>\n",
       "      <td>False</td>\n",
       "      <td>False</td>\n",
       "      <td>False</td>\n",
       "    </tr>\n",
       "    <tr>\n",
       "      <th>8</th>\n",
       "      <td>False</td>\n",
       "      <td>False</td>\n",
       "      <td>False</td>\n",
       "      <td>False</td>\n",
       "    </tr>\n",
       "    <tr>\n",
       "      <th>9</th>\n",
       "      <td>False</td>\n",
       "      <td>False</td>\n",
       "      <td>False</td>\n",
       "      <td>False</td>\n",
       "    </tr>\n",
       "  </tbody>\n",
       "</table>\n",
       "</div>"
      ],
      "text/plain": [
       "       A     B       C      D\n",
       "0  False  False  False  False\n",
       "1  False  False  False  False\n",
       "2  False  False  False  False\n",
       "3  False  False  False  False\n",
       "4  False  False  False  False\n",
       "5  False  False  False  False\n",
       "6  False  False  False  False\n",
       "7  False  False  False  False\n",
       "8  False  False  False  False\n",
       "9  False  False  False  False"
      ]
     },
     "execution_count": 131,
     "metadata": {},
     "output_type": "execute_result"
    }
   ],
   "source": [
    "df3.isnull()"
   ]
  },
  {
   "cell_type": "code",
   "execution_count": 132,
   "id": "0aedbcf0",
   "metadata": {},
   "outputs": [
    {
     "data": {
      "text/plain": [
       "A     0\n",
       "B     0\n",
       "C     0\n",
       "D     0\n",
       "dtype: int64"
      ]
     },
     "execution_count": 132,
     "metadata": {},
     "output_type": "execute_result"
    }
   ],
   "source": [
    "df3.isnull().sum()"
   ]
  },
  {
   "cell_type": "markdown",
   "id": "18d04c29",
   "metadata": {},
   "source": []
  },
  {
   "cell_type": "code",
   "execution_count": null,
   "id": "d02c57ed",
   "metadata": {},
   "outputs": [],
   "source": []
  },
  {
   "cell_type": "code",
   "execution_count": 2,
   "id": "77453b08",
   "metadata": {},
   "outputs": [],
   "source": [
    "import pandas as pd\n",
    "import numpy as np"
   ]
  },
  {
   "cell_type": "code",
   "execution_count": 3,
   "id": "1766c519",
   "metadata": {},
   "outputs": [],
   "source": [
    "import matplotlib.pyplot as plt"
   ]
  },
  {
   "cell_type": "code",
   "execution_count": 4,
   "id": "ce7d2609",
   "metadata": {},
   "outputs": [],
   "source": [
    "%matplotlib inline"
   ]
  },
  {
   "cell_type": "code",
   "execution_count": 135,
   "id": "34c9bc1f",
   "metadata": {},
   "outputs": [],
   "source": [
    "df3 = pd.read_csv('df3.csv')"
   ]
  },
  {
   "cell_type": "code",
   "execution_count": 136,
   "id": "83122801",
   "metadata": {},
   "outputs": [
    {
     "data": {
      "text/html": [
       "<div>\n",
       "<style scoped>\n",
       "    .dataframe tbody tr th:only-of-type {\n",
       "        vertical-align: middle;\n",
       "    }\n",
       "\n",
       "    .dataframe tbody tr th {\n",
       "        vertical-align: top;\n",
       "    }\n",
       "\n",
       "    .dataframe thead th {\n",
       "        text-align: right;\n",
       "    }\n",
       "</style>\n",
       "<table border=\"1\" class=\"dataframe\">\n",
       "  <thead>\n",
       "    <tr style=\"text-align: right;\">\n",
       "      <th></th>\n",
       "      <th>A</th>\n",
       "      <th>B</th>\n",
       "      <th>C</th>\n",
       "      <th>D</th>\n",
       "    </tr>\n",
       "  </thead>\n",
       "  <tbody>\n",
       "    <tr>\n",
       "      <th>0</th>\n",
       "      <td>0.456789</td>\n",
       "      <td>0.678489</td>\n",
       "      <td>0.453412</td>\n",
       "      <td>0.342367</td>\n",
       "    </tr>\n",
       "    <tr>\n",
       "      <th>1</th>\n",
       "      <td>0.496789</td>\n",
       "      <td>0.347894</td>\n",
       "      <td>0.345692</td>\n",
       "      <td>0.346789</td>\n",
       "    </tr>\n",
       "    <tr>\n",
       "      <th>2</th>\n",
       "      <td>0.894567</td>\n",
       "      <td>0.349807</td>\n",
       "      <td>0.234567</td>\n",
       "      <td>0.342378</td>\n",
       "    </tr>\n",
       "    <tr>\n",
       "      <th>3</th>\n",
       "      <td>0.456783</td>\n",
       "      <td>0.345673</td>\n",
       "      <td>0.678934</td>\n",
       "      <td>0.333453</td>\n",
       "    </tr>\n",
       "    <tr>\n",
       "      <th>4</th>\n",
       "      <td>0.678946</td>\n",
       "      <td>0.678945</td>\n",
       "      <td>0.678956</td>\n",
       "      <td>0.456734</td>\n",
       "    </tr>\n",
       "    <tr>\n",
       "      <th>5</th>\n",
       "      <td>0.346789</td>\n",
       "      <td>0.556789</td>\n",
       "      <td>0.453422</td>\n",
       "      <td>0.345677</td>\n",
       "    </tr>\n",
       "    <tr>\n",
       "      <th>6</th>\n",
       "      <td>0.678893</td>\n",
       "      <td>0.894567</td>\n",
       "      <td>0.456789</td>\n",
       "      <td>0.489568</td>\n",
       "    </tr>\n",
       "    <tr>\n",
       "      <th>7</th>\n",
       "      <td>0.347856</td>\n",
       "      <td>0.347895</td>\n",
       "      <td>0.456735</td>\n",
       "      <td>0.236784</td>\n",
       "    </tr>\n",
       "    <tr>\n",
       "      <th>8</th>\n",
       "      <td>0.457895</td>\n",
       "      <td>0.347896</td>\n",
       "      <td>0.555323</td>\n",
       "      <td>0.346786</td>\n",
       "    </tr>\n",
       "    <tr>\n",
       "      <th>9</th>\n",
       "      <td>0.345674</td>\n",
       "      <td>0.324575</td>\n",
       "      <td>0.345623</td>\n",
       "      <td>0.235678</td>\n",
       "    </tr>\n",
       "  </tbody>\n",
       "</table>\n",
       "</div>"
      ],
      "text/plain": [
       "          A        B          C         D\n",
       "0  0.456789  0.678489  0.453412  0.342367\n",
       "1  0.496789  0.347894  0.345692  0.346789\n",
       "2  0.894567  0.349807  0.234567  0.342378\n",
       "3  0.456783  0.345673  0.678934  0.333453\n",
       "4  0.678946  0.678945  0.678956  0.456734\n",
       "5  0.346789  0.556789  0.453422  0.345677\n",
       "6  0.678893  0.894567  0.456789  0.489568\n",
       "7  0.347856  0.347895  0.456735  0.236784\n",
       "8  0.457895  0.347896  0.555323  0.346786\n",
       "9  0.345674  0.324575  0.345623  0.235678"
      ]
     },
     "execution_count": 136,
     "metadata": {},
     "output_type": "execute_result"
    }
   ],
   "source": [
    "df3"
   ]
  },
  {
   "cell_type": "code",
   "execution_count": 145,
   "id": "b44d7dff",
   "metadata": {},
   "outputs": [
    {
     "data": {
      "text/html": [
       "<div>\n",
       "<style scoped>\n",
       "    .dataframe tbody tr th:only-of-type {\n",
       "        vertical-align: middle;\n",
       "    }\n",
       "\n",
       "    .dataframe tbody tr th {\n",
       "        vertical-align: top;\n",
       "    }\n",
       "\n",
       "    .dataframe thead th {\n",
       "        text-align: right;\n",
       "    }\n",
       "</style>\n",
       "<table border=\"1\" class=\"dataframe\">\n",
       "  <thead>\n",
       "    <tr style=\"text-align: right;\">\n",
       "      <th></th>\n",
       "      <th>A</th>\n",
       "      <th>B</th>\n",
       "      <th>C</th>\n",
       "      <th>D</th>\n",
       "    </tr>\n",
       "  </thead>\n",
       "  <tbody>\n",
       "    <tr>\n",
       "      <th>0</th>\n",
       "      <td>0.456789</td>\n",
       "      <td>0.678489</td>\n",
       "      <td>0.453412</td>\n",
       "      <td>0.342367</td>\n",
       "    </tr>\n",
       "    <tr>\n",
       "      <th>1</th>\n",
       "      <td>0.496789</td>\n",
       "      <td>0.347894</td>\n",
       "      <td>0.345692</td>\n",
       "      <td>0.346789</td>\n",
       "    </tr>\n",
       "    <tr>\n",
       "      <th>2</th>\n",
       "      <td>0.894567</td>\n",
       "      <td>0.349807</td>\n",
       "      <td>0.234567</td>\n",
       "      <td>0.342378</td>\n",
       "    </tr>\n",
       "    <tr>\n",
       "      <th>3</th>\n",
       "      <td>0.456783</td>\n",
       "      <td>0.345673</td>\n",
       "      <td>0.678934</td>\n",
       "      <td>0.333453</td>\n",
       "    </tr>\n",
       "    <tr>\n",
       "      <th>4</th>\n",
       "      <td>0.678946</td>\n",
       "      <td>0.678945</td>\n",
       "      <td>0.678956</td>\n",
       "      <td>0.456734</td>\n",
       "    </tr>\n",
       "  </tbody>\n",
       "</table>\n",
       "</div>"
      ],
      "text/plain": [
       "          A         B         C         D\n",
       "0  0.456789  0.678489  0.453412  0.342367\n",
       "1  0.496789  0.347894  0.345692  0.346789\n",
       "2  0.894567  0.349807  0.234567  0.342378\n",
       "3  0.456783  0.345673  0.678934  0.333453\n",
       "4  0.678946  0.678945  0.678956  0.456734"
      ]
     },
     "execution_count": 145,
     "metadata": {},
     "output_type": "execute_result"
    }
   ],
   "source": [
    "df3.head()"
   ]
  },
  {
   "cell_type": "code",
   "execution_count": 151,
   "id": "08718ebc",
   "metadata": {},
   "outputs": [],
   "source": [
    "df3.rename(columns = {'B ': 'B'}, inplace = True)"
   ]
  },
  {
   "cell_type": "code",
   "execution_count": null,
   "id": "50af8cac",
   "metadata": {},
   "outputs": [],
   "source": []
  },
  {
   "cell_type": "code",
   "execution_count": 150,
   "id": "f2217e75",
   "metadata": {},
   "outputs": [
    {
     "data": {
      "text/plain": [
       "Index(['A', 'B', 'C', 'D'], dtype='object')"
      ]
     },
     "execution_count": 150,
     "metadata": {},
     "output_type": "execute_result"
    }
   ],
   "source": [
    "df3.columns"
   ]
  },
  {
   "cell_type": "code",
   "execution_count": 148,
   "id": "7d1734b8",
   "metadata": {},
   "outputs": [
    {
     "data": {
      "text/html": [
       "<div>\n",
       "<style scoped>\n",
       "    .dataframe tbody tr th:only-of-type {\n",
       "        vertical-align: middle;\n",
       "    }\n",
       "\n",
       "    .dataframe tbody tr th {\n",
       "        vertical-align: top;\n",
       "    }\n",
       "\n",
       "    .dataframe thead th {\n",
       "        text-align: right;\n",
       "    }\n",
       "</style>\n",
       "<table border=\"1\" class=\"dataframe\">\n",
       "  <thead>\n",
       "    <tr style=\"text-align: right;\">\n",
       "      <th></th>\n",
       "      <th>A</th>\n",
       "      <th>B</th>\n",
       "      <th>C</th>\n",
       "      <th>D</th>\n",
       "    </tr>\n",
       "  </thead>\n",
       "  <tbody>\n",
       "    <tr>\n",
       "      <th>0</th>\n",
       "      <td>0.456789</td>\n",
       "      <td>0.678489</td>\n",
       "      <td>0.453412</td>\n",
       "      <td>0.342367</td>\n",
       "    </tr>\n",
       "    <tr>\n",
       "      <th>1</th>\n",
       "      <td>0.496789</td>\n",
       "      <td>0.347894</td>\n",
       "      <td>0.345692</td>\n",
       "      <td>0.346789</td>\n",
       "    </tr>\n",
       "    <tr>\n",
       "      <th>2</th>\n",
       "      <td>0.894567</td>\n",
       "      <td>0.349807</td>\n",
       "      <td>0.234567</td>\n",
       "      <td>0.342378</td>\n",
       "    </tr>\n",
       "    <tr>\n",
       "      <th>3</th>\n",
       "      <td>0.456783</td>\n",
       "      <td>0.345673</td>\n",
       "      <td>0.678934</td>\n",
       "      <td>0.333453</td>\n",
       "    </tr>\n",
       "    <tr>\n",
       "      <th>4</th>\n",
       "      <td>0.678946</td>\n",
       "      <td>0.678945</td>\n",
       "      <td>0.678956</td>\n",
       "      <td>0.456734</td>\n",
       "    </tr>\n",
       "    <tr>\n",
       "      <th>5</th>\n",
       "      <td>0.346789</td>\n",
       "      <td>0.556789</td>\n",
       "      <td>0.453422</td>\n",
       "      <td>0.345677</td>\n",
       "    </tr>\n",
       "    <tr>\n",
       "      <th>6</th>\n",
       "      <td>0.678893</td>\n",
       "      <td>0.894567</td>\n",
       "      <td>0.456789</td>\n",
       "      <td>0.489568</td>\n",
       "    </tr>\n",
       "    <tr>\n",
       "      <th>7</th>\n",
       "      <td>0.347856</td>\n",
       "      <td>0.347895</td>\n",
       "      <td>0.456735</td>\n",
       "      <td>0.236784</td>\n",
       "    </tr>\n",
       "    <tr>\n",
       "      <th>8</th>\n",
       "      <td>0.457895</td>\n",
       "      <td>0.347896</td>\n",
       "      <td>0.555323</td>\n",
       "      <td>0.346786</td>\n",
       "    </tr>\n",
       "    <tr>\n",
       "      <th>9</th>\n",
       "      <td>0.345674</td>\n",
       "      <td>0.324575</td>\n",
       "      <td>0.345623</td>\n",
       "      <td>0.235678</td>\n",
       "    </tr>\n",
       "  </tbody>\n",
       "</table>\n",
       "</div>"
      ],
      "text/plain": [
       "          A         B         C         D\n",
       "0  0.456789  0.678489  0.453412  0.342367\n",
       "1  0.496789  0.347894  0.345692  0.346789\n",
       "2  0.894567  0.349807  0.234567  0.342378\n",
       "3  0.456783  0.345673  0.678934  0.333453\n",
       "4  0.678946  0.678945  0.678956  0.456734\n",
       "5  0.346789  0.556789  0.453422  0.345677\n",
       "6  0.678893  0.894567  0.456789  0.489568\n",
       "7  0.347856  0.347895  0.456735  0.236784\n",
       "8  0.457895  0.347896  0.555323  0.346786\n",
       "9  0.345674  0.324575  0.345623  0.235678"
      ]
     },
     "execution_count": 148,
     "metadata": {},
     "output_type": "execute_result"
    }
   ],
   "source": [
    "df3"
   ]
  },
  {
   "cell_type": "code",
   "execution_count": 149,
   "id": "a70c1ca9",
   "metadata": {
    "scrolled": true
   },
   "outputs": [
    {
     "data": {
      "text/plain": [
       "<AxesSubplot:xlabel='A', ylabel='B'>"
      ]
     },
     "execution_count": 149,
     "metadata": {},
     "output_type": "execute_result"
    },
    {
     "data": {
      "image/png": "[encoded data removed]",
      "text/plain": [
       "<Figure size 432x288 with 1 Axes>"
      ]
     },
     "metadata": {
      "needs_background": "light"
     },
     "output_type": "display_data"
    }
   ],
   "source": [
    "df3.plot.scatter('A', 'B')"
   ]
  },
  {
   "cell_type": "code",
   "execution_count": 152,
   "id": "b88e5b6b",
   "metadata": {},
   "outputs": [
    {
     "data": {
      "text/plain": [
       "<AxesSubplot:xlabel='A', ylabel='B'>"
      ]
     },
     "execution_count": 152,
     "metadata": {},
     "output_type": "execute_result"
    },
    {
     "data": {
      "image/png": "[encoded data removed]",
      "text/plain": [
       "<Figure size 864x144 with 1 Axes>"
      ]
     },
     "metadata": {
      "needs_background": "light"
     },
     "output_type": "display_data"
    }
   ],
   "source": [
    "df3.plot.scatter('A', 'B',figsize=(12,2))"
   ]
  },
  {
   "cell_type": "code",
   "execution_count": 155,
   "id": "e3eb3741",
   "metadata": {},
   "outputs": [
    {
     "data": {
      "text/plain": [
       "<AxesSubplot:xlabel='A', ylabel='B'>"
      ]
     },
     "execution_count": 155,
     "metadata": {},
     "output_type": "execute_result"
    },
    {
     "data": {
      "image/png": "[encoded data removed]",
      "text/plain": [
       "<Figure size 864x144 with 1 Axes>"
      ]
     },
     "metadata": {
      "needs_background": "light"
     },
     "output_type": "display_data"
    }
   ],
   "source": [
    "df3.plot.scatter('A', 'B',s=50,figsize=(12,2))"
   ]
  },
  {
   "cell_type": "code",
   "execution_count": 156,
   "id": "3186dfd8",
   "metadata": {},
   "outputs": [
    {
     "data": {
      "text/plain": [
       "<AxesSubplot:xlabel='A', ylabel='B'>"
      ]
     },
     "execution_count": 156,
     "metadata": {},
     "output_type": "execute_result"
    },
    {
     "data": {
      "image/png": "[encoded data removed]",
      "text/plain": [
       "<Figure size 864x144 with 1 Axes>"
      ]
     },
     "metadata": {
      "needs_background": "light"
     },
     "output_type": "display_data"
    }
   ],
   "source": [
    "df3.plot.scatter('A','B',s=50,c='r',figsize=(12,2))"
   ]
  },
  {
   "cell_type": "code",
   "execution_count": 158,
   "id": "5ddf4600",
   "metadata": {},
   "outputs": [
    {
     "data": {
      "text/plain": [
       "<AxesSubplot:>"
      ]
     },
     "execution_count": 158,
     "metadata": {},
     "output_type": "execute_result"
    },
    {
     "data": {
      "image/png": "[encoded data removed]",
      "text/plain": [
       "<Figure size 432x288 with 1 Axes>"
      ]
     },
     "metadata": {
      "needs_background": "light"
     },
     "output_type": "display_data"
    }
   ],
   "source": [
    "df3['A'].hist()"
   ]
  },
  {
   "cell_type": "code",
   "execution_count": 159,
   "id": "1eb3a498",
   "metadata": {},
   "outputs": [
    {
     "data": {
      "text/plain": [
       "<AxesSubplot:ylabel='Frequency'>"
      ]
     },
     "execution_count": 159,
     "metadata": {},
     "output_type": "execute_result"
    },
    {
     "data": {
      "image/png": "[encoded data removed]",
      "text/plain": [
       "<Figure size 432x288 with 1 Axes>"
      ]
     },
     "metadata": {
      "needs_background": "light"
     },
     "output_type": "display_data"
    }
   ],
   "source": [
    "df3['A'].plot(kind='hist')"
   ]
  },
  {
   "cell_type": "code",
   "execution_count": 160,
   "id": "dfe761cf",
   "metadata": {},
   "outputs": [
    {
     "data": {
      "text/plain": [
       "<AxesSubplot:>"
      ]
     },
     "execution_count": 160,
     "metadata": {},
     "output_type": "execute_result"
    },
    {
     "data": {
      "image/png": "[encoded data removed]",
      "text/plain": [
       "<Figure size 432x288 with 1 Axes>"
      ]
     },
     "metadata": {
      "needs_background": "light"
     },
     "output_type": "display_data"
    }
   ],
   "source": [
    "df3['A'].hist(bins=20)"
   ]
  },
  {
   "cell_type": "markdown",
   "id": "92a00590",
   "metadata": {},
   "source": [
    " call the style"
   ]
  },
  {
   "cell_type": "code",
   "execution_count": 162,
   "id": "9bebfa46",
   "metadata": {},
   "outputs": [],
   "source": [
    "import matplotlib.pyplot as plt\n",
    "plt.style.use('ggplot')"
   ]
  },
  {
   "cell_type": "code",
   "execution_count": 163,
   "id": "8eabc4cb",
   "metadata": {},
   "outputs": [
    {
     "data": {
      "text/html": [
       "<div>\n",
       "<style scoped>\n",
       "    .dataframe tbody tr th:only-of-type {\n",
       "        vertical-align: middle;\n",
       "    }\n",
       "\n",
       "    .dataframe tbody tr th {\n",
       "        vertical-align: top;\n",
       "    }\n",
       "\n",
       "    .dataframe thead th {\n",
       "        text-align: right;\n",
       "    }\n",
       "</style>\n",
       "<table border=\"1\" class=\"dataframe\">\n",
       "  <thead>\n",
       "    <tr style=\"text-align: right;\">\n",
       "      <th></th>\n",
       "      <th>A</th>\n",
       "      <th>B</th>\n",
       "      <th>C</th>\n",
       "      <th>D</th>\n",
       "    </tr>\n",
       "  </thead>\n",
       "  <tbody>\n",
       "    <tr>\n",
       "      <th>0</th>\n",
       "      <td>0.456789</td>\n",
       "      <td>0.678489</td>\n",
       "      <td>0.453412</td>\n",
       "      <td>0.342367</td>\n",
       "    </tr>\n",
       "    <tr>\n",
       "      <th>1</th>\n",
       "      <td>0.496789</td>\n",
       "      <td>0.347894</td>\n",
       "      <td>0.345692</td>\n",
       "      <td>0.346789</td>\n",
       "    </tr>\n",
       "    <tr>\n",
       "      <th>2</th>\n",
       "      <td>0.894567</td>\n",
       "      <td>0.349807</td>\n",
       "      <td>0.234567</td>\n",
       "      <td>0.342378</td>\n",
       "    </tr>\n",
       "    <tr>\n",
       "      <th>3</th>\n",
       "      <td>0.456783</td>\n",
       "      <td>0.345673</td>\n",
       "      <td>0.678934</td>\n",
       "      <td>0.333453</td>\n",
       "    </tr>\n",
       "    <tr>\n",
       "      <th>4</th>\n",
       "      <td>0.678946</td>\n",
       "      <td>0.678945</td>\n",
       "      <td>0.678956</td>\n",
       "      <td>0.456734</td>\n",
       "    </tr>\n",
       "    <tr>\n",
       "      <th>5</th>\n",
       "      <td>0.346789</td>\n",
       "      <td>0.556789</td>\n",
       "      <td>0.453422</td>\n",
       "      <td>0.345677</td>\n",
       "    </tr>\n",
       "    <tr>\n",
       "      <th>6</th>\n",
       "      <td>0.678893</td>\n",
       "      <td>0.894567</td>\n",
       "      <td>0.456789</td>\n",
       "      <td>0.489568</td>\n",
       "    </tr>\n",
       "    <tr>\n",
       "      <th>7</th>\n",
       "      <td>0.347856</td>\n",
       "      <td>0.347895</td>\n",
       "      <td>0.456735</td>\n",
       "      <td>0.236784</td>\n",
       "    </tr>\n",
       "    <tr>\n",
       "      <th>8</th>\n",
       "      <td>0.457895</td>\n",
       "      <td>0.347896</td>\n",
       "      <td>0.555323</td>\n",
       "      <td>0.346786</td>\n",
       "    </tr>\n",
       "    <tr>\n",
       "      <th>9</th>\n",
       "      <td>0.345674</td>\n",
       "      <td>0.324575</td>\n",
       "      <td>0.345623</td>\n",
       "      <td>0.235678</td>\n",
       "    </tr>\n",
       "  </tbody>\n",
       "</table>\n",
       "</div>"
      ],
      "text/plain": [
       "          A         B         C         D\n",
       "0  0.456789  0.678489  0.453412  0.342367\n",
       "1  0.496789  0.347894  0.345692  0.346789\n",
       "2  0.894567  0.349807  0.234567  0.342378\n",
       "3  0.456783  0.345673  0.678934  0.333453\n",
       "4  0.678946  0.678945  0.678956  0.456734\n",
       "5  0.346789  0.556789  0.453422  0.345677\n",
       "6  0.678893  0.894567  0.456789  0.489568\n",
       "7  0.347856  0.347895  0.456735  0.236784\n",
       "8  0.457895  0.347896  0.555323  0.346786\n",
       "9  0.345674  0.324575  0.345623  0.235678"
      ]
     },
     "execution_count": 163,
     "metadata": {},
     "output_type": "execute_result"
    }
   ],
   "source": [
    "df3"
   ]
  },
  {
   "cell_type": "code",
   "execution_count": 164,
   "id": "6294ed4e",
   "metadata": {},
   "outputs": [],
   "source": [
    "plt.style.use('ggplot')"
   ]
  },
  {
   "cell_type": "code",
   "execution_count": 165,
   "id": "7128c187",
   "metadata": {},
   "outputs": [
    {
     "data": {
      "text/plain": [
       "<AxesSubplot:ylabel='Frequency'>"
      ]
     },
     "execution_count": 165,
     "metadata": {},
     "output_type": "execute_result"
    },
    {
     "data": {
      "image/png": "[encoded data removed]",
      "text/plain": [
       "<Figure size 432x288 with 1 Axes>"
      ]
     },
     "metadata": {},
     "output_type": "display_data"
    }
   ],
   "source": [
    "df3['A'].plot.hist(bins=20)"
   ]
  },
  {
   "cell_type": "code",
   "execution_count": 166,
   "id": "23c63402",
   "metadata": {},
   "outputs": [
    {
     "data": {
      "text/plain": [
       "<AxesSubplot:ylabel='Frequency'>"
      ]
     },
     "execution_count": 166,
     "metadata": {},
     "output_type": "execute_result"
    },
    {
     "data": {
      "image/png": "[encoded data removed]",
      "text/plain": [
       "<Figure size 432x288 with 1 Axes>"
      ]
     },
     "metadata": {},
     "output_type": "display_data"
    }
   ],
   "source": [
    "df3['A'].plot.hist(bins=20,alpha=0.5)"
   ]
  },
  {
   "cell_type": "markdown",
   "id": "b81c8f7f",
   "metadata": {},
   "source": [
    "create a boxplot comparing the a and b columns"
   ]
  },
  {
   "cell_type": "code",
   "execution_count": 167,
   "id": "b3a225e8",
   "metadata": {},
   "outputs": [
    {
     "data": {
      "text/html": [
       "<div>\n",
       "<style scoped>\n",
       "    .dataframe tbody tr th:only-of-type {\n",
       "        vertical-align: middle;\n",
       "    }\n",
       "\n",
       "    .dataframe tbody tr th {\n",
       "        vertical-align: top;\n",
       "    }\n",
       "\n",
       "    .dataframe thead th {\n",
       "        text-align: right;\n",
       "    }\n",
       "</style>\n",
       "<table border=\"1\" class=\"dataframe\">\n",
       "  <thead>\n",
       "    <tr style=\"text-align: right;\">\n",
       "      <th></th>\n",
       "      <th>A</th>\n",
       "      <th>B</th>\n",
       "      <th>C</th>\n",
       "      <th>D</th>\n",
       "    </tr>\n",
       "  </thead>\n",
       "  <tbody>\n",
       "    <tr>\n",
       "      <th>0</th>\n",
       "      <td>0.456789</td>\n",
       "      <td>0.678489</td>\n",
       "      <td>0.453412</td>\n",
       "      <td>0.342367</td>\n",
       "    </tr>\n",
       "    <tr>\n",
       "      <th>1</th>\n",
       "      <td>0.496789</td>\n",
       "      <td>0.347894</td>\n",
       "      <td>0.345692</td>\n",
       "      <td>0.346789</td>\n",
       "    </tr>\n",
       "    <tr>\n",
       "      <th>2</th>\n",
       "      <td>0.894567</td>\n",
       "      <td>0.349807</td>\n",
       "      <td>0.234567</td>\n",
       "      <td>0.342378</td>\n",
       "    </tr>\n",
       "    <tr>\n",
       "      <th>3</th>\n",
       "      <td>0.456783</td>\n",
       "      <td>0.345673</td>\n",
       "      <td>0.678934</td>\n",
       "      <td>0.333453</td>\n",
       "    </tr>\n",
       "    <tr>\n",
       "      <th>4</th>\n",
       "      <td>0.678946</td>\n",
       "      <td>0.678945</td>\n",
       "      <td>0.678956</td>\n",
       "      <td>0.456734</td>\n",
       "    </tr>\n",
       "  </tbody>\n",
       "</table>\n",
       "</div>"
      ],
      "text/plain": [
       "          A         B         C         D\n",
       "0  0.456789  0.678489  0.453412  0.342367\n",
       "1  0.496789  0.347894  0.345692  0.346789\n",
       "2  0.894567  0.349807  0.234567  0.342378\n",
       "3  0.456783  0.345673  0.678934  0.333453\n",
       "4  0.678946  0.678945  0.678956  0.456734"
      ]
     },
     "execution_count": 167,
     "metadata": {},
     "output_type": "execute_result"
    }
   ],
   "source": [
    "df3.head()"
   ]
  },
  {
   "cell_type": "code",
   "execution_count": 168,
   "id": "3655eb13",
   "metadata": {},
   "outputs": [
    {
     "data": {
      "text/html": [
       "<div>\n",
       "<style scoped>\n",
       "    .dataframe tbody tr th:only-of-type {\n",
       "        vertical-align: middle;\n",
       "    }\n",
       "\n",
       "    .dataframe tbody tr th {\n",
       "        vertical-align: top;\n",
       "    }\n",
       "\n",
       "    .dataframe thead th {\n",
       "        text-align: right;\n",
       "    }\n",
       "</style>\n",
       "<table border=\"1\" class=\"dataframe\">\n",
       "  <thead>\n",
       "    <tr style=\"text-align: right;\">\n",
       "      <th></th>\n",
       "      <th>A</th>\n",
       "      <th>B</th>\n",
       "    </tr>\n",
       "  </thead>\n",
       "  <tbody>\n",
       "    <tr>\n",
       "      <th>0</th>\n",
       "      <td>0.456789</td>\n",
       "      <td>0.678489</td>\n",
       "    </tr>\n",
       "    <tr>\n",
       "      <th>1</th>\n",
       "      <td>0.496789</td>\n",
       "      <td>0.347894</td>\n",
       "    </tr>\n",
       "    <tr>\n",
       "      <th>2</th>\n",
       "      <td>0.894567</td>\n",
       "      <td>0.349807</td>\n",
       "    </tr>\n",
       "    <tr>\n",
       "      <th>3</th>\n",
       "      <td>0.456783</td>\n",
       "      <td>0.345673</td>\n",
       "    </tr>\n",
       "    <tr>\n",
       "      <th>4</th>\n",
       "      <td>0.678946</td>\n",
       "      <td>0.678945</td>\n",
       "    </tr>\n",
       "    <tr>\n",
       "      <th>5</th>\n",
       "      <td>0.346789</td>\n",
       "      <td>0.556789</td>\n",
       "    </tr>\n",
       "    <tr>\n",
       "      <th>6</th>\n",
       "      <td>0.678893</td>\n",
       "      <td>0.894567</td>\n",
       "    </tr>\n",
       "    <tr>\n",
       "      <th>7</th>\n",
       "      <td>0.347856</td>\n",
       "      <td>0.347895</td>\n",
       "    </tr>\n",
       "    <tr>\n",
       "      <th>8</th>\n",
       "      <td>0.457895</td>\n",
       "      <td>0.347896</td>\n",
       "    </tr>\n",
       "    <tr>\n",
       "      <th>9</th>\n",
       "      <td>0.345674</td>\n",
       "      <td>0.324575</td>\n",
       "    </tr>\n",
       "  </tbody>\n",
       "</table>\n",
       "</div>"
      ],
      "text/plain": [
       "          A         B\n",
       "0  0.456789  0.678489\n",
       "1  0.496789  0.347894\n",
       "2  0.894567  0.349807\n",
       "3  0.456783  0.345673\n",
       "4  0.678946  0.678945\n",
       "5  0.346789  0.556789\n",
       "6  0.678893  0.894567\n",
       "7  0.347856  0.347895\n",
       "8  0.457895  0.347896\n",
       "9  0.345674  0.324575"
      ]
     },
     "execution_count": 168,
     "metadata": {},
     "output_type": "execute_result"
    }
   ],
   "source": [
    "df3[['A','B']]"
   ]
  },
  {
   "cell_type": "code",
   "execution_count": 169,
   "id": "92dd3153",
   "metadata": {},
   "outputs": [
    {
     "data": {
      "text/plain": [
       "<AxesSubplot:>"
      ]
     },
     "execution_count": 169,
     "metadata": {},
     "output_type": "execute_result"
    },
    {
     "data": {
      "image/png": "[encoded data removed]",
      "text/plain": [
       "<Figure size 432x288 with 1 Axes>"
      ]
     },
     "metadata": {},
     "output_type": "display_data"
    }
   ],
   "source": [
    "df3[['A','B']].plot.box()"
   ]
  },
  {
   "cell_type": "code",
   "execution_count": 170,
   "id": "b1a8a6db",
   "metadata": {},
   "outputs": [
    {
     "data": {
      "text/html": [
       "<div>\n",
       "<style scoped>\n",
       "    .dataframe tbody tr th:only-of-type {\n",
       "        vertical-align: middle;\n",
       "    }\n",
       "\n",
       "    .dataframe tbody tr th {\n",
       "        vertical-align: top;\n",
       "    }\n",
       "\n",
       "    .dataframe thead th {\n",
       "        text-align: right;\n",
       "    }\n",
       "</style>\n",
       "<table border=\"1\" class=\"dataframe\">\n",
       "  <thead>\n",
       "    <tr style=\"text-align: right;\">\n",
       "      <th></th>\n",
       "      <th>A</th>\n",
       "      <th>B</th>\n",
       "      <th>C</th>\n",
       "      <th>D</th>\n",
       "    </tr>\n",
       "  </thead>\n",
       "  <tbody>\n",
       "    <tr>\n",
       "      <th>0</th>\n",
       "      <td>0.456789</td>\n",
       "      <td>0.678489</td>\n",
       "      <td>0.453412</td>\n",
       "      <td>0.342367</td>\n",
       "    </tr>\n",
       "    <tr>\n",
       "      <th>1</th>\n",
       "      <td>0.496789</td>\n",
       "      <td>0.347894</td>\n",
       "      <td>0.345692</td>\n",
       "      <td>0.346789</td>\n",
       "    </tr>\n",
       "    <tr>\n",
       "      <th>2</th>\n",
       "      <td>0.894567</td>\n",
       "      <td>0.349807</td>\n",
       "      <td>0.234567</td>\n",
       "      <td>0.342378</td>\n",
       "    </tr>\n",
       "    <tr>\n",
       "      <th>3</th>\n",
       "      <td>0.456783</td>\n",
       "      <td>0.345673</td>\n",
       "      <td>0.678934</td>\n",
       "      <td>0.333453</td>\n",
       "    </tr>\n",
       "    <tr>\n",
       "      <th>4</th>\n",
       "      <td>0.678946</td>\n",
       "      <td>0.678945</td>\n",
       "      <td>0.678956</td>\n",
       "      <td>0.456734</td>\n",
       "    </tr>\n",
       "    <tr>\n",
       "      <th>5</th>\n",
       "      <td>0.346789</td>\n",
       "      <td>0.556789</td>\n",
       "      <td>0.453422</td>\n",
       "      <td>0.345677</td>\n",
       "    </tr>\n",
       "    <tr>\n",
       "      <th>6</th>\n",
       "      <td>0.678893</td>\n",
       "      <td>0.894567</td>\n",
       "      <td>0.456789</td>\n",
       "      <td>0.489568</td>\n",
       "    </tr>\n",
       "    <tr>\n",
       "      <th>7</th>\n",
       "      <td>0.347856</td>\n",
       "      <td>0.347895</td>\n",
       "      <td>0.456735</td>\n",
       "      <td>0.236784</td>\n",
       "    </tr>\n",
       "    <tr>\n",
       "      <th>8</th>\n",
       "      <td>0.457895</td>\n",
       "      <td>0.347896</td>\n",
       "      <td>0.555323</td>\n",
       "      <td>0.346786</td>\n",
       "    </tr>\n",
       "    <tr>\n",
       "      <th>9</th>\n",
       "      <td>0.345674</td>\n",
       "      <td>0.324575</td>\n",
       "      <td>0.345623</td>\n",
       "      <td>0.235678</td>\n",
       "    </tr>\n",
       "  </tbody>\n",
       "</table>\n",
       "</div>"
      ],
      "text/plain": [
       "          A         B         C         D\n",
       "0  0.456789  0.678489  0.453412  0.342367\n",
       "1  0.496789  0.347894  0.345692  0.346789\n",
       "2  0.894567  0.349807  0.234567  0.342378\n",
       "3  0.456783  0.345673  0.678934  0.333453\n",
       "4  0.678946  0.678945  0.678956  0.456734\n",
       "5  0.346789  0.556789  0.453422  0.345677\n",
       "6  0.678893  0.894567  0.456789  0.489568\n",
       "7  0.347856  0.347895  0.456735  0.236784\n",
       "8  0.457895  0.347896  0.555323  0.346786\n",
       "9  0.345674  0.324575  0.345623  0.235678"
      ]
     },
     "execution_count": 170,
     "metadata": {},
     "output_type": "execute_result"
    }
   ],
   "source": [
    "df3"
   ]
  },
  {
   "cell_type": "code",
   "execution_count": 172,
   "id": "9c659c16",
   "metadata": {},
   "outputs": [
    {
     "data": {
      "text/plain": [
       "<AxesSubplot:ylabel='Density'>"
      ]
     },
     "execution_count": 172,
     "metadata": {},
     "output_type": "execute_result"
    },
    {
     "data": {
      "image/png": "[encoded data removed]",
      "text/plain": [
       "<Figure size 432x288 with 1 Axes>"
      ]
     },
     "metadata": {},
     "output_type": "display_data"
    }
   ],
   "source": [
    "df3['D'].plot.kde()"
   ]
  },
  {
   "cell_type": "code",
   "execution_count": 173,
   "id": "aeae261e",
   "metadata": {},
   "outputs": [
    {
     "data": {
      "text/plain": [
       "<AxesSubplot:ylabel='Density'>"
      ]
     },
     "execution_count": 173,
     "metadata": {},
     "output_type": "execute_result"
    },
    {
     "data": {
      "image/png": "[encoded data removed]",
      "text/plain": [
       "<Figure size 432x288 with 1 Axes>"
      ]
     },
     "metadata": {},
     "output_type": "display_data"
    }
   ],
   "source": [
    "df3['D'].plot.density()"
   ]
  },
  {
   "cell_type": "code",
   "execution_count": 174,
   "id": "6bfda254",
   "metadata": {},
   "outputs": [
    {
     "data": {
      "text/plain": [
       "<AxesSubplot:ylabel='Density'>"
      ]
     },
     "execution_count": 174,
     "metadata": {},
     "output_type": "execute_result"
    },
    {
     "data": {
      "image/png": "[encoded data removed]",
      "text/plain": [
       "<Figure size 432x288 with 1 Axes>"
      ]
     },
     "metadata": {},
     "output_type": "display_data"
    }
   ],
   "source": [
    "df3['D'].plot.density(lw=4,ls='--')"
   ]
  },
  {
   "cell_type": "markdown",
   "id": "cedf97a8",
   "metadata": {},
   "source": [
    "create an area of all columns for just the rows up to 30"
   ]
  },
  {
   "cell_type": "code",
   "execution_count": 182,
   "id": "c2cf7d58",
   "metadata": {},
   "outputs": [],
   "source": [
    "#df3.ix[0:5].plot.area(alpha=0.4)"
   ]
  },
  {
   "cell_type": "code",
   "execution_count": null,
   "id": "dc55d35b",
   "metadata": {},
   "outputs": [],
   "source": []
  }
 ],
 "metadata": {
  "kernelspec": {
   "display_name": "Python 3",
   "language": "python",
   "name": "python3"
  },
  "language_info": {
   "codemirror_mode": {
    "name": "ipython",
    "version": 3
   },
   "file_extension": ".py",
   "mimetype": "text/x-python",
   "name": "python",
   "nbconvert_exporter": "python",
   "pygments_lexer": "ipython3",
   "version": "3.8.8"
  }
 },
 "nbformat": 4,
 "nbformat_minor": 5
}
