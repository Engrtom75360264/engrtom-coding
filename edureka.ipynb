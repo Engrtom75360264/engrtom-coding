{
 "cells": [
  {
   "cell_type": "code",
   "execution_count": 1,
   "id": "7074c65c-7497-4dcb-8367-5f402db9e174",
   "metadata": {},
   "outputs": [
    {
     "name": "stdout",
     "output_type": "stream",
     "text": [
      "hello world\n"
     ]
    }
   ],
   "source": [
    "print('hello world')"
   ]
  },
  {
   "cell_type": "code",
   "execution_count": 1,
   "id": "044fc6c9-f32f-4610-8d2a-0191607be70b",
   "metadata": {},
   "outputs": [],
   "source": [
    "import pandas as pd\n",
    "import numpy as np"
   ]
  },
  {
   "cell_type": "code",
   "execution_count": 3,
   "id": "b2736500-61de-4430-8298-74100c1fec5f",
   "metadata": {},
   "outputs": [],
   "source": [
    "s = pd.Series([1,2,3,4,5,6,np.nan,8,9,10])"
   ]
  },
  {
   "cell_type": "code",
   "execution_count": 5,
   "id": "b7364b70-c8e3-42e2-96d0-294d7e44dcde",
   "metadata": {},
   "outputs": [
    {
     "data": {
      "text/plain": [
       "0     1.0\n",
       "1     2.0\n",
       "2     3.0\n",
       "3     4.0\n",
       "4     5.0\n",
       "5     6.0\n",
       "6     NaN\n",
       "7     8.0\n",
       "8     9.0\n",
       "9    10.0\n",
       "dtype: float64"
      ]
     },
     "execution_count": 5,
     "metadata": {},
     "output_type": "execute_result"
    }
   ],
   "source": [
    "s"
   ]
  },
  {
   "cell_type": "code",
   "execution_count": 7,
   "id": "89616e00-8b9c-4bbf-ac05-cc76ade27152",
   "metadata": {},
   "outputs": [],
   "source": [
    "d = pd.date_range('20240915',periods=10)"
   ]
  },
  {
   "cell_type": "code",
   "execution_count": 9,
   "id": "1e0d1f64-b544-4f0d-9366-21e318c07722",
   "metadata": {},
   "outputs": [
    {
     "data": {
      "text/plain": [
       "DatetimeIndex(['2024-09-15', '2024-09-16', '2024-09-17', '2024-09-18',\n",
       "               '2024-09-19', '2024-09-20', '2024-09-21', '2024-09-22',\n",
       "               '2024-09-23', '2024-09-24'],\n",
       "              dtype='datetime64[ns]', freq='D')"
      ]
     },
     "execution_count": 9,
     "metadata": {},
     "output_type": "execute_result"
    }
   ],
   "source": [
    "d"
   ]
  },
  {
   "cell_type": "code",
   "execution_count": 11,
   "id": "0af4b632-99ec-4e1d-bc6a-8e246a89ce85",
   "metadata": {},
   "outputs": [],
   "source": [
    "df = pd.DataFrame(np.random.randn(10,4), index=d,columns=['A','B','C','D'])"
   ]
  },
  {
   "cell_type": "code",
   "execution_count": 13,
   "id": "26f5b4b2-1e5b-454b-9203-2aaf921f5de4",
   "metadata": {},
   "outputs": [
    {
     "data": {
      "text/html": [
       "<div>\n",
       "<style scoped>\n",
       "    .dataframe tbody tr th:only-of-type {\n",
       "        vertical-align: middle;\n",
       "    }\n",
       "\n",
       "    .dataframe tbody tr th {\n",
       "        vertical-align: top;\n",
       "    }\n",
       "\n",
       "    .dataframe thead th {\n",
       "        text-align: right;\n",
       "    }\n",
       "</style>\n",
       "<table border=\"1\" class=\"dataframe\">\n",
       "  <thead>\n",
       "    <tr style=\"text-align: right;\">\n",
       "      <th></th>\n",
       "      <th>A</th>\n",
       "      <th>B</th>\n",
       "      <th>C</th>\n",
       "      <th>D</th>\n",
       "    </tr>\n",
       "  </thead>\n",
       "  <tbody>\n",
       "    <tr>\n",
       "      <th>2024-09-15</th>\n",
       "      <td>-0.513610</td>\n",
       "      <td>3.330598</td>\n",
       "      <td>-0.263716</td>\n",
       "      <td>-0.504357</td>\n",
       "    </tr>\n",
       "    <tr>\n",
       "      <th>2024-09-16</th>\n",
       "      <td>1.753962</td>\n",
       "      <td>0.869021</td>\n",
       "      <td>0.903055</td>\n",
       "      <td>1.621538</td>\n",
       "    </tr>\n",
       "    <tr>\n",
       "      <th>2024-09-17</th>\n",
       "      <td>0.664213</td>\n",
       "      <td>-1.289640</td>\n",
       "      <td>-0.042143</td>\n",
       "      <td>-1.177153</td>\n",
       "    </tr>\n",
       "    <tr>\n",
       "      <th>2024-09-18</th>\n",
       "      <td>-0.276152</td>\n",
       "      <td>2.370508</td>\n",
       "      <td>-0.807666</td>\n",
       "      <td>2.364025</td>\n",
       "    </tr>\n",
       "    <tr>\n",
       "      <th>2024-09-19</th>\n",
       "      <td>-0.318673</td>\n",
       "      <td>-0.360251</td>\n",
       "      <td>0.068149</td>\n",
       "      <td>1.277854</td>\n",
       "    </tr>\n",
       "    <tr>\n",
       "      <th>2024-09-20</th>\n",
       "      <td>-0.094285</td>\n",
       "      <td>1.852556</td>\n",
       "      <td>0.015372</td>\n",
       "      <td>1.820559</td>\n",
       "    </tr>\n",
       "    <tr>\n",
       "      <th>2024-09-21</th>\n",
       "      <td>0.564448</td>\n",
       "      <td>-0.937091</td>\n",
       "      <td>-0.552862</td>\n",
       "      <td>0.416849</td>\n",
       "    </tr>\n",
       "    <tr>\n",
       "      <th>2024-09-22</th>\n",
       "      <td>-1.567455</td>\n",
       "      <td>0.546239</td>\n",
       "      <td>0.298360</td>\n",
       "      <td>0.593211</td>\n",
       "    </tr>\n",
       "    <tr>\n",
       "      <th>2024-09-23</th>\n",
       "      <td>-1.314211</td>\n",
       "      <td>-0.718739</td>\n",
       "      <td>0.656453</td>\n",
       "      <td>0.424180</td>\n",
       "    </tr>\n",
       "    <tr>\n",
       "      <th>2024-09-24</th>\n",
       "      <td>-1.142704</td>\n",
       "      <td>-1.337031</td>\n",
       "      <td>2.071134</td>\n",
       "      <td>0.932477</td>\n",
       "    </tr>\n",
       "  </tbody>\n",
       "</table>\n",
       "</div>"
      ],
      "text/plain": [
       "                   A         B         C         D\n",
       "2024-09-15 -0.513610  3.330598 -0.263716 -0.504357\n",
       "2024-09-16  1.753962  0.869021  0.903055  1.621538\n",
       "2024-09-17  0.664213 -1.289640 -0.042143 -1.177153\n",
       "2024-09-18 -0.276152  2.370508 -0.807666  2.364025\n",
       "2024-09-19 -0.318673 -0.360251  0.068149  1.277854\n",
       "2024-09-20 -0.094285  1.852556  0.015372  1.820559\n",
       "2024-09-21  0.564448 -0.937091 -0.552862  0.416849\n",
       "2024-09-22 -1.567455  0.546239  0.298360  0.593211\n",
       "2024-09-23 -1.314211 -0.718739  0.656453  0.424180\n",
       "2024-09-24 -1.142704 -1.337031  2.071134  0.932477"
      ]
     },
     "execution_count": 13,
     "metadata": {},
     "output_type": "execute_result"
    }
   ],
   "source": [
    "df"
   ]
  },
  {
   "cell_type": "code",
   "execution_count": null,
   "id": "c74766a8-e6c5-4898-ba68-703f4533a3f4",
   "metadata": {},
   "outputs": [],
   "source": []
  },
  {
   "cell_type": "code",
   "execution_count": 16,
   "id": "098244c4-f607-4c8f-973b-3a0f81e2910a",
   "metadata": {},
   "outputs": [],
   "source": [
    "df = pd.DataFrame({'A':[1,2,3,4],\n",
    "                   'B':pd.Timestamp('20240915'),\n",
    "                   'C':pd.Series(1, index=list(range(4)), dtype='float32'),\n",
    "                   'D': np.array([5]*4,dtype='int32'),\n",
    "                   'E': pd.Categorical(['true','False','True','False']),\n",
    "                   'F':'Edureka'})"
   ]
  },
  {
   "cell_type": "code",
   "execution_count": 18,
   "id": "5bc63c95-db98-455d-bd86-79190699f17a",
   "metadata": {},
   "outputs": [
    {
     "data": {
      "text/html": [
       "<div>\n",
       "<style scoped>\n",
       "    .dataframe tbody tr th:only-of-type {\n",
       "        vertical-align: middle;\n",
       "    }\n",
       "\n",
       "    .dataframe tbody tr th {\n",
       "        vertical-align: top;\n",
       "    }\n",
       "\n",
       "    .dataframe thead th {\n",
       "        text-align: right;\n",
       "    }\n",
       "</style>\n",
       "<table border=\"1\" class=\"dataframe\">\n",
       "  <thead>\n",
       "    <tr style=\"text-align: right;\">\n",
       "      <th></th>\n",
       "      <th>A</th>\n",
       "      <th>B</th>\n",
       "      <th>C</th>\n",
       "      <th>D</th>\n",
       "      <th>E</th>\n",
       "      <th>F</th>\n",
       "    </tr>\n",
       "  </thead>\n",
       "  <tbody>\n",
       "    <tr>\n",
       "      <th>0</th>\n",
       "      <td>1</td>\n",
       "      <td>2024-09-15</td>\n",
       "      <td>1.0</td>\n",
       "      <td>5</td>\n",
       "      <td>true</td>\n",
       "      <td>Edureka</td>\n",
       "    </tr>\n",
       "    <tr>\n",
       "      <th>1</th>\n",
       "      <td>2</td>\n",
       "      <td>2024-09-15</td>\n",
       "      <td>1.0</td>\n",
       "      <td>5</td>\n",
       "      <td>False</td>\n",
       "      <td>Edureka</td>\n",
       "    </tr>\n",
       "    <tr>\n",
       "      <th>2</th>\n",
       "      <td>3</td>\n",
       "      <td>2024-09-15</td>\n",
       "      <td>1.0</td>\n",
       "      <td>5</td>\n",
       "      <td>True</td>\n",
       "      <td>Edureka</td>\n",
       "    </tr>\n",
       "    <tr>\n",
       "      <th>3</th>\n",
       "      <td>4</td>\n",
       "      <td>2024-09-15</td>\n",
       "      <td>1.0</td>\n",
       "      <td>5</td>\n",
       "      <td>False</td>\n",
       "      <td>Edureka</td>\n",
       "    </tr>\n",
       "  </tbody>\n",
       "</table>\n",
       "</div>"
      ],
      "text/plain": [
       "   A          B    C  D      E        F\n",
       "0  1 2024-09-15  1.0  5   true  Edureka\n",
       "1  2 2024-09-15  1.0  5  False  Edureka\n",
       "2  3 2024-09-15  1.0  5   True  Edureka\n",
       "3  4 2024-09-15  1.0  5  False  Edureka"
      ]
     },
     "execution_count": 18,
     "metadata": {},
     "output_type": "execute_result"
    }
   ],
   "source": [
    "df"
   ]
  },
  {
   "cell_type": "code",
   "execution_count": 20,
   "id": "6ad64975-e490-4b72-b8b2-9b3ba7111435",
   "metadata": {},
   "outputs": [
    {
     "data": {
      "text/plain": [
       "A            int64\n",
       "B    datetime64[s]\n",
       "C          float32\n",
       "D            int32\n",
       "E         category\n",
       "F           object\n",
       "dtype: object"
      ]
     },
     "execution_count": 20,
     "metadata": {},
     "output_type": "execute_result"
    }
   ],
   "source": [
    "df.dtypes"
   ]
  },
  {
   "cell_type": "code",
   "execution_count": null,
   "id": "c19e65fc-275c-4158-b5d4-7cd7ccc00974",
   "metadata": {},
   "outputs": [],
   "source": []
  },
  {
   "cell_type": "markdown",
   "id": "4a379d90-555f-4fa6-9018-633c1c8ea1c0",
   "metadata": {},
   "source": [
    "how to view data"
   ]
  },
  {
   "cell_type": "code",
   "execution_count": 24,
   "id": "ab088d15-e56d-4a47-acea-386c706e083e",
   "metadata": {},
   "outputs": [
    {
     "data": {
      "text/html": [
       "<div>\n",
       "<style scoped>\n",
       "    .dataframe tbody tr th:only-of-type {\n",
       "        vertical-align: middle;\n",
       "    }\n",
       "\n",
       "    .dataframe tbody tr th {\n",
       "        vertical-align: top;\n",
       "    }\n",
       "\n",
       "    .dataframe thead th {\n",
       "        text-align: right;\n",
       "    }\n",
       "</style>\n",
       "<table border=\"1\" class=\"dataframe\">\n",
       "  <thead>\n",
       "    <tr style=\"text-align: right;\">\n",
       "      <th></th>\n",
       "      <th>A</th>\n",
       "      <th>B</th>\n",
       "      <th>C</th>\n",
       "      <th>D</th>\n",
       "      <th>E</th>\n",
       "      <th>F</th>\n",
       "    </tr>\n",
       "  </thead>\n",
       "  <tbody>\n",
       "    <tr>\n",
       "      <th>0</th>\n",
       "      <td>1</td>\n",
       "      <td>2024-09-15</td>\n",
       "      <td>1.0</td>\n",
       "      <td>5</td>\n",
       "      <td>true</td>\n",
       "      <td>Edureka</td>\n",
       "    </tr>\n",
       "    <tr>\n",
       "      <th>1</th>\n",
       "      <td>2</td>\n",
       "      <td>2024-09-15</td>\n",
       "      <td>1.0</td>\n",
       "      <td>5</td>\n",
       "      <td>False</td>\n",
       "      <td>Edureka</td>\n",
       "    </tr>\n",
       "    <tr>\n",
       "      <th>2</th>\n",
       "      <td>3</td>\n",
       "      <td>2024-09-15</td>\n",
       "      <td>1.0</td>\n",
       "      <td>5</td>\n",
       "      <td>True</td>\n",
       "      <td>Edureka</td>\n",
       "    </tr>\n",
       "    <tr>\n",
       "      <th>3</th>\n",
       "      <td>4</td>\n",
       "      <td>2024-09-15</td>\n",
       "      <td>1.0</td>\n",
       "      <td>5</td>\n",
       "      <td>False</td>\n",
       "      <td>Edureka</td>\n",
       "    </tr>\n",
       "  </tbody>\n",
       "</table>\n",
       "</div>"
      ],
      "text/plain": [
       "   A          B    C  D      E        F\n",
       "0  1 2024-09-15  1.0  5   true  Edureka\n",
       "1  2 2024-09-15  1.0  5  False  Edureka\n",
       "2  3 2024-09-15  1.0  5   True  Edureka\n",
       "3  4 2024-09-15  1.0  5  False  Edureka"
      ]
     },
     "execution_count": 24,
     "metadata": {},
     "output_type": "execute_result"
    }
   ],
   "source": [
    "df.head()"
   ]
  },
  {
   "cell_type": "code",
   "execution_count": 26,
   "id": "5d07f11f-2333-48af-ba50-9ddc917b3c4d",
   "metadata": {},
   "outputs": [
    {
     "data": {
      "text/html": [
       "<div>\n",
       "<style scoped>\n",
       "    .dataframe tbody tr th:only-of-type {\n",
       "        vertical-align: middle;\n",
       "    }\n",
       "\n",
       "    .dataframe tbody tr th {\n",
       "        vertical-align: top;\n",
       "    }\n",
       "\n",
       "    .dataframe thead th {\n",
       "        text-align: right;\n",
       "    }\n",
       "</style>\n",
       "<table border=\"1\" class=\"dataframe\">\n",
       "  <thead>\n",
       "    <tr style=\"text-align: right;\">\n",
       "      <th></th>\n",
       "      <th>A</th>\n",
       "      <th>B</th>\n",
       "      <th>C</th>\n",
       "      <th>D</th>\n",
       "      <th>E</th>\n",
       "      <th>F</th>\n",
       "    </tr>\n",
       "  </thead>\n",
       "  <tbody>\n",
       "    <tr>\n",
       "      <th>0</th>\n",
       "      <td>1</td>\n",
       "      <td>2024-09-15</td>\n",
       "      <td>1.0</td>\n",
       "      <td>5</td>\n",
       "      <td>true</td>\n",
       "      <td>Edureka</td>\n",
       "    </tr>\n",
       "    <tr>\n",
       "      <th>1</th>\n",
       "      <td>2</td>\n",
       "      <td>2024-09-15</td>\n",
       "      <td>1.0</td>\n",
       "      <td>5</td>\n",
       "      <td>False</td>\n",
       "      <td>Edureka</td>\n",
       "    </tr>\n",
       "    <tr>\n",
       "      <th>2</th>\n",
       "      <td>3</td>\n",
       "      <td>2024-09-15</td>\n",
       "      <td>1.0</td>\n",
       "      <td>5</td>\n",
       "      <td>True</td>\n",
       "      <td>Edureka</td>\n",
       "    </tr>\n",
       "    <tr>\n",
       "      <th>3</th>\n",
       "      <td>4</td>\n",
       "      <td>2024-09-15</td>\n",
       "      <td>1.0</td>\n",
       "      <td>5</td>\n",
       "      <td>False</td>\n",
       "      <td>Edureka</td>\n",
       "    </tr>\n",
       "  </tbody>\n",
       "</table>\n",
       "</div>"
      ],
      "text/plain": [
       "   A          B    C  D      E        F\n",
       "0  1 2024-09-15  1.0  5   true  Edureka\n",
       "1  2 2024-09-15  1.0  5  False  Edureka\n",
       "2  3 2024-09-15  1.0  5   True  Edureka\n",
       "3  4 2024-09-15  1.0  5  False  Edureka"
      ]
     },
     "execution_count": 26,
     "metadata": {},
     "output_type": "execute_result"
    }
   ],
   "source": [
    "df.tail()"
   ]
  },
  {
   "cell_type": "code",
   "execution_count": 28,
   "id": "287d6f09-2acf-4fdc-967a-72d1765ff37f",
   "metadata": {},
   "outputs": [
    {
     "data": {
      "text/plain": [
       "Index([0, 1, 2, 3], dtype='int64')"
      ]
     },
     "execution_count": 28,
     "metadata": {},
     "output_type": "execute_result"
    }
   ],
   "source": [
    "df.index"
   ]
  },
  {
   "cell_type": "code",
   "execution_count": 30,
   "id": "5ba8f00c-c3dd-4262-b64c-192a2195e4ba",
   "metadata": {},
   "outputs": [
    {
     "data": {
      "text/plain": [
       "<bound method NDFrame.keys of    A          B    C  D      E        F\n",
       "0  1 2024-09-15  1.0  5   true  Edureka\n",
       "1  2 2024-09-15  1.0  5  False  Edureka\n",
       "2  3 2024-09-15  1.0  5   True  Edureka\n",
       "3  4 2024-09-15  1.0  5  False  Edureka>"
      ]
     },
     "execution_count": 30,
     "metadata": {},
     "output_type": "execute_result"
    }
   ],
   "source": [
    "df.keys"
   ]
  },
  {
   "cell_type": "code",
   "execution_count": 32,
   "id": "20ecd576-7204-4771-b8d8-009b8338ba8b",
   "metadata": {},
   "outputs": [
    {
     "data": {
      "text/plain": [
       "array([[1, Timestamp('2024-09-15 00:00:00'), 1.0, 5, 'true', 'Edureka'],\n",
       "       [2, Timestamp('2024-09-15 00:00:00'), 1.0, 5, 'False', 'Edureka'],\n",
       "       [3, Timestamp('2024-09-15 00:00:00'), 1.0, 5, 'True', 'Edureka'],\n",
       "       [4, Timestamp('2024-09-15 00:00:00'), 1.0, 5, 'False', 'Edureka']],\n",
       "      dtype=object)"
      ]
     },
     "execution_count": 32,
     "metadata": {},
     "output_type": "execute_result"
    }
   ],
   "source": [
    "df.values"
   ]
  },
  {
   "cell_type": "code",
   "execution_count": 34,
   "id": "dda7a91c-d64e-4e18-be1f-41f9f67be565",
   "metadata": {},
   "outputs": [
    {
     "data": {
      "text/plain": [
       "Index(['A', 'B', 'C', 'D', 'E', 'F'], dtype='object')"
      ]
     },
     "execution_count": 34,
     "metadata": {},
     "output_type": "execute_result"
    }
   ],
   "source": [
    "df.columns"
   ]
  },
  {
   "cell_type": "code",
   "execution_count": 36,
   "id": "a0d9e8d7-e257-4c80-94ce-01eda5527d62",
   "metadata": {},
   "outputs": [
    {
     "data": {
      "text/plain": [
       "array([[1, Timestamp('2024-09-15 00:00:00'), 1.0, 5, 'true', 'Edureka'],\n",
       "       [2, Timestamp('2024-09-15 00:00:00'), 1.0, 5, 'False', 'Edureka'],\n",
       "       [3, Timestamp('2024-09-15 00:00:00'), 1.0, 5, 'True', 'Edureka'],\n",
       "       [4, Timestamp('2024-09-15 00:00:00'), 1.0, 5, 'False', 'Edureka']],\n",
       "      dtype=object)"
      ]
     },
     "execution_count": 36,
     "metadata": {},
     "output_type": "execute_result"
    }
   ],
   "source": [
    "df.to_numpy()"
   ]
  },
  {
   "cell_type": "code",
   "execution_count": 38,
   "id": "750249f4-fdf3-4e39-b3d3-cd25cc6ba8e6",
   "metadata": {},
   "outputs": [
    {
     "data": {
      "text/html": [
       "<div>\n",
       "<style scoped>\n",
       "    .dataframe tbody tr th:only-of-type {\n",
       "        vertical-align: middle;\n",
       "    }\n",
       "\n",
       "    .dataframe tbody tr th {\n",
       "        vertical-align: top;\n",
       "    }\n",
       "\n",
       "    .dataframe thead th {\n",
       "        text-align: right;\n",
       "    }\n",
       "</style>\n",
       "<table border=\"1\" class=\"dataframe\">\n",
       "  <thead>\n",
       "    <tr style=\"text-align: right;\">\n",
       "      <th></th>\n",
       "      <th>A</th>\n",
       "      <th>B</th>\n",
       "      <th>C</th>\n",
       "      <th>D</th>\n",
       "    </tr>\n",
       "  </thead>\n",
       "  <tbody>\n",
       "    <tr>\n",
       "      <th>count</th>\n",
       "      <td>4.000000</td>\n",
       "      <td>4</td>\n",
       "      <td>4.0</td>\n",
       "      <td>4.0</td>\n",
       "    </tr>\n",
       "    <tr>\n",
       "      <th>mean</th>\n",
       "      <td>2.500000</td>\n",
       "      <td>2024-09-15 00:00:00</td>\n",
       "      <td>1.0</td>\n",
       "      <td>5.0</td>\n",
       "    </tr>\n",
       "    <tr>\n",
       "      <th>min</th>\n",
       "      <td>1.000000</td>\n",
       "      <td>2024-09-15 00:00:00</td>\n",
       "      <td>1.0</td>\n",
       "      <td>5.0</td>\n",
       "    </tr>\n",
       "    <tr>\n",
       "      <th>25%</th>\n",
       "      <td>1.750000</td>\n",
       "      <td>2024-09-15 00:00:00</td>\n",
       "      <td>1.0</td>\n",
       "      <td>5.0</td>\n",
       "    </tr>\n",
       "    <tr>\n",
       "      <th>50%</th>\n",
       "      <td>2.500000</td>\n",
       "      <td>2024-09-15 00:00:00</td>\n",
       "      <td>1.0</td>\n",
       "      <td>5.0</td>\n",
       "    </tr>\n",
       "    <tr>\n",
       "      <th>75%</th>\n",
       "      <td>3.250000</td>\n",
       "      <td>2024-09-15 00:00:00</td>\n",
       "      <td>1.0</td>\n",
       "      <td>5.0</td>\n",
       "    </tr>\n",
       "    <tr>\n",
       "      <th>max</th>\n",
       "      <td>4.000000</td>\n",
       "      <td>2024-09-15 00:00:00</td>\n",
       "      <td>1.0</td>\n",
       "      <td>5.0</td>\n",
       "    </tr>\n",
       "    <tr>\n",
       "      <th>std</th>\n",
       "      <td>1.290994</td>\n",
       "      <td>NaN</td>\n",
       "      <td>0.0</td>\n",
       "      <td>0.0</td>\n",
       "    </tr>\n",
       "  </tbody>\n",
       "</table>\n",
       "</div>"
      ],
      "text/plain": [
       "              A                    B    C    D\n",
       "count  4.000000                    4  4.0  4.0\n",
       "mean   2.500000  2024-09-15 00:00:00  1.0  5.0\n",
       "min    1.000000  2024-09-15 00:00:00  1.0  5.0\n",
       "25%    1.750000  2024-09-15 00:00:00  1.0  5.0\n",
       "50%    2.500000  2024-09-15 00:00:00  1.0  5.0\n",
       "75%    3.250000  2024-09-15 00:00:00  1.0  5.0\n",
       "max    4.000000  2024-09-15 00:00:00  1.0  5.0\n",
       "std    1.290994                  NaN  0.0  0.0"
      ]
     },
     "execution_count": 38,
     "metadata": {},
     "output_type": "execute_result"
    }
   ],
   "source": [
    "df.describe()"
   ]
  },
  {
   "cell_type": "code",
   "execution_count": 40,
   "id": "9392cfbf-502c-4db1-b41c-efcdff0c45f4",
   "metadata": {},
   "outputs": [
    {
     "name": "stdout",
     "output_type": "stream",
     "text": [
      "<class 'pandas.core.frame.DataFrame'>\n",
      "Index: 4 entries, 0 to 3\n",
      "Data columns (total 6 columns):\n",
      " #   Column  Non-Null Count  Dtype        \n",
      "---  ------  --------------  -----        \n",
      " 0   A       4 non-null      int64        \n",
      " 1   B       4 non-null      datetime64[s]\n",
      " 2   C       4 non-null      float32      \n",
      " 3   D       4 non-null      int32        \n",
      " 4   E       4 non-null      category     \n",
      " 5   F       4 non-null      object       \n",
      "dtypes: category(1), datetime64[s](1), float32(1), int32(1), int64(1), object(1)\n",
      "memory usage: 296.0+ bytes\n"
     ]
    }
   ],
   "source": [
    "df.info()"
   ]
  },
  {
   "cell_type": "code",
   "execution_count": 42,
   "id": "999a7d88-21f0-44de-bbd9-386e410c79ba",
   "metadata": {},
   "outputs": [
    {
     "data": {
      "text/html": [
       "<div>\n",
       "<style scoped>\n",
       "    .dataframe tbody tr th:only-of-type {\n",
       "        vertical-align: middle;\n",
       "    }\n",
       "\n",
       "    .dataframe tbody tr th {\n",
       "        vertical-align: top;\n",
       "    }\n",
       "\n",
       "    .dataframe thead th {\n",
       "        text-align: right;\n",
       "    }\n",
       "</style>\n",
       "<table border=\"1\" class=\"dataframe\">\n",
       "  <thead>\n",
       "    <tr style=\"text-align: right;\">\n",
       "      <th></th>\n",
       "      <th>A</th>\n",
       "      <th>B</th>\n",
       "      <th>C</th>\n",
       "      <th>D</th>\n",
       "      <th>E</th>\n",
       "      <th>F</th>\n",
       "    </tr>\n",
       "  </thead>\n",
       "  <tbody>\n",
       "    <tr>\n",
       "      <th>0</th>\n",
       "      <td>False</td>\n",
       "      <td>False</td>\n",
       "      <td>False</td>\n",
       "      <td>False</td>\n",
       "      <td>False</td>\n",
       "      <td>False</td>\n",
       "    </tr>\n",
       "    <tr>\n",
       "      <th>1</th>\n",
       "      <td>False</td>\n",
       "      <td>False</td>\n",
       "      <td>False</td>\n",
       "      <td>False</td>\n",
       "      <td>False</td>\n",
       "      <td>False</td>\n",
       "    </tr>\n",
       "    <tr>\n",
       "      <th>2</th>\n",
       "      <td>False</td>\n",
       "      <td>False</td>\n",
       "      <td>False</td>\n",
       "      <td>False</td>\n",
       "      <td>False</td>\n",
       "      <td>False</td>\n",
       "    </tr>\n",
       "    <tr>\n",
       "      <th>3</th>\n",
       "      <td>False</td>\n",
       "      <td>False</td>\n",
       "      <td>False</td>\n",
       "      <td>False</td>\n",
       "      <td>False</td>\n",
       "      <td>False</td>\n",
       "    </tr>\n",
       "  </tbody>\n",
       "</table>\n",
       "</div>"
      ],
      "text/plain": [
       "       A      B      C      D      E      F\n",
       "0  False  False  False  False  False  False\n",
       "1  False  False  False  False  False  False\n",
       "2  False  False  False  False  False  False\n",
       "3  False  False  False  False  False  False"
      ]
     },
     "execution_count": 42,
     "metadata": {},
     "output_type": "execute_result"
    }
   ],
   "source": [
    "df.isnull()"
   ]
  },
  {
   "cell_type": "code",
   "execution_count": 44,
   "id": "633e71ac-1715-44b2-b20f-628a07a6a379",
   "metadata": {},
   "outputs": [
    {
     "data": {
      "text/html": [
       "<div>\n",
       "<style scoped>\n",
       "    .dataframe tbody tr th:only-of-type {\n",
       "        vertical-align: middle;\n",
       "    }\n",
       "\n",
       "    .dataframe tbody tr th {\n",
       "        vertical-align: top;\n",
       "    }\n",
       "\n",
       "    .dataframe thead th {\n",
       "        text-align: right;\n",
       "    }\n",
       "</style>\n",
       "<table border=\"1\" class=\"dataframe\">\n",
       "  <thead>\n",
       "    <tr style=\"text-align: right;\">\n",
       "      <th></th>\n",
       "      <th>F</th>\n",
       "      <th>E</th>\n",
       "      <th>D</th>\n",
       "      <th>C</th>\n",
       "      <th>B</th>\n",
       "      <th>A</th>\n",
       "    </tr>\n",
       "  </thead>\n",
       "  <tbody>\n",
       "    <tr>\n",
       "      <th>0</th>\n",
       "      <td>Edureka</td>\n",
       "      <td>true</td>\n",
       "      <td>5</td>\n",
       "      <td>1.0</td>\n",
       "      <td>2024-09-15</td>\n",
       "      <td>1</td>\n",
       "    </tr>\n",
       "    <tr>\n",
       "      <th>1</th>\n",
       "      <td>Edureka</td>\n",
       "      <td>False</td>\n",
       "      <td>5</td>\n",
       "      <td>1.0</td>\n",
       "      <td>2024-09-15</td>\n",
       "      <td>2</td>\n",
       "    </tr>\n",
       "    <tr>\n",
       "      <th>2</th>\n",
       "      <td>Edureka</td>\n",
       "      <td>True</td>\n",
       "      <td>5</td>\n",
       "      <td>1.0</td>\n",
       "      <td>2024-09-15</td>\n",
       "      <td>3</td>\n",
       "    </tr>\n",
       "    <tr>\n",
       "      <th>3</th>\n",
       "      <td>Edureka</td>\n",
       "      <td>False</td>\n",
       "      <td>5</td>\n",
       "      <td>1.0</td>\n",
       "      <td>2024-09-15</td>\n",
       "      <td>4</td>\n",
       "    </tr>\n",
       "  </tbody>\n",
       "</table>\n",
       "</div>"
      ],
      "text/plain": [
       "         F      E  D    C          B  A\n",
       "0  Edureka   true  5  1.0 2024-09-15  1\n",
       "1  Edureka  False  5  1.0 2024-09-15  2\n",
       "2  Edureka   True  5  1.0 2024-09-15  3\n",
       "3  Edureka  False  5  1.0 2024-09-15  4"
      ]
     },
     "execution_count": 44,
     "metadata": {},
     "output_type": "execute_result"
    }
   ],
   "source": [
    "df.sort_index(axis=1, ascending=False)"
   ]
  },
  {
   "cell_type": "code",
   "execution_count": 46,
   "id": "71d4463f-b26e-4e88-9e2e-0fa875e77081",
   "metadata": {},
   "outputs": [
    {
     "data": {
      "text/html": [
       "<div>\n",
       "<style scoped>\n",
       "    .dataframe tbody tr th:only-of-type {\n",
       "        vertical-align: middle;\n",
       "    }\n",
       "\n",
       "    .dataframe tbody tr th {\n",
       "        vertical-align: top;\n",
       "    }\n",
       "\n",
       "    .dataframe thead th {\n",
       "        text-align: right;\n",
       "    }\n",
       "</style>\n",
       "<table border=\"1\" class=\"dataframe\">\n",
       "  <thead>\n",
       "    <tr style=\"text-align: right;\">\n",
       "      <th></th>\n",
       "      <th>A</th>\n",
       "      <th>B</th>\n",
       "      <th>C</th>\n",
       "      <th>D</th>\n",
       "      <th>E</th>\n",
       "      <th>F</th>\n",
       "    </tr>\n",
       "  </thead>\n",
       "  <tbody>\n",
       "    <tr>\n",
       "      <th>0</th>\n",
       "      <td>1</td>\n",
       "      <td>2024-09-15</td>\n",
       "      <td>1.0</td>\n",
       "      <td>5</td>\n",
       "      <td>true</td>\n",
       "      <td>Edureka</td>\n",
       "    </tr>\n",
       "    <tr>\n",
       "      <th>1</th>\n",
       "      <td>2</td>\n",
       "      <td>2024-09-15</td>\n",
       "      <td>1.0</td>\n",
       "      <td>5</td>\n",
       "      <td>False</td>\n",
       "      <td>Edureka</td>\n",
       "    </tr>\n",
       "    <tr>\n",
       "      <th>2</th>\n",
       "      <td>3</td>\n",
       "      <td>2024-09-15</td>\n",
       "      <td>1.0</td>\n",
       "      <td>5</td>\n",
       "      <td>True</td>\n",
       "      <td>Edureka</td>\n",
       "    </tr>\n",
       "    <tr>\n",
       "      <th>3</th>\n",
       "      <td>4</td>\n",
       "      <td>2024-09-15</td>\n",
       "      <td>1.0</td>\n",
       "      <td>5</td>\n",
       "      <td>False</td>\n",
       "      <td>Edureka</td>\n",
       "    </tr>\n",
       "  </tbody>\n",
       "</table>\n",
       "</div>"
      ],
      "text/plain": [
       "   A          B    C  D      E        F\n",
       "0  1 2024-09-15  1.0  5   true  Edureka\n",
       "1  2 2024-09-15  1.0  5  False  Edureka\n",
       "2  3 2024-09-15  1.0  5   True  Edureka\n",
       "3  4 2024-09-15  1.0  5  False  Edureka"
      ]
     },
     "execution_count": 46,
     "metadata": {},
     "output_type": "execute_result"
    }
   ],
   "source": [
    "df.sort_values(by='C')"
   ]
  },
  {
   "cell_type": "code",
   "execution_count": 48,
   "id": "970460f9-bf78-4000-8e9e-bbd5b11d0e90",
   "metadata": {},
   "outputs": [
    {
     "data": {
      "text/plain": [
       "0    1.0\n",
       "1    1.0\n",
       "2    1.0\n",
       "3    1.0\n",
       "Name: C, dtype: float32"
      ]
     },
     "execution_count": 48,
     "metadata": {},
     "output_type": "execute_result"
    }
   ],
   "source": [
    "df['C']"
   ]
  },
  {
   "cell_type": "code",
   "execution_count": 50,
   "id": "e0645725-f789-4c0e-a094-2ff9285ceb39",
   "metadata": {},
   "outputs": [
    {
     "data": {
      "text/html": [
       "<div>\n",
       "<style scoped>\n",
       "    .dataframe tbody tr th:only-of-type {\n",
       "        vertical-align: middle;\n",
       "    }\n",
       "\n",
       "    .dataframe tbody tr th {\n",
       "        vertical-align: top;\n",
       "    }\n",
       "\n",
       "    .dataframe thead th {\n",
       "        text-align: right;\n",
       "    }\n",
       "</style>\n",
       "<table border=\"1\" class=\"dataframe\">\n",
       "  <thead>\n",
       "    <tr style=\"text-align: right;\">\n",
       "      <th></th>\n",
       "      <th>A</th>\n",
       "      <th>B</th>\n",
       "      <th>C</th>\n",
       "      <th>D</th>\n",
       "      <th>E</th>\n",
       "      <th>F</th>\n",
       "    </tr>\n",
       "  </thead>\n",
       "  <tbody>\n",
       "    <tr>\n",
       "      <th>0</th>\n",
       "      <td>1</td>\n",
       "      <td>2024-09-15</td>\n",
       "      <td>1.0</td>\n",
       "      <td>5</td>\n",
       "      <td>true</td>\n",
       "      <td>Edureka</td>\n",
       "    </tr>\n",
       "    <tr>\n",
       "      <th>1</th>\n",
       "      <td>2</td>\n",
       "      <td>2024-09-15</td>\n",
       "      <td>1.0</td>\n",
       "      <td>5</td>\n",
       "      <td>False</td>\n",
       "      <td>Edureka</td>\n",
       "    </tr>\n",
       "    <tr>\n",
       "      <th>2</th>\n",
       "      <td>3</td>\n",
       "      <td>2024-09-15</td>\n",
       "      <td>1.0</td>\n",
       "      <td>5</td>\n",
       "      <td>True</td>\n",
       "      <td>Edureka</td>\n",
       "    </tr>\n",
       "  </tbody>\n",
       "</table>\n",
       "</div>"
      ],
      "text/plain": [
       "   A          B    C  D      E        F\n",
       "0  1 2024-09-15  1.0  5   true  Edureka\n",
       "1  2 2024-09-15  1.0  5  False  Edureka\n",
       "2  3 2024-09-15  1.0  5   True  Edureka"
      ]
     },
     "execution_count": 50,
     "metadata": {},
     "output_type": "execute_result"
    }
   ],
   "source": [
    "df[0:3]"
   ]
  },
  {
   "cell_type": "code",
   "execution_count": 52,
   "id": "d601238b-63be-4f0f-b5b3-e4943f9d3198",
   "metadata": {},
   "outputs": [
    {
     "data": {
      "text/html": [
       "<div>\n",
       "<style scoped>\n",
       "    .dataframe tbody tr th:only-of-type {\n",
       "        vertical-align: middle;\n",
       "    }\n",
       "\n",
       "    .dataframe tbody tr th {\n",
       "        vertical-align: top;\n",
       "    }\n",
       "\n",
       "    .dataframe thead th {\n",
       "        text-align: right;\n",
       "    }\n",
       "</style>\n",
       "<table border=\"1\" class=\"dataframe\">\n",
       "  <thead>\n",
       "    <tr style=\"text-align: right;\">\n",
       "      <th></th>\n",
       "      <th>A</th>\n",
       "      <th>B</th>\n",
       "      <th>C</th>\n",
       "      <th>D</th>\n",
       "      <th>E</th>\n",
       "      <th>F</th>\n",
       "    </tr>\n",
       "  </thead>\n",
       "  <tbody>\n",
       "    <tr>\n",
       "      <th>0</th>\n",
       "      <td>1</td>\n",
       "      <td>2024-09-15</td>\n",
       "      <td>1.0</td>\n",
       "      <td>5</td>\n",
       "      <td>true</td>\n",
       "      <td>Edureka</td>\n",
       "    </tr>\n",
       "    <tr>\n",
       "      <th>1</th>\n",
       "      <td>2</td>\n",
       "      <td>2024-09-15</td>\n",
       "      <td>1.0</td>\n",
       "      <td>5</td>\n",
       "      <td>False</td>\n",
       "      <td>Edureka</td>\n",
       "    </tr>\n",
       "    <tr>\n",
       "      <th>2</th>\n",
       "      <td>3</td>\n",
       "      <td>2024-09-15</td>\n",
       "      <td>1.0</td>\n",
       "      <td>5</td>\n",
       "      <td>True</td>\n",
       "      <td>Edureka</td>\n",
       "    </tr>\n",
       "    <tr>\n",
       "      <th>3</th>\n",
       "      <td>4</td>\n",
       "      <td>2024-09-15</td>\n",
       "      <td>1.0</td>\n",
       "      <td>5</td>\n",
       "      <td>False</td>\n",
       "      <td>Edureka</td>\n",
       "    </tr>\n",
       "  </tbody>\n",
       "</table>\n",
       "</div>"
      ],
      "text/plain": [
       "   A          B    C  D      E        F\n",
       "0  1 2024-09-15  1.0  5   true  Edureka\n",
       "1  2 2024-09-15  1.0  5  False  Edureka\n",
       "2  3 2024-09-15  1.0  5   True  Edureka\n",
       "3  4 2024-09-15  1.0  5  False  Edureka"
      ]
     },
     "execution_count": 52,
     "metadata": {},
     "output_type": "execute_result"
    }
   ],
   "source": [
    "df"
   ]
  },
  {
   "cell_type": "code",
   "execution_count": 54,
   "id": "6cd216ae-7beb-4774-85a8-d31d0dabbf79",
   "metadata": {},
   "outputs": [],
   "source": [
    "df1 = pd.DataFrame(np.random.randn(10,4), index=d,columns=['A','B','C','D'])"
   ]
  },
  {
   "cell_type": "code",
   "execution_count": 56,
   "id": "78ba430c-0862-47ae-bf23-8373743774b7",
   "metadata": {},
   "outputs": [
    {
     "data": {
      "text/html": [
       "<div>\n",
       "<style scoped>\n",
       "    .dataframe tbody tr th:only-of-type {\n",
       "        vertical-align: middle;\n",
       "    }\n",
       "\n",
       "    .dataframe tbody tr th {\n",
       "        vertical-align: top;\n",
       "    }\n",
       "\n",
       "    .dataframe thead th {\n",
       "        text-align: right;\n",
       "    }\n",
       "</style>\n",
       "<table border=\"1\" class=\"dataframe\">\n",
       "  <thead>\n",
       "    <tr style=\"text-align: right;\">\n",
       "      <th></th>\n",
       "      <th>A</th>\n",
       "      <th>B</th>\n",
       "      <th>C</th>\n",
       "      <th>D</th>\n",
       "    </tr>\n",
       "  </thead>\n",
       "  <tbody>\n",
       "    <tr>\n",
       "      <th>2024-09-15</th>\n",
       "      <td>1.555132</td>\n",
       "      <td>-0.527988</td>\n",
       "      <td>1.452649</td>\n",
       "      <td>-1.744200</td>\n",
       "    </tr>\n",
       "    <tr>\n",
       "      <th>2024-09-16</th>\n",
       "      <td>0.861221</td>\n",
       "      <td>0.257916</td>\n",
       "      <td>-0.422509</td>\n",
       "      <td>0.840806</td>\n",
       "    </tr>\n",
       "    <tr>\n",
       "      <th>2024-09-17</th>\n",
       "      <td>0.194064</td>\n",
       "      <td>0.674825</td>\n",
       "      <td>-0.610126</td>\n",
       "      <td>-0.582202</td>\n",
       "    </tr>\n",
       "    <tr>\n",
       "      <th>2024-09-18</th>\n",
       "      <td>-1.172900</td>\n",
       "      <td>0.923057</td>\n",
       "      <td>-1.163458</td>\n",
       "      <td>-0.192535</td>\n",
       "    </tr>\n",
       "    <tr>\n",
       "      <th>2024-09-19</th>\n",
       "      <td>0.204926</td>\n",
       "      <td>-0.242165</td>\n",
       "      <td>-0.225712</td>\n",
       "      <td>0.904656</td>\n",
       "    </tr>\n",
       "    <tr>\n",
       "      <th>2024-09-20</th>\n",
       "      <td>1.517008</td>\n",
       "      <td>1.090013</td>\n",
       "      <td>-0.123755</td>\n",
       "      <td>0.451424</td>\n",
       "    </tr>\n",
       "    <tr>\n",
       "      <th>2024-09-21</th>\n",
       "      <td>-0.170056</td>\n",
       "      <td>0.146637</td>\n",
       "      <td>-0.993016</td>\n",
       "      <td>-0.180913</td>\n",
       "    </tr>\n",
       "    <tr>\n",
       "      <th>2024-09-22</th>\n",
       "      <td>-0.163853</td>\n",
       "      <td>0.139227</td>\n",
       "      <td>-0.520455</td>\n",
       "      <td>-0.432972</td>\n",
       "    </tr>\n",
       "    <tr>\n",
       "      <th>2024-09-23</th>\n",
       "      <td>-0.792282</td>\n",
       "      <td>1.045788</td>\n",
       "      <td>0.744518</td>\n",
       "      <td>1.585927</td>\n",
       "    </tr>\n",
       "    <tr>\n",
       "      <th>2024-09-24</th>\n",
       "      <td>-0.777120</td>\n",
       "      <td>1.026582</td>\n",
       "      <td>0.381457</td>\n",
       "      <td>-0.621690</td>\n",
       "    </tr>\n",
       "  </tbody>\n",
       "</table>\n",
       "</div>"
      ],
      "text/plain": [
       "                   A         B         C         D\n",
       "2024-09-15  1.555132 -0.527988  1.452649 -1.744200\n",
       "2024-09-16  0.861221  0.257916 -0.422509  0.840806\n",
       "2024-09-17  0.194064  0.674825 -0.610126 -0.582202\n",
       "2024-09-18 -1.172900  0.923057 -1.163458 -0.192535\n",
       "2024-09-19  0.204926 -0.242165 -0.225712  0.904656\n",
       "2024-09-20  1.517008  1.090013 -0.123755  0.451424\n",
       "2024-09-21 -0.170056  0.146637 -0.993016 -0.180913\n",
       "2024-09-22 -0.163853  0.139227 -0.520455 -0.432972\n",
       "2024-09-23 -0.792282  1.045788  0.744518  1.585927\n",
       "2024-09-24 -0.777120  1.026582  0.381457 -0.621690"
      ]
     },
     "execution_count": 56,
     "metadata": {},
     "output_type": "execute_result"
    }
   ],
   "source": [
    "df1"
   ]
  },
  {
   "cell_type": "code",
   "execution_count": 58,
   "id": "16e155e6-f53b-4e87-a727-9fa6274de145",
   "metadata": {},
   "outputs": [
    {
     "data": {
      "text/html": [
       "<div>\n",
       "<style scoped>\n",
       "    .dataframe tbody tr th:only-of-type {\n",
       "        vertical-align: middle;\n",
       "    }\n",
       "\n",
       "    .dataframe tbody tr th {\n",
       "        vertical-align: top;\n",
       "    }\n",
       "\n",
       "    .dataframe thead th {\n",
       "        text-align: right;\n",
       "    }\n",
       "</style>\n",
       "<table border=\"1\" class=\"dataframe\">\n",
       "  <thead>\n",
       "    <tr style=\"text-align: right;\">\n",
       "      <th></th>\n",
       "      <th>A</th>\n",
       "      <th>B</th>\n",
       "      <th>C</th>\n",
       "      <th>D</th>\n",
       "    </tr>\n",
       "  </thead>\n",
       "  <tbody>\n",
       "    <tr>\n",
       "      <th>2024-09-15</th>\n",
       "      <td>1.555132</td>\n",
       "      <td>-0.527988</td>\n",
       "      <td>1.452649</td>\n",
       "      <td>-1.744200</td>\n",
       "    </tr>\n",
       "    <tr>\n",
       "      <th>2024-09-16</th>\n",
       "      <td>0.861221</td>\n",
       "      <td>0.257916</td>\n",
       "      <td>-0.422509</td>\n",
       "      <td>0.840806</td>\n",
       "    </tr>\n",
       "    <tr>\n",
       "      <th>2024-09-17</th>\n",
       "      <td>0.194064</td>\n",
       "      <td>0.674825</td>\n",
       "      <td>-0.610126</td>\n",
       "      <td>-0.582202</td>\n",
       "    </tr>\n",
       "    <tr>\n",
       "      <th>2024-09-18</th>\n",
       "      <td>-1.172900</td>\n",
       "      <td>0.923057</td>\n",
       "      <td>-1.163458</td>\n",
       "      <td>-0.192535</td>\n",
       "    </tr>\n",
       "    <tr>\n",
       "      <th>2024-09-19</th>\n",
       "      <td>0.204926</td>\n",
       "      <td>-0.242165</td>\n",
       "      <td>-0.225712</td>\n",
       "      <td>0.904656</td>\n",
       "    </tr>\n",
       "  </tbody>\n",
       "</table>\n",
       "</div>"
      ],
      "text/plain": [
       "                   A         B         C         D\n",
       "2024-09-15  1.555132 -0.527988  1.452649 -1.744200\n",
       "2024-09-16  0.861221  0.257916 -0.422509  0.840806\n",
       "2024-09-17  0.194064  0.674825 -0.610126 -0.582202\n",
       "2024-09-18 -1.172900  0.923057 -1.163458 -0.192535\n",
       "2024-09-19  0.204926 -0.242165 -0.225712  0.904656"
      ]
     },
     "execution_count": 58,
     "metadata": {},
     "output_type": "execute_result"
    }
   ],
   "source": [
    "df1.head()"
   ]
  },
  {
   "cell_type": "code",
   "execution_count": 60,
   "id": "45c7011c-965c-4064-9a88-df0a5ebf01ce",
   "metadata": {},
   "outputs": [
    {
     "data": {
      "text/plain": [
       "DatetimeIndex(['2024-09-15', '2024-09-16', '2024-09-17', '2024-09-18',\n",
       "               '2024-09-19', '2024-09-20', '2024-09-21', '2024-09-22',\n",
       "               '2024-09-23', '2024-09-24'],\n",
       "              dtype='datetime64[ns]', freq='D')"
      ]
     },
     "execution_count": 60,
     "metadata": {},
     "output_type": "execute_result"
    }
   ],
   "source": [
    "df1.index"
   ]
  },
  {
   "cell_type": "code",
   "execution_count": 62,
   "id": "5b5fe1cd-57cc-40fa-a334-571729a9b495",
   "metadata": {},
   "outputs": [
    {
     "data": {
      "text/plain": [
       "Index(['A', 'B', 'C', 'D'], dtype='object')"
      ]
     },
     "execution_count": 62,
     "metadata": {},
     "output_type": "execute_result"
    }
   ],
   "source": [
    "df1.columns"
   ]
  },
  {
   "cell_type": "code",
   "execution_count": 64,
   "id": "30d1ebbe-6d92-44b1-b02f-61ee75a5b543",
   "metadata": {},
   "outputs": [
    {
     "data": {
      "text/plain": [
       "array([[ 1.55513222, -0.52798798,  1.45264909, -1.74419957],\n",
       "       [ 0.86122092,  0.25791643, -0.42250944,  0.84080587],\n",
       "       [ 0.1940639 ,  0.67482468, -0.61012562, -0.58220209],\n",
       "       [-1.17290036,  0.92305744, -1.16345834, -0.19253491],\n",
       "       [ 0.20492569, -0.24216532, -0.22571196,  0.90465618],\n",
       "       [ 1.51700779,  1.09001296, -0.12375539,  0.45142445],\n",
       "       [-0.17005621,  0.14663736, -0.99301555, -0.18091253],\n",
       "       [-0.16385348,  0.13922684, -0.52045527, -0.43297218],\n",
       "       [-0.79228241,  1.04578817,  0.74451833,  1.58592732],\n",
       "       [-0.77712031,  1.02658236,  0.38145657, -0.62168965]])"
      ]
     },
     "execution_count": 64,
     "metadata": {},
     "output_type": "execute_result"
    }
   ],
   "source": [
    "df1.to_numpy()"
   ]
  },
  {
   "cell_type": "code",
   "execution_count": 66,
   "id": "d91d9e7a-8e52-4e79-87a1-320f957bc52f",
   "metadata": {},
   "outputs": [
    {
     "data": {
      "text/html": [
       "<div>\n",
       "<style scoped>\n",
       "    .dataframe tbody tr th:only-of-type {\n",
       "        vertical-align: middle;\n",
       "    }\n",
       "\n",
       "    .dataframe tbody tr th {\n",
       "        vertical-align: top;\n",
       "    }\n",
       "\n",
       "    .dataframe thead th {\n",
       "        text-align: right;\n",
       "    }\n",
       "</style>\n",
       "<table border=\"1\" class=\"dataframe\">\n",
       "  <thead>\n",
       "    <tr style=\"text-align: right;\">\n",
       "      <th></th>\n",
       "      <th>A</th>\n",
       "      <th>B</th>\n",
       "      <th>C</th>\n",
       "      <th>D</th>\n",
       "    </tr>\n",
       "  </thead>\n",
       "  <tbody>\n",
       "    <tr>\n",
       "      <th>count</th>\n",
       "      <td>10.000000</td>\n",
       "      <td>10.000000</td>\n",
       "      <td>10.000000</td>\n",
       "      <td>10.000000</td>\n",
       "    </tr>\n",
       "    <tr>\n",
       "      <th>mean</th>\n",
       "      <td>0.125614</td>\n",
       "      <td>0.453389</td>\n",
       "      <td>-0.148041</td>\n",
       "      <td>0.002830</td>\n",
       "    </tr>\n",
       "    <tr>\n",
       "      <th>std</th>\n",
       "      <td>0.945540</td>\n",
       "      <td>0.580450</td>\n",
       "      <td>0.804050</td>\n",
       "      <td>0.958539</td>\n",
       "    </tr>\n",
       "    <tr>\n",
       "      <th>min</th>\n",
       "      <td>-1.172900</td>\n",
       "      <td>-0.527988</td>\n",
       "      <td>-1.163458</td>\n",
       "      <td>-1.744200</td>\n",
       "    </tr>\n",
       "    <tr>\n",
       "      <th>25%</th>\n",
       "      <td>-0.625354</td>\n",
       "      <td>0.141079</td>\n",
       "      <td>-0.587708</td>\n",
       "      <td>-0.544895</td>\n",
       "    </tr>\n",
       "    <tr>\n",
       "      <th>50%</th>\n",
       "      <td>0.015105</td>\n",
       "      <td>0.466371</td>\n",
       "      <td>-0.324111</td>\n",
       "      <td>-0.186724</td>\n",
       "    </tr>\n",
       "    <tr>\n",
       "      <th>75%</th>\n",
       "      <td>0.697147</td>\n",
       "      <td>1.000701</td>\n",
       "      <td>0.255154</td>\n",
       "      <td>0.743461</td>\n",
       "    </tr>\n",
       "    <tr>\n",
       "      <th>max</th>\n",
       "      <td>1.555132</td>\n",
       "      <td>1.090013</td>\n",
       "      <td>1.452649</td>\n",
       "      <td>1.585927</td>\n",
       "    </tr>\n",
       "  </tbody>\n",
       "</table>\n",
       "</div>"
      ],
      "text/plain": [
       "               A          B          C          D\n",
       "count  10.000000  10.000000  10.000000  10.000000\n",
       "mean    0.125614   0.453389  -0.148041   0.002830\n",
       "std     0.945540   0.580450   0.804050   0.958539\n",
       "min    -1.172900  -0.527988  -1.163458  -1.744200\n",
       "25%    -0.625354   0.141079  -0.587708  -0.544895\n",
       "50%     0.015105   0.466371  -0.324111  -0.186724\n",
       "75%     0.697147   1.000701   0.255154   0.743461\n",
       "max     1.555132   1.090013   1.452649   1.585927"
      ]
     },
     "execution_count": 66,
     "metadata": {},
     "output_type": "execute_result"
    }
   ],
   "source": [
    "df1.describe()"
   ]
  },
  {
   "cell_type": "code",
   "execution_count": 68,
   "id": "117212e3-8e6d-45c0-ac4d-72829a91153c",
   "metadata": {},
   "outputs": [
    {
     "name": "stdout",
     "output_type": "stream",
     "text": [
      "<class 'pandas.core.frame.DataFrame'>\n",
      "DatetimeIndex: 10 entries, 2024-09-15 to 2024-09-24\n",
      "Freq: D\n",
      "Data columns (total 4 columns):\n",
      " #   Column  Non-Null Count  Dtype  \n",
      "---  ------  --------------  -----  \n",
      " 0   A       10 non-null     float64\n",
      " 1   B       10 non-null     float64\n",
      " 2   C       10 non-null     float64\n",
      " 3   D       10 non-null     float64\n",
      "dtypes: float64(4)\n",
      "memory usage: 400.0 bytes\n"
     ]
    }
   ],
   "source": [
    "df1.info()"
   ]
  },
  {
   "cell_type": "code",
   "execution_count": 70,
   "id": "75d70c3a-6e99-4905-8657-29a03dc7e467",
   "metadata": {},
   "outputs": [
    {
     "data": {
      "text/html": [
       "<div>\n",
       "<style scoped>\n",
       "    .dataframe tbody tr th:only-of-type {\n",
       "        vertical-align: middle;\n",
       "    }\n",
       "\n",
       "    .dataframe tbody tr th {\n",
       "        vertical-align: top;\n",
       "    }\n",
       "\n",
       "    .dataframe thead th {\n",
       "        text-align: right;\n",
       "    }\n",
       "</style>\n",
       "<table border=\"1\" class=\"dataframe\">\n",
       "  <thead>\n",
       "    <tr style=\"text-align: right;\">\n",
       "      <th></th>\n",
       "      <th>A</th>\n",
       "      <th>B</th>\n",
       "      <th>C</th>\n",
       "      <th>D</th>\n",
       "    </tr>\n",
       "  </thead>\n",
       "  <tbody>\n",
       "    <tr>\n",
       "      <th>2024-09-15</th>\n",
       "      <td>False</td>\n",
       "      <td>False</td>\n",
       "      <td>False</td>\n",
       "      <td>False</td>\n",
       "    </tr>\n",
       "    <tr>\n",
       "      <th>2024-09-16</th>\n",
       "      <td>False</td>\n",
       "      <td>False</td>\n",
       "      <td>False</td>\n",
       "      <td>False</td>\n",
       "    </tr>\n",
       "    <tr>\n",
       "      <th>2024-09-17</th>\n",
       "      <td>False</td>\n",
       "      <td>False</td>\n",
       "      <td>False</td>\n",
       "      <td>False</td>\n",
       "    </tr>\n",
       "    <tr>\n",
       "      <th>2024-09-18</th>\n",
       "      <td>False</td>\n",
       "      <td>False</td>\n",
       "      <td>False</td>\n",
       "      <td>False</td>\n",
       "    </tr>\n",
       "    <tr>\n",
       "      <th>2024-09-19</th>\n",
       "      <td>False</td>\n",
       "      <td>False</td>\n",
       "      <td>False</td>\n",
       "      <td>False</td>\n",
       "    </tr>\n",
       "    <tr>\n",
       "      <th>2024-09-20</th>\n",
       "      <td>False</td>\n",
       "      <td>False</td>\n",
       "      <td>False</td>\n",
       "      <td>False</td>\n",
       "    </tr>\n",
       "    <tr>\n",
       "      <th>2024-09-21</th>\n",
       "      <td>False</td>\n",
       "      <td>False</td>\n",
       "      <td>False</td>\n",
       "      <td>False</td>\n",
       "    </tr>\n",
       "    <tr>\n",
       "      <th>2024-09-22</th>\n",
       "      <td>False</td>\n",
       "      <td>False</td>\n",
       "      <td>False</td>\n",
       "      <td>False</td>\n",
       "    </tr>\n",
       "    <tr>\n",
       "      <th>2024-09-23</th>\n",
       "      <td>False</td>\n",
       "      <td>False</td>\n",
       "      <td>False</td>\n",
       "      <td>False</td>\n",
       "    </tr>\n",
       "    <tr>\n",
       "      <th>2024-09-24</th>\n",
       "      <td>False</td>\n",
       "      <td>False</td>\n",
       "      <td>False</td>\n",
       "      <td>False</td>\n",
       "    </tr>\n",
       "  </tbody>\n",
       "</table>\n",
       "</div>"
      ],
      "text/plain": [
       "                A      B      C      D\n",
       "2024-09-15  False  False  False  False\n",
       "2024-09-16  False  False  False  False\n",
       "2024-09-17  False  False  False  False\n",
       "2024-09-18  False  False  False  False\n",
       "2024-09-19  False  False  False  False\n",
       "2024-09-20  False  False  False  False\n",
       "2024-09-21  False  False  False  False\n",
       "2024-09-22  False  False  False  False\n",
       "2024-09-23  False  False  False  False\n",
       "2024-09-24  False  False  False  False"
      ]
     },
     "execution_count": 70,
     "metadata": {},
     "output_type": "execute_result"
    }
   ],
   "source": [
    "df1.isnull()"
   ]
  },
  {
   "cell_type": "code",
   "execution_count": 72,
   "id": "f580f976-0e7c-48f3-9e34-1d3f81833469",
   "metadata": {},
   "outputs": [
    {
     "data": {
      "text/plain": [
       "A    0\n",
       "B    0\n",
       "C    0\n",
       "D    0\n",
       "dtype: int64"
      ]
     },
     "execution_count": 72,
     "metadata": {},
     "output_type": "execute_result"
    }
   ],
   "source": [
    "df1.isnull().sum()"
   ]
  },
  {
   "cell_type": "code",
   "execution_count": 74,
   "id": "8eacf5db-d3ec-433f-810d-314cd0d5be99",
   "metadata": {},
   "outputs": [
    {
     "data": {
      "text/html": [
       "<div>\n",
       "<style scoped>\n",
       "    .dataframe tbody tr th:only-of-type {\n",
       "        vertical-align: middle;\n",
       "    }\n",
       "\n",
       "    .dataframe tbody tr th {\n",
       "        vertical-align: top;\n",
       "    }\n",
       "\n",
       "    .dataframe thead th {\n",
       "        text-align: right;\n",
       "    }\n",
       "</style>\n",
       "<table border=\"1\" class=\"dataframe\">\n",
       "  <thead>\n",
       "    <tr style=\"text-align: right;\">\n",
       "      <th></th>\n",
       "      <th>D</th>\n",
       "      <th>C</th>\n",
       "      <th>B</th>\n",
       "      <th>A</th>\n",
       "    </tr>\n",
       "  </thead>\n",
       "  <tbody>\n",
       "    <tr>\n",
       "      <th>2024-09-15</th>\n",
       "      <td>-1.744200</td>\n",
       "      <td>1.452649</td>\n",
       "      <td>-0.527988</td>\n",
       "      <td>1.555132</td>\n",
       "    </tr>\n",
       "    <tr>\n",
       "      <th>2024-09-16</th>\n",
       "      <td>0.840806</td>\n",
       "      <td>-0.422509</td>\n",
       "      <td>0.257916</td>\n",
       "      <td>0.861221</td>\n",
       "    </tr>\n",
       "    <tr>\n",
       "      <th>2024-09-17</th>\n",
       "      <td>-0.582202</td>\n",
       "      <td>-0.610126</td>\n",
       "      <td>0.674825</td>\n",
       "      <td>0.194064</td>\n",
       "    </tr>\n",
       "    <tr>\n",
       "      <th>2024-09-18</th>\n",
       "      <td>-0.192535</td>\n",
       "      <td>-1.163458</td>\n",
       "      <td>0.923057</td>\n",
       "      <td>-1.172900</td>\n",
       "    </tr>\n",
       "    <tr>\n",
       "      <th>2024-09-19</th>\n",
       "      <td>0.904656</td>\n",
       "      <td>-0.225712</td>\n",
       "      <td>-0.242165</td>\n",
       "      <td>0.204926</td>\n",
       "    </tr>\n",
       "    <tr>\n",
       "      <th>2024-09-20</th>\n",
       "      <td>0.451424</td>\n",
       "      <td>-0.123755</td>\n",
       "      <td>1.090013</td>\n",
       "      <td>1.517008</td>\n",
       "    </tr>\n",
       "    <tr>\n",
       "      <th>2024-09-21</th>\n",
       "      <td>-0.180913</td>\n",
       "      <td>-0.993016</td>\n",
       "      <td>0.146637</td>\n",
       "      <td>-0.170056</td>\n",
       "    </tr>\n",
       "    <tr>\n",
       "      <th>2024-09-22</th>\n",
       "      <td>-0.432972</td>\n",
       "      <td>-0.520455</td>\n",
       "      <td>0.139227</td>\n",
       "      <td>-0.163853</td>\n",
       "    </tr>\n",
       "    <tr>\n",
       "      <th>2024-09-23</th>\n",
       "      <td>1.585927</td>\n",
       "      <td>0.744518</td>\n",
       "      <td>1.045788</td>\n",
       "      <td>-0.792282</td>\n",
       "    </tr>\n",
       "    <tr>\n",
       "      <th>2024-09-24</th>\n",
       "      <td>-0.621690</td>\n",
       "      <td>0.381457</td>\n",
       "      <td>1.026582</td>\n",
       "      <td>-0.777120</td>\n",
       "    </tr>\n",
       "  </tbody>\n",
       "</table>\n",
       "</div>"
      ],
      "text/plain": [
       "                   D         C         B         A\n",
       "2024-09-15 -1.744200  1.452649 -0.527988  1.555132\n",
       "2024-09-16  0.840806 -0.422509  0.257916  0.861221\n",
       "2024-09-17 -0.582202 -0.610126  0.674825  0.194064\n",
       "2024-09-18 -0.192535 -1.163458  0.923057 -1.172900\n",
       "2024-09-19  0.904656 -0.225712 -0.242165  0.204926\n",
       "2024-09-20  0.451424 -0.123755  1.090013  1.517008\n",
       "2024-09-21 -0.180913 -0.993016  0.146637 -0.170056\n",
       "2024-09-22 -0.432972 -0.520455  0.139227 -0.163853\n",
       "2024-09-23  1.585927  0.744518  1.045788 -0.792282\n",
       "2024-09-24 -0.621690  0.381457  1.026582 -0.777120"
      ]
     },
     "execution_count": 74,
     "metadata": {},
     "output_type": "execute_result"
    }
   ],
   "source": [
    "df1.sort_index(axis=1, ascending=False)"
   ]
  },
  {
   "cell_type": "code",
   "execution_count": 76,
   "id": "44093f84-355c-4b6a-8c4f-739091b419ce",
   "metadata": {},
   "outputs": [
    {
     "data": {
      "text/html": [
       "<div>\n",
       "<style scoped>\n",
       "    .dataframe tbody tr th:only-of-type {\n",
       "        vertical-align: middle;\n",
       "    }\n",
       "\n",
       "    .dataframe tbody tr th {\n",
       "        vertical-align: top;\n",
       "    }\n",
       "\n",
       "    .dataframe thead th {\n",
       "        text-align: right;\n",
       "    }\n",
       "</style>\n",
       "<table border=\"1\" class=\"dataframe\">\n",
       "  <thead>\n",
       "    <tr style=\"text-align: right;\">\n",
       "      <th></th>\n",
       "      <th>A</th>\n",
       "      <th>B</th>\n",
       "      <th>C</th>\n",
       "      <th>D</th>\n",
       "    </tr>\n",
       "  </thead>\n",
       "  <tbody>\n",
       "    <tr>\n",
       "      <th>2024-09-18</th>\n",
       "      <td>-1.172900</td>\n",
       "      <td>0.923057</td>\n",
       "      <td>-1.163458</td>\n",
       "      <td>-0.192535</td>\n",
       "    </tr>\n",
       "    <tr>\n",
       "      <th>2024-09-21</th>\n",
       "      <td>-0.170056</td>\n",
       "      <td>0.146637</td>\n",
       "      <td>-0.993016</td>\n",
       "      <td>-0.180913</td>\n",
       "    </tr>\n",
       "    <tr>\n",
       "      <th>2024-09-17</th>\n",
       "      <td>0.194064</td>\n",
       "      <td>0.674825</td>\n",
       "      <td>-0.610126</td>\n",
       "      <td>-0.582202</td>\n",
       "    </tr>\n",
       "    <tr>\n",
       "      <th>2024-09-22</th>\n",
       "      <td>-0.163853</td>\n",
       "      <td>0.139227</td>\n",
       "      <td>-0.520455</td>\n",
       "      <td>-0.432972</td>\n",
       "    </tr>\n",
       "    <tr>\n",
       "      <th>2024-09-16</th>\n",
       "      <td>0.861221</td>\n",
       "      <td>0.257916</td>\n",
       "      <td>-0.422509</td>\n",
       "      <td>0.840806</td>\n",
       "    </tr>\n",
       "    <tr>\n",
       "      <th>2024-09-19</th>\n",
       "      <td>0.204926</td>\n",
       "      <td>-0.242165</td>\n",
       "      <td>-0.225712</td>\n",
       "      <td>0.904656</td>\n",
       "    </tr>\n",
       "    <tr>\n",
       "      <th>2024-09-20</th>\n",
       "      <td>1.517008</td>\n",
       "      <td>1.090013</td>\n",
       "      <td>-0.123755</td>\n",
       "      <td>0.451424</td>\n",
       "    </tr>\n",
       "    <tr>\n",
       "      <th>2024-09-24</th>\n",
       "      <td>-0.777120</td>\n",
       "      <td>1.026582</td>\n",
       "      <td>0.381457</td>\n",
       "      <td>-0.621690</td>\n",
       "    </tr>\n",
       "    <tr>\n",
       "      <th>2024-09-23</th>\n",
       "      <td>-0.792282</td>\n",
       "      <td>1.045788</td>\n",
       "      <td>0.744518</td>\n",
       "      <td>1.585927</td>\n",
       "    </tr>\n",
       "    <tr>\n",
       "      <th>2024-09-15</th>\n",
       "      <td>1.555132</td>\n",
       "      <td>-0.527988</td>\n",
       "      <td>1.452649</td>\n",
       "      <td>-1.744200</td>\n",
       "    </tr>\n",
       "  </tbody>\n",
       "</table>\n",
       "</div>"
      ],
      "text/plain": [
       "                   A         B         C         D\n",
       "2024-09-18 -1.172900  0.923057 -1.163458 -0.192535\n",
       "2024-09-21 -0.170056  0.146637 -0.993016 -0.180913\n",
       "2024-09-17  0.194064  0.674825 -0.610126 -0.582202\n",
       "2024-09-22 -0.163853  0.139227 -0.520455 -0.432972\n",
       "2024-09-16  0.861221  0.257916 -0.422509  0.840806\n",
       "2024-09-19  0.204926 -0.242165 -0.225712  0.904656\n",
       "2024-09-20  1.517008  1.090013 -0.123755  0.451424\n",
       "2024-09-24 -0.777120  1.026582  0.381457 -0.621690\n",
       "2024-09-23 -0.792282  1.045788  0.744518  1.585927\n",
       "2024-09-15  1.555132 -0.527988  1.452649 -1.744200"
      ]
     },
     "execution_count": 76,
     "metadata": {},
     "output_type": "execute_result"
    }
   ],
   "source": [
    "df1.sort_values(by='C')"
   ]
  },
  {
   "cell_type": "code",
   "execution_count": 78,
   "id": "0569f5ec-2113-4343-a462-113fbec50818",
   "metadata": {},
   "outputs": [
    {
     "data": {
      "text/plain": [
       "2024-09-15    1.452649\n",
       "2024-09-16   -0.422509\n",
       "2024-09-17   -0.610126\n",
       "2024-09-18   -1.163458\n",
       "2024-09-19   -0.225712\n",
       "2024-09-20   -0.123755\n",
       "2024-09-21   -0.993016\n",
       "2024-09-22   -0.520455\n",
       "2024-09-23    0.744518\n",
       "2024-09-24    0.381457\n",
       "Freq: D, Name: C, dtype: float64"
      ]
     },
     "execution_count": 78,
     "metadata": {},
     "output_type": "execute_result"
    }
   ],
   "source": [
    "df1['C']"
   ]
  },
  {
   "cell_type": "code",
   "execution_count": 80,
   "id": "3aad01d7-ad9e-4244-b6f5-dbd8a6f8d469",
   "metadata": {},
   "outputs": [
    {
     "data": {
      "text/html": [
       "<div>\n",
       "<style scoped>\n",
       "    .dataframe tbody tr th:only-of-type {\n",
       "        vertical-align: middle;\n",
       "    }\n",
       "\n",
       "    .dataframe tbody tr th {\n",
       "        vertical-align: top;\n",
       "    }\n",
       "\n",
       "    .dataframe thead th {\n",
       "        text-align: right;\n",
       "    }\n",
       "</style>\n",
       "<table border=\"1\" class=\"dataframe\">\n",
       "  <thead>\n",
       "    <tr style=\"text-align: right;\">\n",
       "      <th></th>\n",
       "      <th>A</th>\n",
       "      <th>B</th>\n",
       "      <th>C</th>\n",
       "      <th>D</th>\n",
       "    </tr>\n",
       "  </thead>\n",
       "  <tbody>\n",
       "    <tr>\n",
       "      <th>2024-09-15</th>\n",
       "      <td>1.555132</td>\n",
       "      <td>-0.527988</td>\n",
       "      <td>1.452649</td>\n",
       "      <td>-1.744200</td>\n",
       "    </tr>\n",
       "    <tr>\n",
       "      <th>2024-09-16</th>\n",
       "      <td>0.861221</td>\n",
       "      <td>0.257916</td>\n",
       "      <td>-0.422509</td>\n",
       "      <td>0.840806</td>\n",
       "    </tr>\n",
       "    <tr>\n",
       "      <th>2024-09-17</th>\n",
       "      <td>0.194064</td>\n",
       "      <td>0.674825</td>\n",
       "      <td>-0.610126</td>\n",
       "      <td>-0.582202</td>\n",
       "    </tr>\n",
       "  </tbody>\n",
       "</table>\n",
       "</div>"
      ],
      "text/plain": [
       "                   A         B         C         D\n",
       "2024-09-15  1.555132 -0.527988  1.452649 -1.744200\n",
       "2024-09-16  0.861221  0.257916 -0.422509  0.840806\n",
       "2024-09-17  0.194064  0.674825 -0.610126 -0.582202"
      ]
     },
     "execution_count": 80,
     "metadata": {},
     "output_type": "execute_result"
    }
   ],
   "source": [
    "df1[0:3]"
   ]
  },
  {
   "cell_type": "code",
   "execution_count": 82,
   "id": "1ca8cee9-27c0-418a-b7aa-6a4a109f909a",
   "metadata": {},
   "outputs": [
    {
     "data": {
      "text/plain": [
       "A    0.194064\n",
       "B    0.674825\n",
       "C   -0.610126\n",
       "D   -0.582202\n",
       "Name: 2024-09-17 00:00:00, dtype: float64"
      ]
     },
     "execution_count": 82,
     "metadata": {},
     "output_type": "execute_result"
    }
   ],
   "source": [
    "df1.iloc[2]"
   ]
  },
  {
   "cell_type": "code",
   "execution_count": 84,
   "id": "d625a1e1-90f4-4c0d-8fc2-76234aae20d7",
   "metadata": {},
   "outputs": [
    {
     "data": {
      "text/html": [
       "<div>\n",
       "<style scoped>\n",
       "    .dataframe tbody tr th:only-of-type {\n",
       "        vertical-align: middle;\n",
       "    }\n",
       "\n",
       "    .dataframe tbody tr th {\n",
       "        vertical-align: top;\n",
       "    }\n",
       "\n",
       "    .dataframe thead th {\n",
       "        text-align: right;\n",
       "    }\n",
       "</style>\n",
       "<table border=\"1\" class=\"dataframe\">\n",
       "  <thead>\n",
       "    <tr style=\"text-align: right;\">\n",
       "      <th></th>\n",
       "      <th>B</th>\n",
       "      <th>C</th>\n",
       "    </tr>\n",
       "  </thead>\n",
       "  <tbody>\n",
       "    <tr>\n",
       "      <th>2024-09-15</th>\n",
       "      <td>-0.527988</td>\n",
       "      <td>1.452649</td>\n",
       "    </tr>\n",
       "    <tr>\n",
       "      <th>2024-09-16</th>\n",
       "      <td>0.257916</td>\n",
       "      <td>-0.422509</td>\n",
       "    </tr>\n",
       "    <tr>\n",
       "      <th>2024-09-17</th>\n",
       "      <td>0.674825</td>\n",
       "      <td>-0.610126</td>\n",
       "    </tr>\n",
       "    <tr>\n",
       "      <th>2024-09-18</th>\n",
       "      <td>0.923057</td>\n",
       "      <td>-1.163458</td>\n",
       "    </tr>\n",
       "    <tr>\n",
       "      <th>2024-09-19</th>\n",
       "      <td>-0.242165</td>\n",
       "      <td>-0.225712</td>\n",
       "    </tr>\n",
       "    <tr>\n",
       "      <th>2024-09-20</th>\n",
       "      <td>1.090013</td>\n",
       "      <td>-0.123755</td>\n",
       "    </tr>\n",
       "    <tr>\n",
       "      <th>2024-09-21</th>\n",
       "      <td>0.146637</td>\n",
       "      <td>-0.993016</td>\n",
       "    </tr>\n",
       "    <tr>\n",
       "      <th>2024-09-22</th>\n",
       "      <td>0.139227</td>\n",
       "      <td>-0.520455</td>\n",
       "    </tr>\n",
       "    <tr>\n",
       "      <th>2024-09-23</th>\n",
       "      <td>1.045788</td>\n",
       "      <td>0.744518</td>\n",
       "    </tr>\n",
       "    <tr>\n",
       "      <th>2024-09-24</th>\n",
       "      <td>1.026582</td>\n",
       "      <td>0.381457</td>\n",
       "    </tr>\n",
       "  </tbody>\n",
       "</table>\n",
       "</div>"
      ],
      "text/plain": [
       "                   B         C\n",
       "2024-09-15 -0.527988  1.452649\n",
       "2024-09-16  0.257916 -0.422509\n",
       "2024-09-17  0.674825 -0.610126\n",
       "2024-09-18  0.923057 -1.163458\n",
       "2024-09-19 -0.242165 -0.225712\n",
       "2024-09-20  1.090013 -0.123755\n",
       "2024-09-21  0.146637 -0.993016\n",
       "2024-09-22  0.139227 -0.520455\n",
       "2024-09-23  1.045788  0.744518\n",
       "2024-09-24  1.026582  0.381457"
      ]
     },
     "execution_count": 84,
     "metadata": {},
     "output_type": "execute_result"
    }
   ],
   "source": [
    "df1.loc[:,['B','C']]"
   ]
  },
  {
   "cell_type": "code",
   "execution_count": 86,
   "id": "1d155413-6853-4d66-ac13-9a21186561b4",
   "metadata": {},
   "outputs": [
    {
     "data": {
      "text/html": [
       "<div>\n",
       "<style scoped>\n",
       "    .dataframe tbody tr th:only-of-type {\n",
       "        vertical-align: middle;\n",
       "    }\n",
       "\n",
       "    .dataframe tbody tr th {\n",
       "        vertical-align: top;\n",
       "    }\n",
       "\n",
       "    .dataframe thead th {\n",
       "        text-align: right;\n",
       "    }\n",
       "</style>\n",
       "<table border=\"1\" class=\"dataframe\">\n",
       "  <thead>\n",
       "    <tr style=\"text-align: right;\">\n",
       "      <th></th>\n",
       "      <th>A</th>\n",
       "      <th>B</th>\n",
       "      <th>C</th>\n",
       "      <th>D</th>\n",
       "    </tr>\n",
       "  </thead>\n",
       "  <tbody>\n",
       "    <tr>\n",
       "      <th>2024-09-15</th>\n",
       "      <td>1.555132</td>\n",
       "      <td>-0.527988</td>\n",
       "      <td>1.452649</td>\n",
       "      <td>-1.744200</td>\n",
       "    </tr>\n",
       "    <tr>\n",
       "      <th>2024-09-16</th>\n",
       "      <td>0.861221</td>\n",
       "      <td>0.257916</td>\n",
       "      <td>-0.422509</td>\n",
       "      <td>0.840806</td>\n",
       "    </tr>\n",
       "    <tr>\n",
       "      <th>2024-09-17</th>\n",
       "      <td>0.194064</td>\n",
       "      <td>0.674825</td>\n",
       "      <td>-0.610126</td>\n",
       "      <td>-0.582202</td>\n",
       "    </tr>\n",
       "    <tr>\n",
       "      <th>2024-09-18</th>\n",
       "      <td>-1.172900</td>\n",
       "      <td>0.923057</td>\n",
       "      <td>-1.163458</td>\n",
       "      <td>-0.192535</td>\n",
       "    </tr>\n",
       "    <tr>\n",
       "      <th>2024-09-19</th>\n",
       "      <td>0.204926</td>\n",
       "      <td>-0.242165</td>\n",
       "      <td>-0.225712</td>\n",
       "      <td>0.904656</td>\n",
       "    </tr>\n",
       "    <tr>\n",
       "      <th>2024-09-20</th>\n",
       "      <td>1.517008</td>\n",
       "      <td>1.090013</td>\n",
       "      <td>-0.123755</td>\n",
       "      <td>0.451424</td>\n",
       "    </tr>\n",
       "    <tr>\n",
       "      <th>2024-09-21</th>\n",
       "      <td>-0.170056</td>\n",
       "      <td>0.146637</td>\n",
       "      <td>-0.993016</td>\n",
       "      <td>-0.180913</td>\n",
       "    </tr>\n",
       "    <tr>\n",
       "      <th>2024-09-22</th>\n",
       "      <td>-0.163853</td>\n",
       "      <td>0.139227</td>\n",
       "      <td>-0.520455</td>\n",
       "      <td>-0.432972</td>\n",
       "    </tr>\n",
       "    <tr>\n",
       "      <th>2024-09-23</th>\n",
       "      <td>-0.792282</td>\n",
       "      <td>1.045788</td>\n",
       "      <td>0.744518</td>\n",
       "      <td>1.585927</td>\n",
       "    </tr>\n",
       "    <tr>\n",
       "      <th>2024-09-24</th>\n",
       "      <td>-0.777120</td>\n",
       "      <td>1.026582</td>\n",
       "      <td>0.381457</td>\n",
       "      <td>-0.621690</td>\n",
       "    </tr>\n",
       "  </tbody>\n",
       "</table>\n",
       "</div>"
      ],
      "text/plain": [
       "                   A         B         C         D\n",
       "2024-09-15  1.555132 -0.527988  1.452649 -1.744200\n",
       "2024-09-16  0.861221  0.257916 -0.422509  0.840806\n",
       "2024-09-17  0.194064  0.674825 -0.610126 -0.582202\n",
       "2024-09-18 -1.172900  0.923057 -1.163458 -0.192535\n",
       "2024-09-19  0.204926 -0.242165 -0.225712  0.904656\n",
       "2024-09-20  1.517008  1.090013 -0.123755  0.451424\n",
       "2024-09-21 -0.170056  0.146637 -0.993016 -0.180913\n",
       "2024-09-22 -0.163853  0.139227 -0.520455 -0.432972\n",
       "2024-09-23 -0.792282  1.045788  0.744518  1.585927\n",
       "2024-09-24 -0.777120  1.026582  0.381457 -0.621690"
      ]
     },
     "execution_count": 86,
     "metadata": {},
     "output_type": "execute_result"
    }
   ],
   "source": [
    "df1"
   ]
  },
  {
   "cell_type": "code",
   "execution_count": 88,
   "id": "cad915fa-32bd-4121-923d-4fade368f5cc",
   "metadata": {},
   "outputs": [],
   "source": [
    "#df1.loc[2024-09-15:,['D','C']]"
   ]
  },
  {
   "cell_type": "code",
   "execution_count": 90,
   "id": "39ce5cc2-d5ce-4992-8555-c56cfe61757f",
   "metadata": {},
   "outputs": [],
   "source": [
    "#df1.loc['20240915:20240921',['D','C']]"
   ]
  },
  {
   "cell_type": "code",
   "execution_count": 92,
   "id": "29e6bd1f-d7a6-4f26-962c-a2a80fc942b9",
   "metadata": {},
   "outputs": [
    {
     "data": {
      "text/plain": [
       "1.4526490875945754"
      ]
     },
     "execution_count": 92,
     "metadata": {},
     "output_type": "execute_result"
    }
   ],
   "source": [
    "df1.at[d[0],'C']"
   ]
  },
  {
   "cell_type": "code",
   "execution_count": 94,
   "id": "001020e8-58da-410b-baf9-6168f8210a25",
   "metadata": {},
   "outputs": [
    {
     "data": {
      "text/html": [
       "<div>\n",
       "<style scoped>\n",
       "    .dataframe tbody tr th:only-of-type {\n",
       "        vertical-align: middle;\n",
       "    }\n",
       "\n",
       "    .dataframe tbody tr th {\n",
       "        vertical-align: top;\n",
       "    }\n",
       "\n",
       "    .dataframe thead th {\n",
       "        text-align: right;\n",
       "    }\n",
       "</style>\n",
       "<table border=\"1\" class=\"dataframe\">\n",
       "  <thead>\n",
       "    <tr style=\"text-align: right;\">\n",
       "      <th></th>\n",
       "      <th>A</th>\n",
       "      <th>B</th>\n",
       "      <th>C</th>\n",
       "      <th>D</th>\n",
       "    </tr>\n",
       "  </thead>\n",
       "  <tbody>\n",
       "    <tr>\n",
       "      <th>2024-09-15</th>\n",
       "      <td>1.555132</td>\n",
       "      <td>-0.527988</td>\n",
       "      <td>1.452649</td>\n",
       "      <td>-1.744200</td>\n",
       "    </tr>\n",
       "    <tr>\n",
       "      <th>2024-09-16</th>\n",
       "      <td>0.861221</td>\n",
       "      <td>0.257916</td>\n",
       "      <td>-0.422509</td>\n",
       "      <td>0.840806</td>\n",
       "    </tr>\n",
       "    <tr>\n",
       "      <th>2024-09-17</th>\n",
       "      <td>0.194064</td>\n",
       "      <td>0.674825</td>\n",
       "      <td>-0.610126</td>\n",
       "      <td>-0.582202</td>\n",
       "    </tr>\n",
       "    <tr>\n",
       "      <th>2024-09-18</th>\n",
       "      <td>-1.172900</td>\n",
       "      <td>0.923057</td>\n",
       "      <td>-1.163458</td>\n",
       "      <td>-0.192535</td>\n",
       "    </tr>\n",
       "    <tr>\n",
       "      <th>2024-09-19</th>\n",
       "      <td>0.204926</td>\n",
       "      <td>-0.242165</td>\n",
       "      <td>-0.225712</td>\n",
       "      <td>0.904656</td>\n",
       "    </tr>\n",
       "    <tr>\n",
       "      <th>2024-09-20</th>\n",
       "      <td>1.517008</td>\n",
       "      <td>1.090013</td>\n",
       "      <td>-0.123755</td>\n",
       "      <td>0.451424</td>\n",
       "    </tr>\n",
       "    <tr>\n",
       "      <th>2024-09-21</th>\n",
       "      <td>-0.170056</td>\n",
       "      <td>0.146637</td>\n",
       "      <td>-0.993016</td>\n",
       "      <td>-0.180913</td>\n",
       "    </tr>\n",
       "    <tr>\n",
       "      <th>2024-09-22</th>\n",
       "      <td>-0.163853</td>\n",
       "      <td>0.139227</td>\n",
       "      <td>-0.520455</td>\n",
       "      <td>-0.432972</td>\n",
       "    </tr>\n",
       "    <tr>\n",
       "      <th>2024-09-23</th>\n",
       "      <td>-0.792282</td>\n",
       "      <td>1.045788</td>\n",
       "      <td>0.744518</td>\n",
       "      <td>1.585927</td>\n",
       "    </tr>\n",
       "    <tr>\n",
       "      <th>2024-09-24</th>\n",
       "      <td>-0.777120</td>\n",
       "      <td>1.026582</td>\n",
       "      <td>0.381457</td>\n",
       "      <td>-0.621690</td>\n",
       "    </tr>\n",
       "  </tbody>\n",
       "</table>\n",
       "</div>"
      ],
      "text/plain": [
       "                   A         B         C         D\n",
       "2024-09-15  1.555132 -0.527988  1.452649 -1.744200\n",
       "2024-09-16  0.861221  0.257916 -0.422509  0.840806\n",
       "2024-09-17  0.194064  0.674825 -0.610126 -0.582202\n",
       "2024-09-18 -1.172900  0.923057 -1.163458 -0.192535\n",
       "2024-09-19  0.204926 -0.242165 -0.225712  0.904656\n",
       "2024-09-20  1.517008  1.090013 -0.123755  0.451424\n",
       "2024-09-21 -0.170056  0.146637 -0.993016 -0.180913\n",
       "2024-09-22 -0.163853  0.139227 -0.520455 -0.432972\n",
       "2024-09-23 -0.792282  1.045788  0.744518  1.585927\n",
       "2024-09-24 -0.777120  1.026582  0.381457 -0.621690"
      ]
     },
     "execution_count": 94,
     "metadata": {},
     "output_type": "execute_result"
    }
   ],
   "source": [
    "df1"
   ]
  },
  {
   "cell_type": "code",
   "execution_count": 96,
   "id": "685606b1-5d7d-4b8e-9d67-6a16e8133b9c",
   "metadata": {},
   "outputs": [
    {
     "data": {
      "text/plain": [
       "A   -1.172900\n",
       "B    0.923057\n",
       "C   -1.163458\n",
       "D   -0.192535\n",
       "Name: 2024-09-18 00:00:00, dtype: float64"
      ]
     },
     "execution_count": 96,
     "metadata": {},
     "output_type": "execute_result"
    }
   ],
   "source": [
    "df1.iloc[3]"
   ]
  },
  {
   "cell_type": "code",
   "execution_count": 98,
   "id": "8eefdb2d-c0b6-4052-9560-112899b0a759",
   "metadata": {},
   "outputs": [
    {
     "data": {
      "text/html": [
       "<div>\n",
       "<style scoped>\n",
       "    .dataframe tbody tr th:only-of-type {\n",
       "        vertical-align: middle;\n",
       "    }\n",
       "\n",
       "    .dataframe tbody tr th {\n",
       "        vertical-align: top;\n",
       "    }\n",
       "\n",
       "    .dataframe thead th {\n",
       "        text-align: right;\n",
       "    }\n",
       "</style>\n",
       "<table border=\"1\" class=\"dataframe\">\n",
       "  <thead>\n",
       "    <tr style=\"text-align: right;\">\n",
       "      <th></th>\n",
       "      <th>A</th>\n",
       "      <th>B</th>\n",
       "    </tr>\n",
       "  </thead>\n",
       "  <tbody>\n",
       "    <tr>\n",
       "      <th>2024-09-18</th>\n",
       "      <td>-1.172900</td>\n",
       "      <td>0.923057</td>\n",
       "    </tr>\n",
       "    <tr>\n",
       "      <th>2024-09-19</th>\n",
       "      <td>0.204926</td>\n",
       "      <td>-0.242165</td>\n",
       "    </tr>\n",
       "  </tbody>\n",
       "</table>\n",
       "</div>"
      ],
      "text/plain": [
       "                   A         B\n",
       "2024-09-18 -1.172900  0.923057\n",
       "2024-09-19  0.204926 -0.242165"
      ]
     },
     "execution_count": 98,
     "metadata": {},
     "output_type": "execute_result"
    }
   ],
   "source": [
    "df1.iloc[3:5, 0:2]"
   ]
  },
  {
   "cell_type": "code",
   "execution_count": null,
   "id": "0ef719e3-9e57-476d-9461-b80330f42854",
   "metadata": {},
   "outputs": [],
   "source": []
  },
  {
   "cell_type": "markdown",
   "id": "940342c5-1c07-4600-b4df-9476edd2e2db",
   "metadata": {},
   "source": [
    "how to handle missing data"
   ]
  },
  {
   "cell_type": "code",
   "execution_count": 102,
   "id": "f1d6a3f1-4e06-4644-acb6-1cfb0e9ec975",
   "metadata": {},
   "outputs": [],
   "source": [
    "df3 = df1.reindex(index=d[0:4], columns=list(df.columns) + ['E'])"
   ]
  },
  {
   "cell_type": "code",
   "execution_count": 104,
   "id": "e806dbd1-4b19-47b4-b42a-5bfba2d95113",
   "metadata": {},
   "outputs": [
    {
     "data": {
      "text/html": [
       "<div>\n",
       "<style scoped>\n",
       "    .dataframe tbody tr th:only-of-type {\n",
       "        vertical-align: middle;\n",
       "    }\n",
       "\n",
       "    .dataframe tbody tr th {\n",
       "        vertical-align: top;\n",
       "    }\n",
       "\n",
       "    .dataframe thead th {\n",
       "        text-align: right;\n",
       "    }\n",
       "</style>\n",
       "<table border=\"1\" class=\"dataframe\">\n",
       "  <thead>\n",
       "    <tr style=\"text-align: right;\">\n",
       "      <th></th>\n",
       "      <th>A</th>\n",
       "      <th>B</th>\n",
       "      <th>C</th>\n",
       "      <th>D</th>\n",
       "      <th>E</th>\n",
       "      <th>F</th>\n",
       "      <th>E</th>\n",
       "    </tr>\n",
       "  </thead>\n",
       "  <tbody>\n",
       "    <tr>\n",
       "      <th>2024-09-15</th>\n",
       "      <td>1.555132</td>\n",
       "      <td>-0.527988</td>\n",
       "      <td>1.452649</td>\n",
       "      <td>-1.744200</td>\n",
       "      <td>NaN</td>\n",
       "      <td>NaN</td>\n",
       "      <td>NaN</td>\n",
       "    </tr>\n",
       "    <tr>\n",
       "      <th>2024-09-16</th>\n",
       "      <td>0.861221</td>\n",
       "      <td>0.257916</td>\n",
       "      <td>-0.422509</td>\n",
       "      <td>0.840806</td>\n",
       "      <td>NaN</td>\n",
       "      <td>NaN</td>\n",
       "      <td>NaN</td>\n",
       "    </tr>\n",
       "    <tr>\n",
       "      <th>2024-09-17</th>\n",
       "      <td>0.194064</td>\n",
       "      <td>0.674825</td>\n",
       "      <td>-0.610126</td>\n",
       "      <td>-0.582202</td>\n",
       "      <td>NaN</td>\n",
       "      <td>NaN</td>\n",
       "      <td>NaN</td>\n",
       "    </tr>\n",
       "    <tr>\n",
       "      <th>2024-09-18</th>\n",
       "      <td>-1.172900</td>\n",
       "      <td>0.923057</td>\n",
       "      <td>-1.163458</td>\n",
       "      <td>-0.192535</td>\n",
       "      <td>NaN</td>\n",
       "      <td>NaN</td>\n",
       "      <td>NaN</td>\n",
       "    </tr>\n",
       "  </tbody>\n",
       "</table>\n",
       "</div>"
      ],
      "text/plain": [
       "                   A         B         C         D   E   F   E\n",
       "2024-09-15  1.555132 -0.527988  1.452649 -1.744200 NaN NaN NaN\n",
       "2024-09-16  0.861221  0.257916 -0.422509  0.840806 NaN NaN NaN\n",
       "2024-09-17  0.194064  0.674825 -0.610126 -0.582202 NaN NaN NaN\n",
       "2024-09-18 -1.172900  0.923057 -1.163458 -0.192535 NaN NaN NaN"
      ]
     },
     "execution_count": 104,
     "metadata": {},
     "output_type": "execute_result"
    }
   ],
   "source": [
    "df3"
   ]
  },
  {
   "cell_type": "code",
   "execution_count": 105,
   "id": "840ad6fc-1a99-4a5f-9cc6-69ba915e68b9",
   "metadata": {},
   "outputs": [
    {
     "data": {
      "text/html": [
       "<div>\n",
       "<style scoped>\n",
       "    .dataframe tbody tr th:only-of-type {\n",
       "        vertical-align: middle;\n",
       "    }\n",
       "\n",
       "    .dataframe tbody tr th {\n",
       "        vertical-align: top;\n",
       "    }\n",
       "\n",
       "    .dataframe thead th {\n",
       "        text-align: right;\n",
       "    }\n",
       "</style>\n",
       "<table border=\"1\" class=\"dataframe\">\n",
       "  <thead>\n",
       "    <tr style=\"text-align: right;\">\n",
       "      <th></th>\n",
       "      <th>A</th>\n",
       "      <th>B</th>\n",
       "      <th>C</th>\n",
       "      <th>D</th>\n",
       "      <th>E</th>\n",
       "      <th>F</th>\n",
       "      <th>E</th>\n",
       "    </tr>\n",
       "  </thead>\n",
       "  <tbody>\n",
       "    <tr>\n",
       "      <th>2024-09-15</th>\n",
       "      <td>1.555132</td>\n",
       "      <td>-0.527988</td>\n",
       "      <td>1.452649</td>\n",
       "      <td>-1.744200</td>\n",
       "      <td>NaN</td>\n",
       "      <td>NaN</td>\n",
       "      <td>NaN</td>\n",
       "    </tr>\n",
       "    <tr>\n",
       "      <th>2024-09-16</th>\n",
       "      <td>0.861221</td>\n",
       "      <td>0.257916</td>\n",
       "      <td>-0.422509</td>\n",
       "      <td>0.840806</td>\n",
       "      <td>NaN</td>\n",
       "      <td>NaN</td>\n",
       "      <td>NaN</td>\n",
       "    </tr>\n",
       "    <tr>\n",
       "      <th>2024-09-17</th>\n",
       "      <td>0.194064</td>\n",
       "      <td>0.674825</td>\n",
       "      <td>-0.610126</td>\n",
       "      <td>-0.582202</td>\n",
       "      <td>NaN</td>\n",
       "      <td>NaN</td>\n",
       "      <td>NaN</td>\n",
       "    </tr>\n",
       "    <tr>\n",
       "      <th>2024-09-18</th>\n",
       "      <td>-1.172900</td>\n",
       "      <td>0.923057</td>\n",
       "      <td>-1.163458</td>\n",
       "      <td>-0.192535</td>\n",
       "      <td>NaN</td>\n",
       "      <td>NaN</td>\n",
       "      <td>NaN</td>\n",
       "    </tr>\n",
       "  </tbody>\n",
       "</table>\n",
       "</div>"
      ],
      "text/plain": [
       "                   A         B         C         D   E   F   E\n",
       "2024-09-15  1.555132 -0.527988  1.452649 -1.744200 NaN NaN NaN\n",
       "2024-09-16  0.861221  0.257916 -0.422509  0.840806 NaN NaN NaN\n",
       "2024-09-17  0.194064  0.674825 -0.610126 -0.582202 NaN NaN NaN\n",
       "2024-09-18 -1.172900  0.923057 -1.163458 -0.192535 NaN NaN NaN"
      ]
     },
     "execution_count": 105,
     "metadata": {},
     "output_type": "execute_result"
    }
   ],
   "source": [
    "df3"
   ]
  },
  {
   "cell_type": "code",
   "execution_count": 108,
   "id": "6044f70d-6818-4029-a8ff-dfed4b57278e",
   "metadata": {},
   "outputs": [
    {
     "data": {
      "text/html": [
       "<div>\n",
       "<style scoped>\n",
       "    .dataframe tbody tr th:only-of-type {\n",
       "        vertical-align: middle;\n",
       "    }\n",
       "\n",
       "    .dataframe tbody tr th {\n",
       "        vertical-align: top;\n",
       "    }\n",
       "\n",
       "    .dataframe thead th {\n",
       "        text-align: right;\n",
       "    }\n",
       "</style>\n",
       "<table border=\"1\" class=\"dataframe\">\n",
       "  <thead>\n",
       "    <tr style=\"text-align: right;\">\n",
       "      <th></th>\n",
       "      <th>A</th>\n",
       "      <th>B</th>\n",
       "      <th>C</th>\n",
       "      <th>D</th>\n",
       "      <th>E</th>\n",
       "      <th>F</th>\n",
       "      <th>E</th>\n",
       "    </tr>\n",
       "  </thead>\n",
       "  <tbody>\n",
       "  </tbody>\n",
       "</table>\n",
       "</div>"
      ],
      "text/plain": [
       "Empty DataFrame\n",
       "Columns: [A, B, C, D, E, F, E]\n",
       "Index: []"
      ]
     },
     "execution_count": 108,
     "metadata": {},
     "output_type": "execute_result"
    }
   ],
   "source": [
    "df3.dropna()"
   ]
  },
  {
   "cell_type": "code",
   "execution_count": 110,
   "id": "e2698cee-c18b-47e3-aaa4-05d00ab78778",
   "metadata": {},
   "outputs": [
    {
     "data": {
      "text/html": [
       "<div>\n",
       "<style scoped>\n",
       "    .dataframe tbody tr th:only-of-type {\n",
       "        vertical-align: middle;\n",
       "    }\n",
       "\n",
       "    .dataframe tbody tr th {\n",
       "        vertical-align: top;\n",
       "    }\n",
       "\n",
       "    .dataframe thead th {\n",
       "        text-align: right;\n",
       "    }\n",
       "</style>\n",
       "<table border=\"1\" class=\"dataframe\">\n",
       "  <thead>\n",
       "    <tr style=\"text-align: right;\">\n",
       "      <th></th>\n",
       "      <th>A</th>\n",
       "      <th>B</th>\n",
       "      <th>C</th>\n",
       "      <th>D</th>\n",
       "      <th>E</th>\n",
       "      <th>F</th>\n",
       "      <th>E</th>\n",
       "    </tr>\n",
       "  </thead>\n",
       "  <tbody>\n",
       "    <tr>\n",
       "      <th>2024-09-15</th>\n",
       "      <td>1.555132</td>\n",
       "      <td>-0.527988</td>\n",
       "      <td>1.452649</td>\n",
       "      <td>-1.744200</td>\n",
       "      <td>NaN</td>\n",
       "      <td>NaN</td>\n",
       "      <td>NaN</td>\n",
       "    </tr>\n",
       "    <tr>\n",
       "      <th>2024-09-16</th>\n",
       "      <td>0.861221</td>\n",
       "      <td>0.257916</td>\n",
       "      <td>-0.422509</td>\n",
       "      <td>0.840806</td>\n",
       "      <td>NaN</td>\n",
       "      <td>NaN</td>\n",
       "      <td>NaN</td>\n",
       "    </tr>\n",
       "    <tr>\n",
       "      <th>2024-09-17</th>\n",
       "      <td>0.194064</td>\n",
       "      <td>0.674825</td>\n",
       "      <td>-0.610126</td>\n",
       "      <td>-0.582202</td>\n",
       "      <td>NaN</td>\n",
       "      <td>NaN</td>\n",
       "      <td>NaN</td>\n",
       "    </tr>\n",
       "    <tr>\n",
       "      <th>2024-09-18</th>\n",
       "      <td>-1.172900</td>\n",
       "      <td>0.923057</td>\n",
       "      <td>-1.163458</td>\n",
       "      <td>-0.192535</td>\n",
       "      <td>NaN</td>\n",
       "      <td>NaN</td>\n",
       "      <td>NaN</td>\n",
       "    </tr>\n",
       "  </tbody>\n",
       "</table>\n",
       "</div>"
      ],
      "text/plain": [
       "                   A         B         C         D   E   F   E\n",
       "2024-09-15  1.555132 -0.527988  1.452649 -1.744200 NaN NaN NaN\n",
       "2024-09-16  0.861221  0.257916 -0.422509  0.840806 NaN NaN NaN\n",
       "2024-09-17  0.194064  0.674825 -0.610126 -0.582202 NaN NaN NaN\n",
       "2024-09-18 -1.172900  0.923057 -1.163458 -0.192535 NaN NaN NaN"
      ]
     },
     "execution_count": 110,
     "metadata": {},
     "output_type": "execute_result"
    }
   ],
   "source": [
    "df3"
   ]
  },
  {
   "cell_type": "code",
   "execution_count": 112,
   "id": "5ccff517-779e-42ff-972c-4359ea1698bd",
   "metadata": {},
   "outputs": [
    {
     "data": {
      "text/html": [
       "<div>\n",
       "<style scoped>\n",
       "    .dataframe tbody tr th:only-of-type {\n",
       "        vertical-align: middle;\n",
       "    }\n",
       "\n",
       "    .dataframe tbody tr th {\n",
       "        vertical-align: top;\n",
       "    }\n",
       "\n",
       "    .dataframe thead th {\n",
       "        text-align: right;\n",
       "    }\n",
       "</style>\n",
       "<table border=\"1\" class=\"dataframe\">\n",
       "  <thead>\n",
       "    <tr style=\"text-align: right;\">\n",
       "      <th></th>\n",
       "      <th>A</th>\n",
       "      <th>B</th>\n",
       "      <th>C</th>\n",
       "      <th>D</th>\n",
       "      <th>E</th>\n",
       "      <th>F</th>\n",
       "      <th>E</th>\n",
       "    </tr>\n",
       "  </thead>\n",
       "  <tbody>\n",
       "    <tr>\n",
       "      <th>2024-09-15</th>\n",
       "      <td>1.555132</td>\n",
       "      <td>-0.527988</td>\n",
       "      <td>1.452649</td>\n",
       "      <td>-1.744200</td>\n",
       "      <td>NaN</td>\n",
       "      <td>NaN</td>\n",
       "      <td>NaN</td>\n",
       "    </tr>\n",
       "    <tr>\n",
       "      <th>2024-09-16</th>\n",
       "      <td>0.861221</td>\n",
       "      <td>0.257916</td>\n",
       "      <td>-0.422509</td>\n",
       "      <td>0.840806</td>\n",
       "      <td>NaN</td>\n",
       "      <td>NaN</td>\n",
       "      <td>NaN</td>\n",
       "    </tr>\n",
       "    <tr>\n",
       "      <th>2024-09-17</th>\n",
       "      <td>0.194064</td>\n",
       "      <td>0.674825</td>\n",
       "      <td>-0.610126</td>\n",
       "      <td>-0.582202</td>\n",
       "      <td>NaN</td>\n",
       "      <td>NaN</td>\n",
       "      <td>NaN</td>\n",
       "    </tr>\n",
       "    <tr>\n",
       "      <th>2024-09-18</th>\n",
       "      <td>-1.172900</td>\n",
       "      <td>0.923057</td>\n",
       "      <td>-1.163458</td>\n",
       "      <td>-0.192535</td>\n",
       "      <td>NaN</td>\n",
       "      <td>NaN</td>\n",
       "      <td>NaN</td>\n",
       "    </tr>\n",
       "  </tbody>\n",
       "</table>\n",
       "</div>"
      ],
      "text/plain": [
       "                   A         B         C         D   E   F   E\n",
       "2024-09-15  1.555132 -0.527988  1.452649 -1.744200 NaN NaN NaN\n",
       "2024-09-16  0.861221  0.257916 -0.422509  0.840806 NaN NaN NaN\n",
       "2024-09-17  0.194064  0.674825 -0.610126 -0.582202 NaN NaN NaN\n",
       "2024-09-18 -1.172900  0.923057 -1.163458 -0.192535 NaN NaN NaN"
      ]
     },
     "execution_count": 112,
     "metadata": {},
     "output_type": "execute_result"
    }
   ],
   "source": [
    "df3"
   ]
  },
  {
   "cell_type": "code",
   "execution_count": 114,
   "id": "3c9959ed-f28c-4154-8ab2-52c3aec6de40",
   "metadata": {},
   "outputs": [
    {
     "data": {
      "text/html": [
       "<div>\n",
       "<style scoped>\n",
       "    .dataframe tbody tr th:only-of-type {\n",
       "        vertical-align: middle;\n",
       "    }\n",
       "\n",
       "    .dataframe tbody tr th {\n",
       "        vertical-align: top;\n",
       "    }\n",
       "\n",
       "    .dataframe thead th {\n",
       "        text-align: right;\n",
       "    }\n",
       "</style>\n",
       "<table border=\"1\" class=\"dataframe\">\n",
       "  <thead>\n",
       "    <tr style=\"text-align: right;\">\n",
       "      <th></th>\n",
       "      <th>A</th>\n",
       "      <th>B</th>\n",
       "      <th>C</th>\n",
       "      <th>D</th>\n",
       "      <th>E</th>\n",
       "      <th>F</th>\n",
       "      <th>E</th>\n",
       "    </tr>\n",
       "  </thead>\n",
       "  <tbody>\n",
       "    <tr>\n",
       "      <th>2024-09-15</th>\n",
       "      <td>1.555132</td>\n",
       "      <td>-0.527988</td>\n",
       "      <td>1.452649</td>\n",
       "      <td>-1.744200</td>\n",
       "      <td>2.0</td>\n",
       "      <td>2.0</td>\n",
       "      <td>2.0</td>\n",
       "    </tr>\n",
       "    <tr>\n",
       "      <th>2024-09-16</th>\n",
       "      <td>0.861221</td>\n",
       "      <td>0.257916</td>\n",
       "      <td>-0.422509</td>\n",
       "      <td>0.840806</td>\n",
       "      <td>2.0</td>\n",
       "      <td>2.0</td>\n",
       "      <td>2.0</td>\n",
       "    </tr>\n",
       "    <tr>\n",
       "      <th>2024-09-17</th>\n",
       "      <td>0.194064</td>\n",
       "      <td>0.674825</td>\n",
       "      <td>-0.610126</td>\n",
       "      <td>-0.582202</td>\n",
       "      <td>2.0</td>\n",
       "      <td>2.0</td>\n",
       "      <td>2.0</td>\n",
       "    </tr>\n",
       "    <tr>\n",
       "      <th>2024-09-18</th>\n",
       "      <td>-1.172900</td>\n",
       "      <td>0.923057</td>\n",
       "      <td>-1.163458</td>\n",
       "      <td>-0.192535</td>\n",
       "      <td>2.0</td>\n",
       "      <td>2.0</td>\n",
       "      <td>2.0</td>\n",
       "    </tr>\n",
       "  </tbody>\n",
       "</table>\n",
       "</div>"
      ],
      "text/plain": [
       "                   A         B         C         D    E    F    E\n",
       "2024-09-15  1.555132 -0.527988  1.452649 -1.744200  2.0  2.0  2.0\n",
       "2024-09-16  0.861221  0.257916 -0.422509  0.840806  2.0  2.0  2.0\n",
       "2024-09-17  0.194064  0.674825 -0.610126 -0.582202  2.0  2.0  2.0\n",
       "2024-09-18 -1.172900  0.923057 -1.163458 -0.192535  2.0  2.0  2.0"
      ]
     },
     "execution_count": 114,
     "metadata": {},
     "output_type": "execute_result"
    }
   ],
   "source": [
    "df3.fillna(value=2)"
   ]
  },
  {
   "cell_type": "code",
   "execution_count": 116,
   "id": "3b34c70b-ffe5-4d8e-a2a8-78d82b904975",
   "metadata": {},
   "outputs": [
    {
     "data": {
      "text/html": [
       "<div>\n",
       "<style scoped>\n",
       "    .dataframe tbody tr th:only-of-type {\n",
       "        vertical-align: middle;\n",
       "    }\n",
       "\n",
       "    .dataframe tbody tr th {\n",
       "        vertical-align: top;\n",
       "    }\n",
       "\n",
       "    .dataframe thead th {\n",
       "        text-align: right;\n",
       "    }\n",
       "</style>\n",
       "<table border=\"1\" class=\"dataframe\">\n",
       "  <thead>\n",
       "    <tr style=\"text-align: right;\">\n",
       "      <th></th>\n",
       "      <th>A</th>\n",
       "      <th>B</th>\n",
       "      <th>C</th>\n",
       "      <th>D</th>\n",
       "      <th>E</th>\n",
       "      <th>F</th>\n",
       "      <th>E</th>\n",
       "    </tr>\n",
       "  </thead>\n",
       "  <tbody>\n",
       "    <tr>\n",
       "      <th>2024-09-15</th>\n",
       "      <td>False</td>\n",
       "      <td>False</td>\n",
       "      <td>False</td>\n",
       "      <td>False</td>\n",
       "      <td>True</td>\n",
       "      <td>True</td>\n",
       "      <td>True</td>\n",
       "    </tr>\n",
       "    <tr>\n",
       "      <th>2024-09-16</th>\n",
       "      <td>False</td>\n",
       "      <td>False</td>\n",
       "      <td>False</td>\n",
       "      <td>False</td>\n",
       "      <td>True</td>\n",
       "      <td>True</td>\n",
       "      <td>True</td>\n",
       "    </tr>\n",
       "    <tr>\n",
       "      <th>2024-09-17</th>\n",
       "      <td>False</td>\n",
       "      <td>False</td>\n",
       "      <td>False</td>\n",
       "      <td>False</td>\n",
       "      <td>True</td>\n",
       "      <td>True</td>\n",
       "      <td>True</td>\n",
       "    </tr>\n",
       "    <tr>\n",
       "      <th>2024-09-18</th>\n",
       "      <td>False</td>\n",
       "      <td>False</td>\n",
       "      <td>False</td>\n",
       "      <td>False</td>\n",
       "      <td>True</td>\n",
       "      <td>True</td>\n",
       "      <td>True</td>\n",
       "    </tr>\n",
       "  </tbody>\n",
       "</table>\n",
       "</div>"
      ],
      "text/plain": [
       "                A      B      C      D     E     F     E\n",
       "2024-09-15  False  False  False  False  True  True  True\n",
       "2024-09-16  False  False  False  False  True  True  True\n",
       "2024-09-17  False  False  False  False  True  True  True\n",
       "2024-09-18  False  False  False  False  True  True  True"
      ]
     },
     "execution_count": 116,
     "metadata": {},
     "output_type": "execute_result"
    }
   ],
   "source": [
    "df3.isnull()"
   ]
  },
  {
   "cell_type": "code",
   "execution_count": 118,
   "id": "5d87ce6d-8cc8-4533-b0f3-af85b7ce4d37",
   "metadata": {},
   "outputs": [
    {
     "data": {
      "text/html": [
       "<div>\n",
       "<style scoped>\n",
       "    .dataframe tbody tr th:only-of-type {\n",
       "        vertical-align: middle;\n",
       "    }\n",
       "\n",
       "    .dataframe tbody tr th {\n",
       "        vertical-align: top;\n",
       "    }\n",
       "\n",
       "    .dataframe thead th {\n",
       "        text-align: right;\n",
       "    }\n",
       "</style>\n",
       "<table border=\"1\" class=\"dataframe\">\n",
       "  <thead>\n",
       "    <tr style=\"text-align: right;\">\n",
       "      <th></th>\n",
       "      <th>A</th>\n",
       "      <th>B</th>\n",
       "      <th>C</th>\n",
       "      <th>D</th>\n",
       "      <th>E</th>\n",
       "      <th>F</th>\n",
       "      <th>E</th>\n",
       "    </tr>\n",
       "  </thead>\n",
       "  <tbody>\n",
       "    <tr>\n",
       "      <th>2024-09-15</th>\n",
       "      <td>False</td>\n",
       "      <td>False</td>\n",
       "      <td>False</td>\n",
       "      <td>False</td>\n",
       "      <td>True</td>\n",
       "      <td>True</td>\n",
       "      <td>True</td>\n",
       "    </tr>\n",
       "    <tr>\n",
       "      <th>2024-09-16</th>\n",
       "      <td>False</td>\n",
       "      <td>False</td>\n",
       "      <td>False</td>\n",
       "      <td>False</td>\n",
       "      <td>True</td>\n",
       "      <td>True</td>\n",
       "      <td>True</td>\n",
       "    </tr>\n",
       "    <tr>\n",
       "      <th>2024-09-17</th>\n",
       "      <td>False</td>\n",
       "      <td>False</td>\n",
       "      <td>False</td>\n",
       "      <td>False</td>\n",
       "      <td>True</td>\n",
       "      <td>True</td>\n",
       "      <td>True</td>\n",
       "    </tr>\n",
       "    <tr>\n",
       "      <th>2024-09-18</th>\n",
       "      <td>False</td>\n",
       "      <td>False</td>\n",
       "      <td>False</td>\n",
       "      <td>False</td>\n",
       "      <td>True</td>\n",
       "      <td>True</td>\n",
       "      <td>True</td>\n",
       "    </tr>\n",
       "  </tbody>\n",
       "</table>\n",
       "</div>"
      ],
      "text/plain": [
       "                A      B      C      D     E     F     E\n",
       "2024-09-15  False  False  False  False  True  True  True\n",
       "2024-09-16  False  False  False  False  True  True  True\n",
       "2024-09-17  False  False  False  False  True  True  True\n",
       "2024-09-18  False  False  False  False  True  True  True"
      ]
     },
     "execution_count": 118,
     "metadata": {},
     "output_type": "execute_result"
    }
   ],
   "source": [
    "pd.isna(df3)"
   ]
  },
  {
   "cell_type": "code",
   "execution_count": null,
   "id": "aedd2db1-2bf4-4797-862e-72a093921856",
   "metadata": {},
   "outputs": [],
   "source": []
  },
  {
   "cell_type": "markdown",
   "id": "8980b848-73a3-4672-938b-4b74a71cc5ae",
   "metadata": {},
   "source": [
    "operation on pandas"
   ]
  },
  {
   "cell_type": "code",
   "execution_count": 122,
   "id": "24cfd132-8871-48ac-a0bb-a4fa88f5ae06",
   "metadata": {},
   "outputs": [
    {
     "data": {
      "text/plain": [
       "2024-09-15    0.183898\n",
       "2024-09-16    0.384358\n",
       "2024-09-17   -0.080860\n",
       "2024-09-18   -0.401459\n",
       "Freq: D, dtype: float64"
      ]
     },
     "execution_count": 122,
     "metadata": {},
     "output_type": "execute_result"
    }
   ],
   "source": [
    "df3.mean(1)"
   ]
  },
  {
   "cell_type": "code",
   "execution_count": 124,
   "id": "ce53d609-57aa-4324-a5d7-f3eed8685211",
   "metadata": {},
   "outputs": [
    {
     "data": {
      "text/plain": [
       "A    0.359379\n",
       "B    0.331953\n",
       "C   -0.185861\n",
       "D   -0.419533\n",
       "E         NaN\n",
       "F         NaN\n",
       "E         NaN\n",
       "dtype: float64"
      ]
     },
     "execution_count": 124,
     "metadata": {},
     "output_type": "execute_result"
    }
   ],
   "source": [
    "df3.mean(0)"
   ]
  },
  {
   "cell_type": "code",
   "execution_count": 126,
   "id": "5ed69196-bace-4d70-b81e-d668e25ffc42",
   "metadata": {},
   "outputs": [
    {
     "data": {
      "text/html": [
       "<div>\n",
       "<style scoped>\n",
       "    .dataframe tbody tr th:only-of-type {\n",
       "        vertical-align: middle;\n",
       "    }\n",
       "\n",
       "    .dataframe tbody tr th {\n",
       "        vertical-align: top;\n",
       "    }\n",
       "\n",
       "    .dataframe thead th {\n",
       "        text-align: right;\n",
       "    }\n",
       "</style>\n",
       "<table border=\"1\" class=\"dataframe\">\n",
       "  <thead>\n",
       "    <tr style=\"text-align: right;\">\n",
       "      <th></th>\n",
       "      <th>A</th>\n",
       "      <th>B</th>\n",
       "      <th>C</th>\n",
       "      <th>D</th>\n",
       "      <th>E</th>\n",
       "      <th>F</th>\n",
       "      <th>E</th>\n",
       "    </tr>\n",
       "  </thead>\n",
       "  <tbody>\n",
       "    <tr>\n",
       "      <th>2024-09-15</th>\n",
       "      <td>1.555132</td>\n",
       "      <td>-0.527988</td>\n",
       "      <td>1.452649</td>\n",
       "      <td>-1.744200</td>\n",
       "      <td>NaN</td>\n",
       "      <td>NaN</td>\n",
       "      <td>NaN</td>\n",
       "    </tr>\n",
       "    <tr>\n",
       "      <th>2024-09-16</th>\n",
       "      <td>0.861221</td>\n",
       "      <td>0.257916</td>\n",
       "      <td>-0.422509</td>\n",
       "      <td>0.840806</td>\n",
       "      <td>NaN</td>\n",
       "      <td>NaN</td>\n",
       "      <td>NaN</td>\n",
       "    </tr>\n",
       "    <tr>\n",
       "      <th>2024-09-17</th>\n",
       "      <td>0.194064</td>\n",
       "      <td>0.674825</td>\n",
       "      <td>-0.610126</td>\n",
       "      <td>-0.582202</td>\n",
       "      <td>NaN</td>\n",
       "      <td>NaN</td>\n",
       "      <td>NaN</td>\n",
       "    </tr>\n",
       "    <tr>\n",
       "      <th>2024-09-18</th>\n",
       "      <td>-1.172900</td>\n",
       "      <td>0.923057</td>\n",
       "      <td>-1.163458</td>\n",
       "      <td>-0.192535</td>\n",
       "      <td>NaN</td>\n",
       "      <td>NaN</td>\n",
       "      <td>NaN</td>\n",
       "    </tr>\n",
       "  </tbody>\n",
       "</table>\n",
       "</div>"
      ],
      "text/plain": [
       "                   A         B         C         D   E   F   E\n",
       "2024-09-15  1.555132 -0.527988  1.452649 -1.744200 NaN NaN NaN\n",
       "2024-09-16  0.861221  0.257916 -0.422509  0.840806 NaN NaN NaN\n",
       "2024-09-17  0.194064  0.674825 -0.610126 -0.582202 NaN NaN NaN\n",
       "2024-09-18 -1.172900  0.923057 -1.163458 -0.192535 NaN NaN NaN"
      ]
     },
     "execution_count": 126,
     "metadata": {},
     "output_type": "execute_result"
    }
   ],
   "source": [
    "df3"
   ]
  },
  {
   "cell_type": "code",
   "execution_count": 128,
   "id": "619ff590-9fcd-48cb-b542-5794809aa9da",
   "metadata": {},
   "outputs": [],
   "source": [
    "s = pd.Series([1,2,3,np.nan,4,5,6,7,8,9], index=d).shift(2)"
   ]
  },
  {
   "cell_type": "code",
   "execution_count": 130,
   "id": "4e9181e0-dfa3-4123-b21e-b9c0c8390c7f",
   "metadata": {},
   "outputs": [
    {
     "data": {
      "text/plain": [
       "2024-09-15    NaN\n",
       "2024-09-16    NaN\n",
       "2024-09-17    1.0\n",
       "2024-09-18    2.0\n",
       "2024-09-19    3.0\n",
       "2024-09-20    NaN\n",
       "2024-09-21    4.0\n",
       "2024-09-22    5.0\n",
       "2024-09-23    6.0\n",
       "2024-09-24    7.0\n",
       "Freq: D, dtype: float64"
      ]
     },
     "execution_count": 130,
     "metadata": {},
     "output_type": "execute_result"
    }
   ],
   "source": [
    "s"
   ]
  },
  {
   "cell_type": "code",
   "execution_count": 132,
   "id": "c4dc7430-31b6-4254-807b-a01698f6229b",
   "metadata": {},
   "outputs": [
    {
     "data": {
      "text/html": [
       "<div>\n",
       "<style scoped>\n",
       "    .dataframe tbody tr th:only-of-type {\n",
       "        vertical-align: middle;\n",
       "    }\n",
       "\n",
       "    .dataframe tbody tr th {\n",
       "        vertical-align: top;\n",
       "    }\n",
       "\n",
       "    .dataframe thead th {\n",
       "        text-align: right;\n",
       "    }\n",
       "</style>\n",
       "<table border=\"1\" class=\"dataframe\">\n",
       "  <thead>\n",
       "    <tr style=\"text-align: right;\">\n",
       "      <th></th>\n",
       "      <th>A</th>\n",
       "      <th>B</th>\n",
       "      <th>C</th>\n",
       "      <th>D</th>\n",
       "      <th>E</th>\n",
       "      <th>F</th>\n",
       "      <th>E</th>\n",
       "    </tr>\n",
       "  </thead>\n",
       "  <tbody>\n",
       "    <tr>\n",
       "      <th>2024-09-15</th>\n",
       "      <td>NaN</td>\n",
       "      <td>NaN</td>\n",
       "      <td>NaN</td>\n",
       "      <td>NaN</td>\n",
       "      <td>NaN</td>\n",
       "      <td>NaN</td>\n",
       "      <td>NaN</td>\n",
       "    </tr>\n",
       "    <tr>\n",
       "      <th>2024-09-16</th>\n",
       "      <td>NaN</td>\n",
       "      <td>NaN</td>\n",
       "      <td>NaN</td>\n",
       "      <td>NaN</td>\n",
       "      <td>NaN</td>\n",
       "      <td>NaN</td>\n",
       "      <td>NaN</td>\n",
       "    </tr>\n",
       "    <tr>\n",
       "      <th>2024-09-17</th>\n",
       "      <td>-0.805936</td>\n",
       "      <td>-0.325175</td>\n",
       "      <td>-1.610126</td>\n",
       "      <td>-1.582202</td>\n",
       "      <td>NaN</td>\n",
       "      <td>NaN</td>\n",
       "      <td>NaN</td>\n",
       "    </tr>\n",
       "    <tr>\n",
       "      <th>2024-09-18</th>\n",
       "      <td>-3.172900</td>\n",
       "      <td>-1.076943</td>\n",
       "      <td>-3.163458</td>\n",
       "      <td>-2.192535</td>\n",
       "      <td>NaN</td>\n",
       "      <td>NaN</td>\n",
       "      <td>NaN</td>\n",
       "    </tr>\n",
       "    <tr>\n",
       "      <th>2024-09-19</th>\n",
       "      <td>NaN</td>\n",
       "      <td>NaN</td>\n",
       "      <td>NaN</td>\n",
       "      <td>NaN</td>\n",
       "      <td>NaN</td>\n",
       "      <td>NaN</td>\n",
       "      <td>NaN</td>\n",
       "    </tr>\n",
       "    <tr>\n",
       "      <th>2024-09-20</th>\n",
       "      <td>NaN</td>\n",
       "      <td>NaN</td>\n",
       "      <td>NaN</td>\n",
       "      <td>NaN</td>\n",
       "      <td>NaN</td>\n",
       "      <td>NaN</td>\n",
       "      <td>NaN</td>\n",
       "    </tr>\n",
       "    <tr>\n",
       "      <th>2024-09-21</th>\n",
       "      <td>NaN</td>\n",
       "      <td>NaN</td>\n",
       "      <td>NaN</td>\n",
       "      <td>NaN</td>\n",
       "      <td>NaN</td>\n",
       "      <td>NaN</td>\n",
       "      <td>NaN</td>\n",
       "    </tr>\n",
       "    <tr>\n",
       "      <th>2024-09-22</th>\n",
       "      <td>NaN</td>\n",
       "      <td>NaN</td>\n",
       "      <td>NaN</td>\n",
       "      <td>NaN</td>\n",
       "      <td>NaN</td>\n",
       "      <td>NaN</td>\n",
       "      <td>NaN</td>\n",
       "    </tr>\n",
       "    <tr>\n",
       "      <th>2024-09-23</th>\n",
       "      <td>NaN</td>\n",
       "      <td>NaN</td>\n",
       "      <td>NaN</td>\n",
       "      <td>NaN</td>\n",
       "      <td>NaN</td>\n",
       "      <td>NaN</td>\n",
       "      <td>NaN</td>\n",
       "    </tr>\n",
       "    <tr>\n",
       "      <th>2024-09-24</th>\n",
       "      <td>NaN</td>\n",
       "      <td>NaN</td>\n",
       "      <td>NaN</td>\n",
       "      <td>NaN</td>\n",
       "      <td>NaN</td>\n",
       "      <td>NaN</td>\n",
       "      <td>NaN</td>\n",
       "    </tr>\n",
       "  </tbody>\n",
       "</table>\n",
       "</div>"
      ],
      "text/plain": [
       "                   A         B         C         D   E   F   E\n",
       "2024-09-15       NaN       NaN       NaN       NaN NaN NaN NaN\n",
       "2024-09-16       NaN       NaN       NaN       NaN NaN NaN NaN\n",
       "2024-09-17 -0.805936 -0.325175 -1.610126 -1.582202 NaN NaN NaN\n",
       "2024-09-18 -3.172900 -1.076943 -3.163458 -2.192535 NaN NaN NaN\n",
       "2024-09-19       NaN       NaN       NaN       NaN NaN NaN NaN\n",
       "2024-09-20       NaN       NaN       NaN       NaN NaN NaN NaN\n",
       "2024-09-21       NaN       NaN       NaN       NaN NaN NaN NaN\n",
       "2024-09-22       NaN       NaN       NaN       NaN NaN NaN NaN\n",
       "2024-09-23       NaN       NaN       NaN       NaN NaN NaN NaN\n",
       "2024-09-24       NaN       NaN       NaN       NaN NaN NaN NaN"
      ]
     },
     "execution_count": 132,
     "metadata": {},
     "output_type": "execute_result"
    }
   ],
   "source": [
    "df3.sub(s, axis='index')"
   ]
  },
  {
   "cell_type": "code",
   "execution_count": 139,
   "id": "0f4b6e06-f367-4aa8-bd97-a5cf825a175e",
   "metadata": {},
   "outputs": [
    {
     "data": {
      "text/html": [
       "<div>\n",
       "<style scoped>\n",
       "    .dataframe tbody tr th:only-of-type {\n",
       "        vertical-align: middle;\n",
       "    }\n",
       "\n",
       "    .dataframe tbody tr th {\n",
       "        vertical-align: top;\n",
       "    }\n",
       "\n",
       "    .dataframe thead th {\n",
       "        text-align: right;\n",
       "    }\n",
       "</style>\n",
       "<table border=\"1\" class=\"dataframe\">\n",
       "  <thead>\n",
       "    <tr style=\"text-align: right;\">\n",
       "      <th></th>\n",
       "      <th>A</th>\n",
       "      <th>B</th>\n",
       "      <th>C</th>\n",
       "      <th>D</th>\n",
       "      <th>E</th>\n",
       "      <th>F</th>\n",
       "      <th>E</th>\n",
       "    </tr>\n",
       "  </thead>\n",
       "  <tbody>\n",
       "    <tr>\n",
       "      <th>2024-09-15</th>\n",
       "      <td>1.555132</td>\n",
       "      <td>-0.527988</td>\n",
       "      <td>1.452649</td>\n",
       "      <td>-1.744200</td>\n",
       "      <td>NaN</td>\n",
       "      <td>NaN</td>\n",
       "      <td>NaN</td>\n",
       "    </tr>\n",
       "    <tr>\n",
       "      <th>2024-09-16</th>\n",
       "      <td>2.416353</td>\n",
       "      <td>-0.270072</td>\n",
       "      <td>1.030140</td>\n",
       "      <td>-0.903394</td>\n",
       "      <td>NaN</td>\n",
       "      <td>NaN</td>\n",
       "      <td>NaN</td>\n",
       "    </tr>\n",
       "    <tr>\n",
       "      <th>2024-09-17</th>\n",
       "      <td>2.610417</td>\n",
       "      <td>0.404753</td>\n",
       "      <td>0.420014</td>\n",
       "      <td>-1.485596</td>\n",
       "      <td>NaN</td>\n",
       "      <td>NaN</td>\n",
       "      <td>NaN</td>\n",
       "    </tr>\n",
       "    <tr>\n",
       "      <th>2024-09-18</th>\n",
       "      <td>1.437517</td>\n",
       "      <td>1.327811</td>\n",
       "      <td>-0.743444</td>\n",
       "      <td>-1.678131</td>\n",
       "      <td>NaN</td>\n",
       "      <td>NaN</td>\n",
       "      <td>NaN</td>\n",
       "    </tr>\n",
       "  </tbody>\n",
       "</table>\n",
       "</div>"
      ],
      "text/plain": [
       "                   A         B         C         D   E   F   E\n",
       "2024-09-15  1.555132 -0.527988  1.452649 -1.744200 NaN NaN NaN\n",
       "2024-09-16  2.416353 -0.270072  1.030140 -0.903394 NaN NaN NaN\n",
       "2024-09-17  2.610417  0.404753  0.420014 -1.485596 NaN NaN NaN\n",
       "2024-09-18  1.437517  1.327811 -0.743444 -1.678131 NaN NaN NaN"
      ]
     },
     "execution_count": 139,
     "metadata": {},
     "output_type": "execute_result"
    }
   ],
   "source": [
    "df3.apply(np.cumsum)"
   ]
  },
  {
   "cell_type": "code",
   "execution_count": 141,
   "id": "58e96344-8bcf-4f52-8171-86e8b5087c2d",
   "metadata": {},
   "outputs": [
    {
     "data": {
      "text/plain": [
       "A    2.728033\n",
       "B    1.451045\n",
       "C    2.616107\n",
       "D    2.585005\n",
       "E         NaN\n",
       "F         NaN\n",
       "E         NaN\n",
       "dtype: float64"
      ]
     },
     "execution_count": 141,
     "metadata": {},
     "output_type": "execute_result"
    }
   ],
   "source": [
    "df3.apply(lambda x: x.max() - x.min())"
   ]
  },
  {
   "cell_type": "code",
   "execution_count": 143,
   "id": "1f0006c1-03e4-4a17-8271-caee5687a91d",
   "metadata": {},
   "outputs": [
    {
     "data": {
      "text/plain": [
       "1.0    1\n",
       "2.0    1\n",
       "3.0    1\n",
       "4.0    1\n",
       "5.0    1\n",
       "6.0    1\n",
       "7.0    1\n",
       "Name: count, dtype: int64"
      ]
     },
     "execution_count": 143,
     "metadata": {},
     "output_type": "execute_result"
    }
   ],
   "source": [
    "s.value_counts()"
   ]
  },
  {
   "cell_type": "code",
   "execution_count": 145,
   "id": "c6123ac4-7083-4501-97f2-16b37eef6459",
   "metadata": {},
   "outputs": [],
   "source": [
    "s = pd.Series(['edureka','python','jupter','np.nan','football','world'])"
   ]
  },
  {
   "cell_type": "code",
   "execution_count": 147,
   "id": "713cffc4-4885-4ba2-b35f-25a5ede18d18",
   "metadata": {},
   "outputs": [
    {
     "data": {
      "text/plain": [
       "0     EDUREKA\n",
       "1      PYTHON\n",
       "2      JUPTER\n",
       "3      NP.NAN\n",
       "4    FOOTBALL\n",
       "5       WORLD\n",
       "dtype: object"
      ]
     },
     "execution_count": 147,
     "metadata": {},
     "output_type": "execute_result"
    }
   ],
   "source": [
    "s.str.upper()"
   ]
  },
  {
   "cell_type": "code",
   "execution_count": 153,
   "id": "a173ba62-264d-4816-93af-e9896439495d",
   "metadata": {},
   "outputs": [],
   "source": [
    "df = pd.DataFrame(np.random.randn(10,4))"
   ]
  },
  {
   "cell_type": "code",
   "execution_count": 155,
   "id": "5dda0244-6b07-42a0-8bab-5a078f95975c",
   "metadata": {},
   "outputs": [
    {
     "data": {
      "text/html": [
       "<div>\n",
       "<style scoped>\n",
       "    .dataframe tbody tr th:only-of-type {\n",
       "        vertical-align: middle;\n",
       "    }\n",
       "\n",
       "    .dataframe tbody tr th {\n",
       "        vertical-align: top;\n",
       "    }\n",
       "\n",
       "    .dataframe thead th {\n",
       "        text-align: right;\n",
       "    }\n",
       "</style>\n",
       "<table border=\"1\" class=\"dataframe\">\n",
       "  <thead>\n",
       "    <tr style=\"text-align: right;\">\n",
       "      <th></th>\n",
       "      <th>0</th>\n",
       "      <th>1</th>\n",
       "      <th>2</th>\n",
       "      <th>3</th>\n",
       "    </tr>\n",
       "  </thead>\n",
       "  <tbody>\n",
       "    <tr>\n",
       "      <th>0</th>\n",
       "      <td>1.529511</td>\n",
       "      <td>-0.697621</td>\n",
       "      <td>-0.307194</td>\n",
       "      <td>-1.867428</td>\n",
       "    </tr>\n",
       "    <tr>\n",
       "      <th>1</th>\n",
       "      <td>-0.682107</td>\n",
       "      <td>-0.018084</td>\n",
       "      <td>-0.633556</td>\n",
       "      <td>0.206054</td>\n",
       "    </tr>\n",
       "    <tr>\n",
       "      <th>2</th>\n",
       "      <td>-1.457642</td>\n",
       "      <td>0.234649</td>\n",
       "      <td>-0.590090</td>\n",
       "      <td>0.082205</td>\n",
       "    </tr>\n",
       "    <tr>\n",
       "      <th>3</th>\n",
       "      <td>0.486739</td>\n",
       "      <td>-0.052641</td>\n",
       "      <td>0.353493</td>\n",
       "      <td>-1.656001</td>\n",
       "    </tr>\n",
       "    <tr>\n",
       "      <th>4</th>\n",
       "      <td>0.511375</td>\n",
       "      <td>0.122112</td>\n",
       "      <td>1.171950</td>\n",
       "      <td>-1.221294</td>\n",
       "    </tr>\n",
       "    <tr>\n",
       "      <th>5</th>\n",
       "      <td>-0.264622</td>\n",
       "      <td>0.802222</td>\n",
       "      <td>0.409456</td>\n",
       "      <td>-0.980357</td>\n",
       "    </tr>\n",
       "    <tr>\n",
       "      <th>6</th>\n",
       "      <td>-0.801114</td>\n",
       "      <td>1.186572</td>\n",
       "      <td>0.858243</td>\n",
       "      <td>0.018632</td>\n",
       "    </tr>\n",
       "    <tr>\n",
       "      <th>7</th>\n",
       "      <td>-2.429100</td>\n",
       "      <td>0.152073</td>\n",
       "      <td>-1.085533</td>\n",
       "      <td>-0.363575</td>\n",
       "    </tr>\n",
       "    <tr>\n",
       "      <th>8</th>\n",
       "      <td>0.842751</td>\n",
       "      <td>0.911766</td>\n",
       "      <td>-0.280945</td>\n",
       "      <td>-0.392360</td>\n",
       "    </tr>\n",
       "    <tr>\n",
       "      <th>9</th>\n",
       "      <td>0.904342</td>\n",
       "      <td>-0.296484</td>\n",
       "      <td>0.578792</td>\n",
       "      <td>0.433124</td>\n",
       "    </tr>\n",
       "  </tbody>\n",
       "</table>\n",
       "</div>"
      ],
      "text/plain": [
       "          0         1         2         3\n",
       "0  1.529511 -0.697621 -0.307194 -1.867428\n",
       "1 -0.682107 -0.018084 -0.633556  0.206054\n",
       "2 -1.457642  0.234649 -0.590090  0.082205\n",
       "3  0.486739 -0.052641  0.353493 -1.656001\n",
       "4  0.511375  0.122112  1.171950 -1.221294\n",
       "5 -0.264622  0.802222  0.409456 -0.980357\n",
       "6 -0.801114  1.186572  0.858243  0.018632\n",
       "7 -2.429100  0.152073 -1.085533 -0.363575\n",
       "8  0.842751  0.911766 -0.280945 -0.392360\n",
       "9  0.904342 -0.296484  0.578792  0.433124"
      ]
     },
     "execution_count": 155,
     "metadata": {},
     "output_type": "execute_result"
    }
   ],
   "source": [
    "df"
   ]
  },
  {
   "cell_type": "code",
   "execution_count": 157,
   "id": "2b8b7f4c-4492-4d59-8a19-fbeeb6142b57",
   "metadata": {},
   "outputs": [],
   "source": [
    "df2 = [df[:3],df[3:7],df[7:]]"
   ]
  },
  {
   "cell_type": "code",
   "execution_count": 159,
   "id": "36915712-fe55-475b-a465-b75a536290c3",
   "metadata": {},
   "outputs": [
    {
     "data": {
      "text/html": [
       "<div>\n",
       "<style scoped>\n",
       "    .dataframe tbody tr th:only-of-type {\n",
       "        vertical-align: middle;\n",
       "    }\n",
       "\n",
       "    .dataframe tbody tr th {\n",
       "        vertical-align: top;\n",
       "    }\n",
       "\n",
       "    .dataframe thead th {\n",
       "        text-align: right;\n",
       "    }\n",
       "</style>\n",
       "<table border=\"1\" class=\"dataframe\">\n",
       "  <thead>\n",
       "    <tr style=\"text-align: right;\">\n",
       "      <th></th>\n",
       "      <th>0</th>\n",
       "      <th>1</th>\n",
       "      <th>2</th>\n",
       "      <th>3</th>\n",
       "    </tr>\n",
       "  </thead>\n",
       "  <tbody>\n",
       "    <tr>\n",
       "      <th>0</th>\n",
       "      <td>1.529511</td>\n",
       "      <td>-0.697621</td>\n",
       "      <td>-0.307194</td>\n",
       "      <td>-1.867428</td>\n",
       "    </tr>\n",
       "    <tr>\n",
       "      <th>1</th>\n",
       "      <td>-0.682107</td>\n",
       "      <td>-0.018084</td>\n",
       "      <td>-0.633556</td>\n",
       "      <td>0.206054</td>\n",
       "    </tr>\n",
       "    <tr>\n",
       "      <th>2</th>\n",
       "      <td>-1.457642</td>\n",
       "      <td>0.234649</td>\n",
       "      <td>-0.590090</td>\n",
       "      <td>0.082205</td>\n",
       "    </tr>\n",
       "    <tr>\n",
       "      <th>3</th>\n",
       "      <td>0.486739</td>\n",
       "      <td>-0.052641</td>\n",
       "      <td>0.353493</td>\n",
       "      <td>-1.656001</td>\n",
       "    </tr>\n",
       "    <tr>\n",
       "      <th>4</th>\n",
       "      <td>0.511375</td>\n",
       "      <td>0.122112</td>\n",
       "      <td>1.171950</td>\n",
       "      <td>-1.221294</td>\n",
       "    </tr>\n",
       "    <tr>\n",
       "      <th>5</th>\n",
       "      <td>-0.264622</td>\n",
       "      <td>0.802222</td>\n",
       "      <td>0.409456</td>\n",
       "      <td>-0.980357</td>\n",
       "    </tr>\n",
       "    <tr>\n",
       "      <th>6</th>\n",
       "      <td>-0.801114</td>\n",
       "      <td>1.186572</td>\n",
       "      <td>0.858243</td>\n",
       "      <td>0.018632</td>\n",
       "    </tr>\n",
       "    <tr>\n",
       "      <th>7</th>\n",
       "      <td>-2.429100</td>\n",
       "      <td>0.152073</td>\n",
       "      <td>-1.085533</td>\n",
       "      <td>-0.363575</td>\n",
       "    </tr>\n",
       "    <tr>\n",
       "      <th>8</th>\n",
       "      <td>0.842751</td>\n",
       "      <td>0.911766</td>\n",
       "      <td>-0.280945</td>\n",
       "      <td>-0.392360</td>\n",
       "    </tr>\n",
       "    <tr>\n",
       "      <th>9</th>\n",
       "      <td>0.904342</td>\n",
       "      <td>-0.296484</td>\n",
       "      <td>0.578792</td>\n",
       "      <td>0.433124</td>\n",
       "    </tr>\n",
       "  </tbody>\n",
       "</table>\n",
       "</div>"
      ],
      "text/plain": [
       "          0         1         2         3\n",
       "0  1.529511 -0.697621 -0.307194 -1.867428\n",
       "1 -0.682107 -0.018084 -0.633556  0.206054\n",
       "2 -1.457642  0.234649 -0.590090  0.082205\n",
       "3  0.486739 -0.052641  0.353493 -1.656001\n",
       "4  0.511375  0.122112  1.171950 -1.221294\n",
       "5 -0.264622  0.802222  0.409456 -0.980357\n",
       "6 -0.801114  1.186572  0.858243  0.018632\n",
       "7 -2.429100  0.152073 -1.085533 -0.363575\n",
       "8  0.842751  0.911766 -0.280945 -0.392360\n",
       "9  0.904342 -0.296484  0.578792  0.433124"
      ]
     },
     "execution_count": 159,
     "metadata": {},
     "output_type": "execute_result"
    }
   ],
   "source": [
    "pd.concat(df2)"
   ]
  },
  {
   "cell_type": "code",
   "execution_count": 161,
   "id": "6039eccb-5799-4cff-9d6a-fa6cbde59de6",
   "metadata": {},
   "outputs": [],
   "source": [
    "left = pd.DataFrame({'A':[1,2],'B':[3,4]})"
   ]
  },
  {
   "cell_type": "code",
   "execution_count": 183,
   "id": "040181a3-c661-4fe6-be1f-1f7b5558f319",
   "metadata": {},
   "outputs": [],
   "source": [
    "right = pd.DataFrame({'A':[3,2],'D':[4,5]})"
   ]
  },
  {
   "cell_type": "code",
   "execution_count": 185,
   "id": "0a30c2a8-7d2d-47b5-8972-54d534097904",
   "metadata": {},
   "outputs": [
    {
     "data": {
      "text/html": [
       "<div>\n",
       "<style scoped>\n",
       "    .dataframe tbody tr th:only-of-type {\n",
       "        vertical-align: middle;\n",
       "    }\n",
       "\n",
       "    .dataframe tbody tr th {\n",
       "        vertical-align: top;\n",
       "    }\n",
       "\n",
       "    .dataframe thead th {\n",
       "        text-align: right;\n",
       "    }\n",
       "</style>\n",
       "<table border=\"1\" class=\"dataframe\">\n",
       "  <thead>\n",
       "    <tr style=\"text-align: right;\">\n",
       "      <th></th>\n",
       "      <th>A</th>\n",
       "      <th>B</th>\n",
       "    </tr>\n",
       "  </thead>\n",
       "  <tbody>\n",
       "    <tr>\n",
       "      <th>0</th>\n",
       "      <td>1</td>\n",
       "      <td>3</td>\n",
       "    </tr>\n",
       "    <tr>\n",
       "      <th>1</th>\n",
       "      <td>2</td>\n",
       "      <td>4</td>\n",
       "    </tr>\n",
       "  </tbody>\n",
       "</table>\n",
       "</div>"
      ],
      "text/plain": [
       "   A  B\n",
       "0  1  3\n",
       "1  2  4"
      ]
     },
     "execution_count": 185,
     "metadata": {},
     "output_type": "execute_result"
    }
   ],
   "source": [
    "left"
   ]
  },
  {
   "cell_type": "code",
   "execution_count": 187,
   "id": "e829c927-62dc-4ff5-91a8-aa37f772320d",
   "metadata": {},
   "outputs": [
    {
     "data": {
      "text/html": [
       "<div>\n",
       "<style scoped>\n",
       "    .dataframe tbody tr th:only-of-type {\n",
       "        vertical-align: middle;\n",
       "    }\n",
       "\n",
       "    .dataframe tbody tr th {\n",
       "        vertical-align: top;\n",
       "    }\n",
       "\n",
       "    .dataframe thead th {\n",
       "        text-align: right;\n",
       "    }\n",
       "</style>\n",
       "<table border=\"1\" class=\"dataframe\">\n",
       "  <thead>\n",
       "    <tr style=\"text-align: right;\">\n",
       "      <th></th>\n",
       "      <th>A</th>\n",
       "      <th>D</th>\n",
       "    </tr>\n",
       "  </thead>\n",
       "  <tbody>\n",
       "    <tr>\n",
       "      <th>0</th>\n",
       "      <td>3</td>\n",
       "      <td>4</td>\n",
       "    </tr>\n",
       "    <tr>\n",
       "      <th>1</th>\n",
       "      <td>2</td>\n",
       "      <td>5</td>\n",
       "    </tr>\n",
       "  </tbody>\n",
       "</table>\n",
       "</div>"
      ],
      "text/plain": [
       "   A  D\n",
       "0  3  4\n",
       "1  2  5"
      ]
     },
     "execution_count": 187,
     "metadata": {},
     "output_type": "execute_result"
    }
   ],
   "source": [
    "right"
   ]
  },
  {
   "cell_type": "code",
   "execution_count": 191,
   "id": "cb913bfa-62fc-47e3-a77b-a869212735aa",
   "metadata": {},
   "outputs": [
    {
     "data": {
      "text/html": [
       "<div>\n",
       "<style scoped>\n",
       "    .dataframe tbody tr th:only-of-type {\n",
       "        vertical-align: middle;\n",
       "    }\n",
       "\n",
       "    .dataframe tbody tr th {\n",
       "        vertical-align: top;\n",
       "    }\n",
       "\n",
       "    .dataframe thead th {\n",
       "        text-align: right;\n",
       "    }\n",
       "</style>\n",
       "<table border=\"1\" class=\"dataframe\">\n",
       "  <thead>\n",
       "    <tr style=\"text-align: right;\">\n",
       "      <th></th>\n",
       "      <th>A</th>\n",
       "      <th>B</th>\n",
       "      <th>D</th>\n",
       "    </tr>\n",
       "  </thead>\n",
       "  <tbody>\n",
       "    <tr>\n",
       "      <th>0</th>\n",
       "      <td>2</td>\n",
       "      <td>4</td>\n",
       "      <td>5</td>\n",
       "    </tr>\n",
       "  </tbody>\n",
       "</table>\n",
       "</div>"
      ],
      "text/plain": [
       "   A  B  D\n",
       "0  2  4  5"
      ]
     },
     "execution_count": 191,
     "metadata": {},
     "output_type": "execute_result"
    }
   ],
   "source": [
    "pd.merge(left,right,on='A')"
   ]
  },
  {
   "cell_type": "code",
   "execution_count": 193,
   "id": "25685ff5-03fb-4a0b-bfb7-2781784e2b4a",
   "metadata": {},
   "outputs": [
    {
     "data": {
      "text/html": [
       "<div>\n",
       "<style scoped>\n",
       "    .dataframe tbody tr th:only-of-type {\n",
       "        vertical-align: middle;\n",
       "    }\n",
       "\n",
       "    .dataframe tbody tr th {\n",
       "        vertical-align: top;\n",
       "    }\n",
       "\n",
       "    .dataframe thead th {\n",
       "        text-align: right;\n",
       "    }\n",
       "</style>\n",
       "<table border=\"1\" class=\"dataframe\">\n",
       "  <thead>\n",
       "    <tr style=\"text-align: right;\">\n",
       "      <th></th>\n",
       "      <th>A</th>\n",
       "      <th>B</th>\n",
       "      <th>C</th>\n",
       "      <th>D</th>\n",
       "      <th>E</th>\n",
       "      <th>F</th>\n",
       "      <th>E</th>\n",
       "    </tr>\n",
       "  </thead>\n",
       "  <tbody>\n",
       "    <tr>\n",
       "      <th>2024-09-15</th>\n",
       "      <td>1.555132</td>\n",
       "      <td>-0.527988</td>\n",
       "      <td>1.452649</td>\n",
       "      <td>-1.744200</td>\n",
       "      <td>NaN</td>\n",
       "      <td>NaN</td>\n",
       "      <td>NaN</td>\n",
       "    </tr>\n",
       "    <tr>\n",
       "      <th>2024-09-16</th>\n",
       "      <td>0.861221</td>\n",
       "      <td>0.257916</td>\n",
       "      <td>-0.422509</td>\n",
       "      <td>0.840806</td>\n",
       "      <td>NaN</td>\n",
       "      <td>NaN</td>\n",
       "      <td>NaN</td>\n",
       "    </tr>\n",
       "    <tr>\n",
       "      <th>2024-09-17</th>\n",
       "      <td>0.194064</td>\n",
       "      <td>0.674825</td>\n",
       "      <td>-0.610126</td>\n",
       "      <td>-0.582202</td>\n",
       "      <td>NaN</td>\n",
       "      <td>NaN</td>\n",
       "      <td>NaN</td>\n",
       "    </tr>\n",
       "    <tr>\n",
       "      <th>2024-09-18</th>\n",
       "      <td>-1.172900</td>\n",
       "      <td>0.923057</td>\n",
       "      <td>-1.163458</td>\n",
       "      <td>-0.192535</td>\n",
       "      <td>NaN</td>\n",
       "      <td>NaN</td>\n",
       "      <td>NaN</td>\n",
       "    </tr>\n",
       "  </tbody>\n",
       "</table>\n",
       "</div>"
      ],
      "text/plain": [
       "                   A         B         C         D   E   F   E\n",
       "2024-09-15  1.555132 -0.527988  1.452649 -1.744200 NaN NaN NaN\n",
       "2024-09-16  0.861221  0.257916 -0.422509  0.840806 NaN NaN NaN\n",
       "2024-09-17  0.194064  0.674825 -0.610126 -0.582202 NaN NaN NaN\n",
       "2024-09-18 -1.172900  0.923057 -1.163458 -0.192535 NaN NaN NaN"
      ]
     },
     "execution_count": 193,
     "metadata": {},
     "output_type": "execute_result"
    }
   ],
   "source": [
    "df3"
   ]
  },
  {
   "cell_type": "code",
   "execution_count": 195,
   "id": "49adee8a-d5c6-4515-a787-0dff4581aac0",
   "metadata": {},
   "outputs": [
    {
     "data": {
      "text/plain": [
       "[          0         1         2         3\n",
       " 0  1.529511 -0.697621 -0.307194 -1.867428\n",
       " 1 -0.682107 -0.018084 -0.633556  0.206054\n",
       " 2 -1.457642  0.234649 -0.590090  0.082205,\n",
       "           0         1         2         3\n",
       " 3  0.486739 -0.052641  0.353493 -1.656001\n",
       " 4  0.511375  0.122112  1.171950 -1.221294\n",
       " 5 -0.264622  0.802222  0.409456 -0.980357\n",
       " 6 -0.801114  1.186572  0.858243  0.018632,\n",
       "           0         1         2         3\n",
       " 7 -2.429100  0.152073 -1.085533 -0.363575\n",
       " 8  0.842751  0.911766 -0.280945 -0.392360\n",
       " 9  0.904342 -0.296484  0.578792  0.433124]"
      ]
     },
     "execution_count": 195,
     "metadata": {},
     "output_type": "execute_result"
    }
   ],
   "source": [
    "df2"
   ]
  },
  {
   "cell_type": "code",
   "execution_count": 197,
   "id": "f20c8b09-53ea-406b-8102-917bf38b84f4",
   "metadata": {},
   "outputs": [
    {
     "data": {
      "text/html": [
       "<div>\n",
       "<style scoped>\n",
       "    .dataframe tbody tr th:only-of-type {\n",
       "        vertical-align: middle;\n",
       "    }\n",
       "\n",
       "    .dataframe tbody tr th {\n",
       "        vertical-align: top;\n",
       "    }\n",
       "\n",
       "    .dataframe thead th {\n",
       "        text-align: right;\n",
       "    }\n",
       "</style>\n",
       "<table border=\"1\" class=\"dataframe\">\n",
       "  <thead>\n",
       "    <tr style=\"text-align: right;\">\n",
       "      <th></th>\n",
       "      <th>0</th>\n",
       "      <th>1</th>\n",
       "      <th>2</th>\n",
       "      <th>3</th>\n",
       "    </tr>\n",
       "  </thead>\n",
       "  <tbody>\n",
       "    <tr>\n",
       "      <th>0</th>\n",
       "      <td>1.529511</td>\n",
       "      <td>-0.697621</td>\n",
       "      <td>-0.307194</td>\n",
       "      <td>-1.867428</td>\n",
       "    </tr>\n",
       "    <tr>\n",
       "      <th>1</th>\n",
       "      <td>-0.682107</td>\n",
       "      <td>-0.018084</td>\n",
       "      <td>-0.633556</td>\n",
       "      <td>0.206054</td>\n",
       "    </tr>\n",
       "    <tr>\n",
       "      <th>2</th>\n",
       "      <td>-1.457642</td>\n",
       "      <td>0.234649</td>\n",
       "      <td>-0.590090</td>\n",
       "      <td>0.082205</td>\n",
       "    </tr>\n",
       "    <tr>\n",
       "      <th>3</th>\n",
       "      <td>0.486739</td>\n",
       "      <td>-0.052641</td>\n",
       "      <td>0.353493</td>\n",
       "      <td>-1.656001</td>\n",
       "    </tr>\n",
       "    <tr>\n",
       "      <th>4</th>\n",
       "      <td>0.511375</td>\n",
       "      <td>0.122112</td>\n",
       "      <td>1.171950</td>\n",
       "      <td>-1.221294</td>\n",
       "    </tr>\n",
       "    <tr>\n",
       "      <th>5</th>\n",
       "      <td>-0.264622</td>\n",
       "      <td>0.802222</td>\n",
       "      <td>0.409456</td>\n",
       "      <td>-0.980357</td>\n",
       "    </tr>\n",
       "    <tr>\n",
       "      <th>6</th>\n",
       "      <td>-0.801114</td>\n",
       "      <td>1.186572</td>\n",
       "      <td>0.858243</td>\n",
       "      <td>0.018632</td>\n",
       "    </tr>\n",
       "    <tr>\n",
       "      <th>7</th>\n",
       "      <td>-2.429100</td>\n",
       "      <td>0.152073</td>\n",
       "      <td>-1.085533</td>\n",
       "      <td>-0.363575</td>\n",
       "    </tr>\n",
       "    <tr>\n",
       "      <th>8</th>\n",
       "      <td>0.842751</td>\n",
       "      <td>0.911766</td>\n",
       "      <td>-0.280945</td>\n",
       "      <td>-0.392360</td>\n",
       "    </tr>\n",
       "    <tr>\n",
       "      <th>9</th>\n",
       "      <td>0.904342</td>\n",
       "      <td>-0.296484</td>\n",
       "      <td>0.578792</td>\n",
       "      <td>0.433124</td>\n",
       "    </tr>\n",
       "  </tbody>\n",
       "</table>\n",
       "</div>"
      ],
      "text/plain": [
       "          0         1         2         3\n",
       "0  1.529511 -0.697621 -0.307194 -1.867428\n",
       "1 -0.682107 -0.018084 -0.633556  0.206054\n",
       "2 -1.457642  0.234649 -0.590090  0.082205\n",
       "3  0.486739 -0.052641  0.353493 -1.656001\n",
       "4  0.511375  0.122112  1.171950 -1.221294\n",
       "5 -0.264622  0.802222  0.409456 -0.980357\n",
       "6 -0.801114  1.186572  0.858243  0.018632\n",
       "7 -2.429100  0.152073 -1.085533 -0.363575\n",
       "8  0.842751  0.911766 -0.280945 -0.392360\n",
       "9  0.904342 -0.296484  0.578792  0.433124"
      ]
     },
     "execution_count": 197,
     "metadata": {},
     "output_type": "execute_result"
    }
   ],
   "source": [
    "df"
   ]
  },
  {
   "cell_type": "code",
   "execution_count": 199,
   "id": "accfe214-5693-4d0b-9b61-9035df9ae000",
   "metadata": {},
   "outputs": [
    {
     "data": {
      "text/html": [
       "<div>\n",
       "<style scoped>\n",
       "    .dataframe tbody tr th:only-of-type {\n",
       "        vertical-align: middle;\n",
       "    }\n",
       "\n",
       "    .dataframe tbody tr th {\n",
       "        vertical-align: top;\n",
       "    }\n",
       "\n",
       "    .dataframe thead th {\n",
       "        text-align: right;\n",
       "    }\n",
       "</style>\n",
       "<table border=\"1\" class=\"dataframe\">\n",
       "  <thead>\n",
       "    <tr style=\"text-align: right;\">\n",
       "      <th></th>\n",
       "      <th>0</th>\n",
       "      <th>1</th>\n",
       "      <th>3</th>\n",
       "    </tr>\n",
       "    <tr>\n",
       "      <th>2</th>\n",
       "      <th></th>\n",
       "      <th></th>\n",
       "      <th></th>\n",
       "    </tr>\n",
       "  </thead>\n",
       "  <tbody>\n",
       "    <tr>\n",
       "      <th>-1.085533</th>\n",
       "      <td>-2.429100</td>\n",
       "      <td>0.152073</td>\n",
       "      <td>-0.363575</td>\n",
       "    </tr>\n",
       "    <tr>\n",
       "      <th>-0.633556</th>\n",
       "      <td>-0.682107</td>\n",
       "      <td>-0.018084</td>\n",
       "      <td>0.206054</td>\n",
       "    </tr>\n",
       "    <tr>\n",
       "      <th>-0.590090</th>\n",
       "      <td>-1.457642</td>\n",
       "      <td>0.234649</td>\n",
       "      <td>0.082205</td>\n",
       "    </tr>\n",
       "    <tr>\n",
       "      <th>-0.307194</th>\n",
       "      <td>1.529511</td>\n",
       "      <td>-0.697621</td>\n",
       "      <td>-1.867428</td>\n",
       "    </tr>\n",
       "    <tr>\n",
       "      <th>-0.280945</th>\n",
       "      <td>0.842751</td>\n",
       "      <td>0.911766</td>\n",
       "      <td>-0.392360</td>\n",
       "    </tr>\n",
       "    <tr>\n",
       "      <th>0.353493</th>\n",
       "      <td>0.486739</td>\n",
       "      <td>-0.052641</td>\n",
       "      <td>-1.656001</td>\n",
       "    </tr>\n",
       "    <tr>\n",
       "      <th>0.409456</th>\n",
       "      <td>-0.264622</td>\n",
       "      <td>0.802222</td>\n",
       "      <td>-0.980357</td>\n",
       "    </tr>\n",
       "    <tr>\n",
       "      <th>0.578792</th>\n",
       "      <td>0.904342</td>\n",
       "      <td>-0.296484</td>\n",
       "      <td>0.433124</td>\n",
       "    </tr>\n",
       "    <tr>\n",
       "      <th>0.858243</th>\n",
       "      <td>-0.801114</td>\n",
       "      <td>1.186572</td>\n",
       "      <td>0.018632</td>\n",
       "    </tr>\n",
       "    <tr>\n",
       "      <th>1.171950</th>\n",
       "      <td>0.511375</td>\n",
       "      <td>0.122112</td>\n",
       "      <td>-1.221294</td>\n",
       "    </tr>\n",
       "  </tbody>\n",
       "</table>\n",
       "</div>"
      ],
      "text/plain": [
       "                  0         1         3\n",
       "2                                      \n",
       "-1.085533 -2.429100  0.152073 -0.363575\n",
       "-0.633556 -0.682107 -0.018084  0.206054\n",
       "-0.590090 -1.457642  0.234649  0.082205\n",
       "-0.307194  1.529511 -0.697621 -1.867428\n",
       "-0.280945  0.842751  0.911766 -0.392360\n",
       " 0.353493  0.486739 -0.052641 -1.656001\n",
       " 0.409456 -0.264622  0.802222 -0.980357\n",
       " 0.578792  0.904342 -0.296484  0.433124\n",
       " 0.858243 -0.801114  1.186572  0.018632\n",
       " 1.171950  0.511375  0.122112 -1.221294"
      ]
     },
     "execution_count": 199,
     "metadata": {},
     "output_type": "execute_result"
    }
   ],
   "source": [
    "df.groupby(2).sum()"
   ]
  },
  {
   "cell_type": "code",
   "execution_count": 201,
   "id": "10bfa65f-dbbe-4610-aae8-5dfd1aeaa847",
   "metadata": {},
   "outputs": [
    {
     "data": {
      "text/html": [
       "<div>\n",
       "<style scoped>\n",
       "    .dataframe tbody tr th:only-of-type {\n",
       "        vertical-align: middle;\n",
       "    }\n",
       "\n",
       "    .dataframe tbody tr th {\n",
       "        vertical-align: top;\n",
       "    }\n",
       "\n",
       "    .dataframe thead th {\n",
       "        text-align: right;\n",
       "    }\n",
       "</style>\n",
       "<table border=\"1\" class=\"dataframe\">\n",
       "  <thead>\n",
       "    <tr style=\"text-align: right;\">\n",
       "      <th></th>\n",
       "      <th></th>\n",
       "      <th>0</th>\n",
       "      <th>1</th>\n",
       "    </tr>\n",
       "    <tr>\n",
       "      <th>2</th>\n",
       "      <th>3</th>\n",
       "      <th></th>\n",
       "      <th></th>\n",
       "    </tr>\n",
       "  </thead>\n",
       "  <tbody>\n",
       "    <tr>\n",
       "      <th>-1.085533</th>\n",
       "      <th>-0.363575</th>\n",
       "      <td>-2.429100</td>\n",
       "      <td>0.152073</td>\n",
       "    </tr>\n",
       "    <tr>\n",
       "      <th>-0.633556</th>\n",
       "      <th>0.206054</th>\n",
       "      <td>-0.682107</td>\n",
       "      <td>-0.018084</td>\n",
       "    </tr>\n",
       "    <tr>\n",
       "      <th>-0.590090</th>\n",
       "      <th>0.082205</th>\n",
       "      <td>-1.457642</td>\n",
       "      <td>0.234649</td>\n",
       "    </tr>\n",
       "    <tr>\n",
       "      <th>-0.307194</th>\n",
       "      <th>-1.867428</th>\n",
       "      <td>1.529511</td>\n",
       "      <td>-0.697621</td>\n",
       "    </tr>\n",
       "    <tr>\n",
       "      <th>-0.280945</th>\n",
       "      <th>-0.392360</th>\n",
       "      <td>0.842751</td>\n",
       "      <td>0.911766</td>\n",
       "    </tr>\n",
       "    <tr>\n",
       "      <th>0.353493</th>\n",
       "      <th>-1.656001</th>\n",
       "      <td>0.486739</td>\n",
       "      <td>-0.052641</td>\n",
       "    </tr>\n",
       "    <tr>\n",
       "      <th>0.409456</th>\n",
       "      <th>-0.980357</th>\n",
       "      <td>-0.264622</td>\n",
       "      <td>0.802222</td>\n",
       "    </tr>\n",
       "    <tr>\n",
       "      <th>0.578792</th>\n",
       "      <th>0.433124</th>\n",
       "      <td>0.904342</td>\n",
       "      <td>-0.296484</td>\n",
       "    </tr>\n",
       "    <tr>\n",
       "      <th>0.858243</th>\n",
       "      <th>0.018632</th>\n",
       "      <td>-0.801114</td>\n",
       "      <td>1.186572</td>\n",
       "    </tr>\n",
       "    <tr>\n",
       "      <th>1.171950</th>\n",
       "      <th>-1.221294</th>\n",
       "      <td>0.511375</td>\n",
       "      <td>0.122112</td>\n",
       "    </tr>\n",
       "  </tbody>\n",
       "</table>\n",
       "</div>"
      ],
      "text/plain": [
       "                            0         1\n",
       "2         3                            \n",
       "-1.085533 -0.363575 -2.429100  0.152073\n",
       "-0.633556  0.206054 -0.682107 -0.018084\n",
       "-0.590090  0.082205 -1.457642  0.234649\n",
       "-0.307194 -1.867428  1.529511 -0.697621\n",
       "-0.280945 -0.392360  0.842751  0.911766\n",
       " 0.353493 -1.656001  0.486739 -0.052641\n",
       " 0.409456 -0.980357 -0.264622  0.802222\n",
       " 0.578792  0.433124  0.904342 -0.296484\n",
       " 0.858243  0.018632 -0.801114  1.186572\n",
       " 1.171950 -1.221294  0.511375  0.122112"
      ]
     },
     "execution_count": 201,
     "metadata": {},
     "output_type": "execute_result"
    }
   ],
   "source": [
    "df.groupby([2,3]).sum()"
   ]
  },
  {
   "cell_type": "code",
   "execution_count": null,
   "id": "2ca539a3-f3cc-4f52-b083-5361b4e48079",
   "metadata": {},
   "outputs": [],
   "source": []
  },
  {
   "cell_type": "markdown",
   "id": "6559b1d2-9f23-45f7-836e-9191a69e1f43",
   "metadata": {},
   "source": [
    "Merge, Group, Reshape Data"
   ]
  },
  {
   "cell_type": "code",
   "execution_count": 205,
   "id": "5a2473a0-c3e3-454d-960e-36707749dea4",
   "metadata": {},
   "outputs": [],
   "source": [
    "my_tuple = list(zip(*[[1,2,3,4,5,17,18,19],[11,12,13,6,7,8,9,10]]))"
   ]
  },
  {
   "cell_type": "code",
   "execution_count": 207,
   "id": "ad00e00d-aca1-4cce-b1ce-2c7975e10a91",
   "metadata": {},
   "outputs": [],
   "source": [
    "index = pd.MultiIndex.from_tuples(my_tuple, names=['First','Second'])"
   ]
  },
  {
   "cell_type": "code",
   "execution_count": 211,
   "id": "f8cd1957-9c1e-43f1-9048-5727017d2d83",
   "metadata": {},
   "outputs": [],
   "source": [
    "df = pd.DataFrame(np.random.randn(8,2), index= index, columns=['A','B'])"
   ]
  },
  {
   "cell_type": "code",
   "execution_count": 213,
   "id": "f6e89243-2dec-40d4-84e3-087f0be88bb5",
   "metadata": {},
   "outputs": [],
   "source": [
    "df2 = df[:4]"
   ]
  },
  {
   "cell_type": "code",
   "execution_count": 215,
   "id": "bb7455eb-c3d5-48f0-ab53-9f0a19fbb18d",
   "metadata": {},
   "outputs": [
    {
     "data": {
      "text/html": [
       "<div>\n",
       "<style scoped>\n",
       "    .dataframe tbody tr th:only-of-type {\n",
       "        vertical-align: middle;\n",
       "    }\n",
       "\n",
       "    .dataframe tbody tr th {\n",
       "        vertical-align: top;\n",
       "    }\n",
       "\n",
       "    .dataframe thead th {\n",
       "        text-align: right;\n",
       "    }\n",
       "</style>\n",
       "<table border=\"1\" class=\"dataframe\">\n",
       "  <thead>\n",
       "    <tr style=\"text-align: right;\">\n",
       "      <th></th>\n",
       "      <th></th>\n",
       "      <th>A</th>\n",
       "      <th>B</th>\n",
       "    </tr>\n",
       "    <tr>\n",
       "      <th>First</th>\n",
       "      <th>Second</th>\n",
       "      <th></th>\n",
       "      <th></th>\n",
       "    </tr>\n",
       "  </thead>\n",
       "  <tbody>\n",
       "    <tr>\n",
       "      <th>1</th>\n",
       "      <th>11</th>\n",
       "      <td>-0.354661</td>\n",
       "      <td>-1.095031</td>\n",
       "    </tr>\n",
       "    <tr>\n",
       "      <th>2</th>\n",
       "      <th>12</th>\n",
       "      <td>0.159392</td>\n",
       "      <td>-0.310226</td>\n",
       "    </tr>\n",
       "    <tr>\n",
       "      <th>3</th>\n",
       "      <th>13</th>\n",
       "      <td>0.176816</td>\n",
       "      <td>-0.229013</td>\n",
       "    </tr>\n",
       "    <tr>\n",
       "      <th>4</th>\n",
       "      <th>6</th>\n",
       "      <td>-0.329546</td>\n",
       "      <td>-2.763003</td>\n",
       "    </tr>\n",
       "  </tbody>\n",
       "</table>\n",
       "</div>"
      ],
      "text/plain": [
       "                     A         B\n",
       "First Second                    \n",
       "1     11     -0.354661 -1.095031\n",
       "2     12      0.159392 -0.310226\n",
       "3     13      0.176816 -0.229013\n",
       "4     6      -0.329546 -2.763003"
      ]
     },
     "execution_count": 215,
     "metadata": {},
     "output_type": "execute_result"
    }
   ],
   "source": [
    "df2"
   ]
  },
  {
   "cell_type": "code",
   "execution_count": 217,
   "id": "65952771-5628-40fe-86a2-302cd8ba0797",
   "metadata": {},
   "outputs": [
    {
     "data": {
      "text/plain": [
       "First  Second   \n",
       "1      11      A   -0.354661\n",
       "               B   -1.095031\n",
       "2      12      A    0.159392\n",
       "               B   -0.310226\n",
       "3      13      A    0.176816\n",
       "               B   -0.229013\n",
       "4      6       A   -0.329546\n",
       "               B   -2.763003\n",
       "dtype: float64"
      ]
     },
     "execution_count": 217,
     "metadata": {},
     "output_type": "execute_result"
    }
   ],
   "source": [
    "df2.stack()"
   ]
  },
  {
   "cell_type": "code",
   "execution_count": 219,
   "id": "70730e29-7042-41c8-83e6-1d7563e88d9a",
   "metadata": {},
   "outputs": [
    {
     "data": {
      "text/html": [
       "<div>\n",
       "<style scoped>\n",
       "    .dataframe tbody tr th:only-of-type {\n",
       "        vertical-align: middle;\n",
       "    }\n",
       "\n",
       "    .dataframe tbody tr th {\n",
       "        vertical-align: top;\n",
       "    }\n",
       "\n",
       "    .dataframe thead tr th {\n",
       "        text-align: left;\n",
       "    }\n",
       "\n",
       "    .dataframe thead tr:last-of-type th {\n",
       "        text-align: right;\n",
       "    }\n",
       "</style>\n",
       "<table border=\"1\" class=\"dataframe\">\n",
       "  <thead>\n",
       "    <tr>\n",
       "      <th></th>\n",
       "      <th colspan=\"4\" halign=\"left\">A</th>\n",
       "      <th colspan=\"4\" halign=\"left\">B</th>\n",
       "    </tr>\n",
       "    <tr>\n",
       "      <th>Second</th>\n",
       "      <th>11</th>\n",
       "      <th>12</th>\n",
       "      <th>13</th>\n",
       "      <th>6</th>\n",
       "      <th>11</th>\n",
       "      <th>12</th>\n",
       "      <th>13</th>\n",
       "      <th>6</th>\n",
       "    </tr>\n",
       "    <tr>\n",
       "      <th>First</th>\n",
       "      <th></th>\n",
       "      <th></th>\n",
       "      <th></th>\n",
       "      <th></th>\n",
       "      <th></th>\n",
       "      <th></th>\n",
       "      <th></th>\n",
       "      <th></th>\n",
       "    </tr>\n",
       "  </thead>\n",
       "  <tbody>\n",
       "    <tr>\n",
       "      <th>1</th>\n",
       "      <td>-0.354661</td>\n",
       "      <td>NaN</td>\n",
       "      <td>NaN</td>\n",
       "      <td>NaN</td>\n",
       "      <td>-1.095031</td>\n",
       "      <td>NaN</td>\n",
       "      <td>NaN</td>\n",
       "      <td>NaN</td>\n",
       "    </tr>\n",
       "    <tr>\n",
       "      <th>2</th>\n",
       "      <td>NaN</td>\n",
       "      <td>0.159392</td>\n",
       "      <td>NaN</td>\n",
       "      <td>NaN</td>\n",
       "      <td>NaN</td>\n",
       "      <td>-0.310226</td>\n",
       "      <td>NaN</td>\n",
       "      <td>NaN</td>\n",
       "    </tr>\n",
       "    <tr>\n",
       "      <th>3</th>\n",
       "      <td>NaN</td>\n",
       "      <td>NaN</td>\n",
       "      <td>0.176816</td>\n",
       "      <td>NaN</td>\n",
       "      <td>NaN</td>\n",
       "      <td>NaN</td>\n",
       "      <td>-0.229013</td>\n",
       "      <td>NaN</td>\n",
       "    </tr>\n",
       "    <tr>\n",
       "      <th>4</th>\n",
       "      <td>NaN</td>\n",
       "      <td>NaN</td>\n",
       "      <td>NaN</td>\n",
       "      <td>-0.329546</td>\n",
       "      <td>NaN</td>\n",
       "      <td>NaN</td>\n",
       "      <td>NaN</td>\n",
       "      <td>-2.763003</td>\n",
       "    </tr>\n",
       "  </tbody>\n",
       "</table>\n",
       "</div>"
      ],
      "text/plain": [
       "               A                                       B                      \\\n",
       "Second        11        12        13        6         11        12        13   \n",
       "First                                                                          \n",
       "1      -0.354661       NaN       NaN       NaN -1.095031       NaN       NaN   \n",
       "2            NaN  0.159392       NaN       NaN       NaN -0.310226       NaN   \n",
       "3            NaN       NaN  0.176816       NaN       NaN       NaN -0.229013   \n",
       "4            NaN       NaN       NaN -0.329546       NaN       NaN       NaN   \n",
       "\n",
       "                  \n",
       "Second        6   \n",
       "First             \n",
       "1            NaN  \n",
       "2            NaN  \n",
       "3            NaN  \n",
       "4      -2.763003  "
      ]
     },
     "execution_count": 219,
     "metadata": {},
     "output_type": "execute_result"
    }
   ],
   "source": [
    "df2.unstack()"
   ]
  },
  {
   "cell_type": "code",
   "execution_count": 221,
   "id": "bff47a3e-2cb0-4b34-9bf0-06e00058871b",
   "metadata": {},
   "outputs": [],
   "source": [
    "a = df2.stack()"
   ]
  },
  {
   "cell_type": "code",
   "execution_count": 223,
   "id": "77d7d47c-a28c-487c-b865-38d215779e23",
   "metadata": {},
   "outputs": [
    {
     "data": {
      "text/html": [
       "<div>\n",
       "<style scoped>\n",
       "    .dataframe tbody tr th:only-of-type {\n",
       "        vertical-align: middle;\n",
       "    }\n",
       "\n",
       "    .dataframe tbody tr th {\n",
       "        vertical-align: top;\n",
       "    }\n",
       "\n",
       "    .dataframe thead th {\n",
       "        text-align: right;\n",
       "    }\n",
       "</style>\n",
       "<table border=\"1\" class=\"dataframe\">\n",
       "  <thead>\n",
       "    <tr style=\"text-align: right;\">\n",
       "      <th></th>\n",
       "      <th></th>\n",
       "      <th>A</th>\n",
       "      <th>B</th>\n",
       "    </tr>\n",
       "    <tr>\n",
       "      <th>First</th>\n",
       "      <th>Second</th>\n",
       "      <th></th>\n",
       "      <th></th>\n",
       "    </tr>\n",
       "  </thead>\n",
       "  <tbody>\n",
       "    <tr>\n",
       "      <th>1</th>\n",
       "      <th>11</th>\n",
       "      <td>-0.354661</td>\n",
       "      <td>-1.095031</td>\n",
       "    </tr>\n",
       "    <tr>\n",
       "      <th>2</th>\n",
       "      <th>12</th>\n",
       "      <td>0.159392</td>\n",
       "      <td>-0.310226</td>\n",
       "    </tr>\n",
       "    <tr>\n",
       "      <th>3</th>\n",
       "      <th>13</th>\n",
       "      <td>0.176816</td>\n",
       "      <td>-0.229013</td>\n",
       "    </tr>\n",
       "    <tr>\n",
       "      <th>4</th>\n",
       "      <th>6</th>\n",
       "      <td>-0.329546</td>\n",
       "      <td>-2.763003</td>\n",
       "    </tr>\n",
       "  </tbody>\n",
       "</table>\n",
       "</div>"
      ],
      "text/plain": [
       "                     A         B\n",
       "First Second                    \n",
       "1     11     -0.354661 -1.095031\n",
       "2     12      0.159392 -0.310226\n",
       "3     13      0.176816 -0.229013\n",
       "4     6      -0.329546 -2.763003"
      ]
     },
     "execution_count": 223,
     "metadata": {},
     "output_type": "execute_result"
    }
   ],
   "source": [
    "a.unstack()"
   ]
  },
  {
   "cell_type": "code",
   "execution_count": 227,
   "id": "7c4fd87d-c45f-4a83-bc27-fa7f8c692437",
   "metadata": {},
   "outputs": [],
   "source": [
    "df = pd.DataFrame({'A':['a','b','c','d'] * 3,\n",
    "                   'B':['A','B','C'] * 4,\n",
    "                   'C':['P','P','P','Q','Q','Q'] * 2,\n",
    "                   'D': np.random.randn(12),\n",
    "                   'E' : np.random.randn(12)})"
   ]
  },
  {
   "cell_type": "code",
   "execution_count": 229,
   "id": "f5d17ef7-69ae-40a5-b94c-c19924359265",
   "metadata": {},
   "outputs": [
    {
     "data": {
      "text/html": [
       "<div>\n",
       "<style scoped>\n",
       "    .dataframe tbody tr th:only-of-type {\n",
       "        vertical-align: middle;\n",
       "    }\n",
       "\n",
       "    .dataframe tbody tr th {\n",
       "        vertical-align: top;\n",
       "    }\n",
       "\n",
       "    .dataframe thead th {\n",
       "        text-align: right;\n",
       "    }\n",
       "</style>\n",
       "<table border=\"1\" class=\"dataframe\">\n",
       "  <thead>\n",
       "    <tr style=\"text-align: right;\">\n",
       "      <th></th>\n",
       "      <th>A</th>\n",
       "      <th>B</th>\n",
       "      <th>C</th>\n",
       "      <th>D</th>\n",
       "      <th>E</th>\n",
       "    </tr>\n",
       "  </thead>\n",
       "  <tbody>\n",
       "    <tr>\n",
       "      <th>0</th>\n",
       "      <td>a</td>\n",
       "      <td>A</td>\n",
       "      <td>P</td>\n",
       "      <td>1.378787</td>\n",
       "      <td>-0.272150</td>\n",
       "    </tr>\n",
       "    <tr>\n",
       "      <th>1</th>\n",
       "      <td>b</td>\n",
       "      <td>B</td>\n",
       "      <td>P</td>\n",
       "      <td>-1.209661</td>\n",
       "      <td>0.781441</td>\n",
       "    </tr>\n",
       "    <tr>\n",
       "      <th>2</th>\n",
       "      <td>c</td>\n",
       "      <td>C</td>\n",
       "      <td>P</td>\n",
       "      <td>-0.205163</td>\n",
       "      <td>-0.654914</td>\n",
       "    </tr>\n",
       "    <tr>\n",
       "      <th>3</th>\n",
       "      <td>d</td>\n",
       "      <td>A</td>\n",
       "      <td>Q</td>\n",
       "      <td>-1.283046</td>\n",
       "      <td>-0.071933</td>\n",
       "    </tr>\n",
       "    <tr>\n",
       "      <th>4</th>\n",
       "      <td>a</td>\n",
       "      <td>B</td>\n",
       "      <td>Q</td>\n",
       "      <td>-0.221856</td>\n",
       "      <td>-2.276165</td>\n",
       "    </tr>\n",
       "    <tr>\n",
       "      <th>5</th>\n",
       "      <td>b</td>\n",
       "      <td>C</td>\n",
       "      <td>Q</td>\n",
       "      <td>-0.687802</td>\n",
       "      <td>-0.549720</td>\n",
       "    </tr>\n",
       "    <tr>\n",
       "      <th>6</th>\n",
       "      <td>c</td>\n",
       "      <td>A</td>\n",
       "      <td>P</td>\n",
       "      <td>0.944943</td>\n",
       "      <td>-0.446963</td>\n",
       "    </tr>\n",
       "    <tr>\n",
       "      <th>7</th>\n",
       "      <td>d</td>\n",
       "      <td>B</td>\n",
       "      <td>P</td>\n",
       "      <td>-0.404515</td>\n",
       "      <td>1.429248</td>\n",
       "    </tr>\n",
       "    <tr>\n",
       "      <th>8</th>\n",
       "      <td>a</td>\n",
       "      <td>C</td>\n",
       "      <td>P</td>\n",
       "      <td>0.581704</td>\n",
       "      <td>-1.136609</td>\n",
       "    </tr>\n",
       "    <tr>\n",
       "      <th>9</th>\n",
       "      <td>b</td>\n",
       "      <td>A</td>\n",
       "      <td>Q</td>\n",
       "      <td>-0.962766</td>\n",
       "      <td>0.142661</td>\n",
       "    </tr>\n",
       "    <tr>\n",
       "      <th>10</th>\n",
       "      <td>c</td>\n",
       "      <td>B</td>\n",
       "      <td>Q</td>\n",
       "      <td>1.467140</td>\n",
       "      <td>-0.165278</td>\n",
       "    </tr>\n",
       "    <tr>\n",
       "      <th>11</th>\n",
       "      <td>d</td>\n",
       "      <td>C</td>\n",
       "      <td>Q</td>\n",
       "      <td>1.317037</td>\n",
       "      <td>-0.964753</td>\n",
       "    </tr>\n",
       "  </tbody>\n",
       "</table>\n",
       "</div>"
      ],
      "text/plain": [
       "    A  B  C         D         E\n",
       "0   a  A  P  1.378787 -0.272150\n",
       "1   b  B  P -1.209661  0.781441\n",
       "2   c  C  P -0.205163 -0.654914\n",
       "3   d  A  Q -1.283046 -0.071933\n",
       "4   a  B  Q -0.221856 -2.276165\n",
       "5   b  C  Q -0.687802 -0.549720\n",
       "6   c  A  P  0.944943 -0.446963\n",
       "7   d  B  P -0.404515  1.429248\n",
       "8   a  C  P  0.581704 -1.136609\n",
       "9   b  A  Q -0.962766  0.142661\n",
       "10  c  B  Q  1.467140 -0.165278\n",
       "11  d  C  Q  1.317037 -0.964753"
      ]
     },
     "execution_count": 229,
     "metadata": {},
     "output_type": "execute_result"
    }
   ],
   "source": [
    "df"
   ]
  },
  {
   "cell_type": "code",
   "execution_count": 231,
   "id": "4992ee17-54fe-48d6-8b61-62a3cf01976c",
   "metadata": {},
   "outputs": [
    {
     "data": {
      "text/html": [
       "<div>\n",
       "<style scoped>\n",
       "    .dataframe tbody tr th:only-of-type {\n",
       "        vertical-align: middle;\n",
       "    }\n",
       "\n",
       "    .dataframe tbody tr th {\n",
       "        vertical-align: top;\n",
       "    }\n",
       "\n",
       "    .dataframe thead th {\n",
       "        text-align: right;\n",
       "    }\n",
       "</style>\n",
       "<table border=\"1\" class=\"dataframe\">\n",
       "  <thead>\n",
       "    <tr style=\"text-align: right;\">\n",
       "      <th></th>\n",
       "      <th>C</th>\n",
       "      <th>P</th>\n",
       "      <th>Q</th>\n",
       "    </tr>\n",
       "    <tr>\n",
       "      <th>A</th>\n",
       "      <th>B</th>\n",
       "      <th></th>\n",
       "      <th></th>\n",
       "    </tr>\n",
       "  </thead>\n",
       "  <tbody>\n",
       "    <tr>\n",
       "      <th rowspan=\"3\" valign=\"top\">a</th>\n",
       "      <th>A</th>\n",
       "      <td>1.378787</td>\n",
       "      <td>NaN</td>\n",
       "    </tr>\n",
       "    <tr>\n",
       "      <th>B</th>\n",
       "      <td>NaN</td>\n",
       "      <td>-0.221856</td>\n",
       "    </tr>\n",
       "    <tr>\n",
       "      <th>C</th>\n",
       "      <td>0.581704</td>\n",
       "      <td>NaN</td>\n",
       "    </tr>\n",
       "    <tr>\n",
       "      <th rowspan=\"3\" valign=\"top\">b</th>\n",
       "      <th>A</th>\n",
       "      <td>NaN</td>\n",
       "      <td>-0.962766</td>\n",
       "    </tr>\n",
       "    <tr>\n",
       "      <th>B</th>\n",
       "      <td>-1.209661</td>\n",
       "      <td>NaN</td>\n",
       "    </tr>\n",
       "    <tr>\n",
       "      <th>C</th>\n",
       "      <td>NaN</td>\n",
       "      <td>-0.687802</td>\n",
       "    </tr>\n",
       "    <tr>\n",
       "      <th rowspan=\"3\" valign=\"top\">c</th>\n",
       "      <th>A</th>\n",
       "      <td>0.944943</td>\n",
       "      <td>NaN</td>\n",
       "    </tr>\n",
       "    <tr>\n",
       "      <th>B</th>\n",
       "      <td>NaN</td>\n",
       "      <td>1.467140</td>\n",
       "    </tr>\n",
       "    <tr>\n",
       "      <th>C</th>\n",
       "      <td>-0.205163</td>\n",
       "      <td>NaN</td>\n",
       "    </tr>\n",
       "    <tr>\n",
       "      <th rowspan=\"3\" valign=\"top\">d</th>\n",
       "      <th>A</th>\n",
       "      <td>NaN</td>\n",
       "      <td>-1.283046</td>\n",
       "    </tr>\n",
       "    <tr>\n",
       "      <th>B</th>\n",
       "      <td>-0.404515</td>\n",
       "      <td>NaN</td>\n",
       "    </tr>\n",
       "    <tr>\n",
       "      <th>C</th>\n",
       "      <td>NaN</td>\n",
       "      <td>1.317037</td>\n",
       "    </tr>\n",
       "  </tbody>\n",
       "</table>\n",
       "</div>"
      ],
      "text/plain": [
       "C           P         Q\n",
       "A B                    \n",
       "a A  1.378787       NaN\n",
       "  B       NaN -0.221856\n",
       "  C  0.581704       NaN\n",
       "b A       NaN -0.962766\n",
       "  B -1.209661       NaN\n",
       "  C       NaN -0.687802\n",
       "c A  0.944943       NaN\n",
       "  B       NaN  1.467140\n",
       "  C -0.205163       NaN\n",
       "d A       NaN -1.283046\n",
       "  B -0.404515       NaN\n",
       "  C       NaN  1.317037"
      ]
     },
     "execution_count": 231,
     "metadata": {},
     "output_type": "execute_result"
    }
   ],
   "source": [
    "pd.pivot_table(df,values='D',index =['A','B'],columns= ['C'])"
   ]
  },
  {
   "cell_type": "code",
   "execution_count": null,
   "id": "f2e7eb1a-8c57-4dd6-82b6-aa0aae21fc28",
   "metadata": {},
   "outputs": [],
   "source": []
  },
  {
   "cell_type": "markdown",
   "id": "1047ef9e-b415-4621-86f3-0d30d2216741",
   "metadata": {},
   "source": [
    "Time Series and Categoricals"
   ]
  },
  {
   "cell_type": "code",
   "execution_count": 239,
   "id": "1ef676a3-b582-4919-86a7-c296f0d2178d",
   "metadata": {},
   "outputs": [
    {
     "name": "stderr",
     "output_type": "stream",
     "text": [
      "C:\\Users\\Engr. Tom\\AppData\\Local\\Temp\\ipykernel_15560\\1034863924.py:1: FutureWarning: 'S' is deprecated and will be removed in a future version, please use 's' instead.\n",
      "  dates = pd.date_range('20240916', periods=100,freq='S')\n"
     ]
    }
   ],
   "source": [
    "dates = pd.date_range('20240916', periods=100,freq='S')"
   ]
  },
  {
   "cell_type": "code",
   "execution_count": 241,
   "id": "369b5a1e-6e9a-435f-b673-67ac16488963",
   "metadata": {},
   "outputs": [
    {
     "name": "stderr",
     "output_type": "stream",
     "text": [
      "C:\\Users\\Engr. Tom\\AppData\\Local\\Temp\\ipykernel_15560\\123243529.py:1: FutureWarning: 'S' is deprecated and will be removed in a future version, please use 's' instead.\n",
      "  dates = pd.date_range('16/09/2024', periods=100,freq='S')\n"
     ]
    }
   ],
   "source": [
    "dates = pd.date_range('16/09/2024', periods=100,freq='S')"
   ]
  },
  {
   "cell_type": "code",
   "execution_count": 243,
   "id": "c2649051-1cab-4ad1-8213-d3d185cd880b",
   "metadata": {},
   "outputs": [],
   "source": [
    "ts = pd.Series(np.random.randint(0,500,len(dates)),dates)"
   ]
  },
  {
   "cell_type": "code",
   "execution_count": 247,
   "id": "c7c363f0-1ecb-4a03-92c2-75b92a3c21e2",
   "metadata": {},
   "outputs": [
    {
     "data": {
      "text/plain": [
       "2024-09-16    23525\n",
       "Freq: 5min, dtype: int32"
      ]
     },
     "execution_count": 247,
     "metadata": {},
     "output_type": "execute_result"
    }
   ],
   "source": [
    "ts.resample('5min').sum()"
   ]
  },
  {
   "cell_type": "code",
   "execution_count": 249,
   "id": "10039bf1-3b28-4208-8319-e274ba0352f3",
   "metadata": {},
   "outputs": [
    {
     "name": "stderr",
     "output_type": "stream",
     "text": [
      "C:\\Users\\Engr. Tom\\AppData\\Local\\Temp\\ipykernel_15560\\4239143192.py:1: FutureWarning: 'S' is deprecated and will be removed in a future version, please use 's' instead.\n",
      "  dates = pd.date_range('16/09/2024 00:00', periods = 5, freq = 'S')\n"
     ]
    }
   ],
   "source": [
    "dates = pd.date_range('16/09/2024 00:00', periods = 5, freq = 'S')"
   ]
  },
  {
   "cell_type": "code",
   "execution_count": 253,
   "id": "58c643b9-ab40-4d28-b98f-bd9c1c48b9ea",
   "metadata": {},
   "outputs": [],
   "source": [
    "ts = pd.Series(np.random.randn(len(dates)),dates)"
   ]
  },
  {
   "cell_type": "code",
   "execution_count": 255,
   "id": "a0123ad3-f550-43ff-98e2-7cb6f9fdf06a",
   "metadata": {},
   "outputs": [
    {
     "data": {
      "text/plain": [
       "2024-09-16 00:00:00    0.882342\n",
       "2024-09-16 00:00:01   -0.685988\n",
       "2024-09-16 00:00:02   -1.615821\n",
       "2024-09-16 00:00:03    0.247339\n",
       "2024-09-16 00:00:04    0.142340\n",
       "Freq: s, dtype: float64"
      ]
     },
     "execution_count": 255,
     "metadata": {},
     "output_type": "execute_result"
    }
   ],
   "source": [
    "ts"
   ]
  },
  {
   "cell_type": "code",
   "execution_count": 257,
   "id": "3f90afcc-4216-4984-98f8-8b3c9f4c1193",
   "metadata": {},
   "outputs": [],
   "source": [
    "ts_utc = ts.tz_localize('UTC')"
   ]
  },
  {
   "cell_type": "code",
   "execution_count": 259,
   "id": "fb97dc7e-9170-4836-8205-35ffd2477de1",
   "metadata": {},
   "outputs": [
    {
     "data": {
      "text/plain": [
       "2024-09-16 00:00:00+00:00    0.882342\n",
       "2024-09-16 00:00:01+00:00   -0.685988\n",
       "2024-09-16 00:00:02+00:00   -1.615821\n",
       "2024-09-16 00:00:03+00:00    0.247339\n",
       "2024-09-16 00:00:04+00:00    0.142340\n",
       "Freq: s, dtype: float64"
      ]
     },
     "execution_count": 259,
     "metadata": {},
     "output_type": "execute_result"
    }
   ],
   "source": [
    "ts_utc"
   ]
  },
  {
   "cell_type": "code",
   "execution_count": 261,
   "id": "d3bb5e6d-7b3c-47f4-9543-76b016f9e1be",
   "metadata": {},
   "outputs": [
    {
     "data": {
      "text/plain": [
       "2024-09-15 20:00:00-04:00    0.882342\n",
       "2024-09-15 20:00:01-04:00   -0.685988\n",
       "2024-09-15 20:00:02-04:00   -1.615821\n",
       "2024-09-15 20:00:03-04:00    0.247339\n",
       "2024-09-15 20:00:04-04:00    0.142340\n",
       "Freq: s, dtype: float64"
      ]
     },
     "execution_count": 261,
     "metadata": {},
     "output_type": "execute_result"
    }
   ],
   "source": [
    "ts_utc.tz_convert('US/Eastern')"
   ]
  },
  {
   "cell_type": "code",
   "execution_count": 263,
   "id": "43189b05-7c23-4a10-92da-f1016dfe7902",
   "metadata": {},
   "outputs": [],
   "source": [
    "ps = ts.to_period()"
   ]
  },
  {
   "cell_type": "code",
   "execution_count": 265,
   "id": "a8e01237-a64f-4769-9fa1-9bf00c33cbc0",
   "metadata": {},
   "outputs": [
    {
     "data": {
      "text/plain": [
       "2024-09-16 00:00:00    0.882342\n",
       "2024-09-16 00:00:01   -0.685988\n",
       "2024-09-16 00:00:02   -1.615821\n",
       "2024-09-16 00:00:03    0.247339\n",
       "2024-09-16 00:00:04    0.142340\n",
       "Freq: s, dtype: float64"
      ]
     },
     "execution_count": 265,
     "metadata": {},
     "output_type": "execute_result"
    }
   ],
   "source": [
    "ps"
   ]
  },
  {
   "cell_type": "code",
   "execution_count": 267,
   "id": "e82c74b9-c9b9-48a1-bbf6-976bb8241838",
   "metadata": {},
   "outputs": [
    {
     "data": {
      "text/plain": [
       "2024-09-16 00:00:00    0.882342\n",
       "2024-09-16 00:00:01   -0.685988\n",
       "2024-09-16 00:00:02   -1.615821\n",
       "2024-09-16 00:00:03    0.247339\n",
       "2024-09-16 00:00:04    0.142340\n",
       "Freq: s, dtype: float64"
      ]
     },
     "execution_count": 267,
     "metadata": {},
     "output_type": "execute_result"
    }
   ],
   "source": [
    "ps.to_timestamp()"
   ]
  },
  {
   "cell_type": "code",
   "execution_count": 269,
   "id": "c3861ceb-14de-4252-ba2e-381eccc225b8",
   "metadata": {},
   "outputs": [],
   "source": [
    "df = pd.DataFrame({'id':[1,2,3,4,5,6],\n",
    "                   'grade':['a','b','c','b','a','e']})"
   ]
  },
  {
   "cell_type": "code",
   "execution_count": 271,
   "id": "5b1f65ee-3f1a-4ef5-949e-700e3fe9b417",
   "metadata": {},
   "outputs": [
    {
     "data": {
      "text/html": [
       "<div>\n",
       "<style scoped>\n",
       "    .dataframe tbody tr th:only-of-type {\n",
       "        vertical-align: middle;\n",
       "    }\n",
       "\n",
       "    .dataframe tbody tr th {\n",
       "        vertical-align: top;\n",
       "    }\n",
       "\n",
       "    .dataframe thead th {\n",
       "        text-align: right;\n",
       "    }\n",
       "</style>\n",
       "<table border=\"1\" class=\"dataframe\">\n",
       "  <thead>\n",
       "    <tr style=\"text-align: right;\">\n",
       "      <th></th>\n",
       "      <th>id</th>\n",
       "      <th>grade</th>\n",
       "    </tr>\n",
       "  </thead>\n",
       "  <tbody>\n",
       "    <tr>\n",
       "      <th>0</th>\n",
       "      <td>1</td>\n",
       "      <td>a</td>\n",
       "    </tr>\n",
       "    <tr>\n",
       "      <th>1</th>\n",
       "      <td>2</td>\n",
       "      <td>b</td>\n",
       "    </tr>\n",
       "    <tr>\n",
       "      <th>2</th>\n",
       "      <td>3</td>\n",
       "      <td>c</td>\n",
       "    </tr>\n",
       "    <tr>\n",
       "      <th>3</th>\n",
       "      <td>4</td>\n",
       "      <td>b</td>\n",
       "    </tr>\n",
       "    <tr>\n",
       "      <th>4</th>\n",
       "      <td>5</td>\n",
       "      <td>a</td>\n",
       "    </tr>\n",
       "    <tr>\n",
       "      <th>5</th>\n",
       "      <td>6</td>\n",
       "      <td>e</td>\n",
       "    </tr>\n",
       "  </tbody>\n",
       "</table>\n",
       "</div>"
      ],
      "text/plain": [
       "   id grade\n",
       "0   1     a\n",
       "1   2     b\n",
       "2   3     c\n",
       "3   4     b\n",
       "4   5     a\n",
       "5   6     e"
      ]
     },
     "execution_count": 271,
     "metadata": {},
     "output_type": "execute_result"
    }
   ],
   "source": [
    "df"
   ]
  },
  {
   "cell_type": "code",
   "execution_count": 273,
   "id": "7dd96374-9d76-4b92-b871-ff2b4e90c1cf",
   "metadata": {},
   "outputs": [],
   "source": [
    "df['Grade'] = df['grade'].astype('category')"
   ]
  },
  {
   "cell_type": "code",
   "execution_count": 275,
   "id": "cf39b21d-7cb8-4c37-b236-9387dfd0f0f7",
   "metadata": {},
   "outputs": [
    {
     "data": {
      "text/html": [
       "<div>\n",
       "<style scoped>\n",
       "    .dataframe tbody tr th:only-of-type {\n",
       "        vertical-align: middle;\n",
       "    }\n",
       "\n",
       "    .dataframe tbody tr th {\n",
       "        vertical-align: top;\n",
       "    }\n",
       "\n",
       "    .dataframe thead th {\n",
       "        text-align: right;\n",
       "    }\n",
       "</style>\n",
       "<table border=\"1\" class=\"dataframe\">\n",
       "  <thead>\n",
       "    <tr style=\"text-align: right;\">\n",
       "      <th></th>\n",
       "      <th>id</th>\n",
       "      <th>grade</th>\n",
       "      <th>Grade</th>\n",
       "    </tr>\n",
       "  </thead>\n",
       "  <tbody>\n",
       "    <tr>\n",
       "      <th>0</th>\n",
       "      <td>1</td>\n",
       "      <td>a</td>\n",
       "      <td>a</td>\n",
       "    </tr>\n",
       "    <tr>\n",
       "      <th>1</th>\n",
       "      <td>2</td>\n",
       "      <td>b</td>\n",
       "      <td>b</td>\n",
       "    </tr>\n",
       "    <tr>\n",
       "      <th>2</th>\n",
       "      <td>3</td>\n",
       "      <td>c</td>\n",
       "      <td>c</td>\n",
       "    </tr>\n",
       "    <tr>\n",
       "      <th>3</th>\n",
       "      <td>4</td>\n",
       "      <td>b</td>\n",
       "      <td>b</td>\n",
       "    </tr>\n",
       "    <tr>\n",
       "      <th>4</th>\n",
       "      <td>5</td>\n",
       "      <td>a</td>\n",
       "      <td>a</td>\n",
       "    </tr>\n",
       "    <tr>\n",
       "      <th>5</th>\n",
       "      <td>6</td>\n",
       "      <td>e</td>\n",
       "      <td>e</td>\n",
       "    </tr>\n",
       "  </tbody>\n",
       "</table>\n",
       "</div>"
      ],
      "text/plain": [
       "   id grade Grade\n",
       "0   1     a     a\n",
       "1   2     b     b\n",
       "2   3     c     c\n",
       "3   4     b     b\n",
       "4   5     a     a\n",
       "5   6     e     e"
      ]
     },
     "execution_count": 275,
     "metadata": {},
     "output_type": "execute_result"
    }
   ],
   "source": [
    "df"
   ]
  },
  {
   "cell_type": "code",
   "execution_count": 277,
   "id": "37a1910f-4dbe-41dd-a20b-17921c5f20ed",
   "metadata": {},
   "outputs": [
    {
     "data": {
      "text/plain": [
       "0    a\n",
       "1    b\n",
       "2    c\n",
       "3    b\n",
       "4    a\n",
       "5    e\n",
       "Name: Grade, dtype: category\n",
       "Categories (4, object): ['a', 'b', 'c', 'e']"
      ]
     },
     "execution_count": 277,
     "metadata": {},
     "output_type": "execute_result"
    }
   ],
   "source": [
    "df['Grade']"
   ]
  },
  {
   "cell_type": "code",
   "execution_count": 285,
   "id": "5c6cdb54-df1b-4baa-bb5f-9be247991f84",
   "metadata": {},
   "outputs": [],
   "source": [
    "df['Grade'] = df['Grade'].cat.rename_categories(['good', 'very bad', 'very good', 'excellent'])"
   ]
  },
  {
   "cell_type": "code",
   "execution_count": 287,
   "id": "d6daa66b-3849-4713-b2f8-d3915fd697b5",
   "metadata": {},
   "outputs": [
    {
     "data": {
      "text/html": [
       "<div>\n",
       "<style scoped>\n",
       "    .dataframe tbody tr th:only-of-type {\n",
       "        vertical-align: middle;\n",
       "    }\n",
       "\n",
       "    .dataframe tbody tr th {\n",
       "        vertical-align: top;\n",
       "    }\n",
       "\n",
       "    .dataframe thead th {\n",
       "        text-align: right;\n",
       "    }\n",
       "</style>\n",
       "<table border=\"1\" class=\"dataframe\">\n",
       "  <thead>\n",
       "    <tr style=\"text-align: right;\">\n",
       "      <th></th>\n",
       "      <th>id</th>\n",
       "      <th>grade</th>\n",
       "      <th>Grade</th>\n",
       "    </tr>\n",
       "  </thead>\n",
       "  <tbody>\n",
       "    <tr>\n",
       "      <th>0</th>\n",
       "      <td>1</td>\n",
       "      <td>a</td>\n",
       "      <td>good</td>\n",
       "    </tr>\n",
       "    <tr>\n",
       "      <th>1</th>\n",
       "      <td>2</td>\n",
       "      <td>b</td>\n",
       "      <td>very bad</td>\n",
       "    </tr>\n",
       "    <tr>\n",
       "      <th>2</th>\n",
       "      <td>3</td>\n",
       "      <td>c</td>\n",
       "      <td>very good</td>\n",
       "    </tr>\n",
       "    <tr>\n",
       "      <th>3</th>\n",
       "      <td>4</td>\n",
       "      <td>b</td>\n",
       "      <td>very bad</td>\n",
       "    </tr>\n",
       "    <tr>\n",
       "      <th>4</th>\n",
       "      <td>5</td>\n",
       "      <td>a</td>\n",
       "      <td>good</td>\n",
       "    </tr>\n",
       "    <tr>\n",
       "      <th>5</th>\n",
       "      <td>6</td>\n",
       "      <td>e</td>\n",
       "      <td>excellent</td>\n",
       "    </tr>\n",
       "  </tbody>\n",
       "</table>\n",
       "</div>"
      ],
      "text/plain": [
       "   id grade      Grade\n",
       "0   1     a       good\n",
       "1   2     b   very bad\n",
       "2   3     c  very good\n",
       "3   4     b   very bad\n",
       "4   5     a       good\n",
       "5   6     e  excellent"
      ]
     },
     "execution_count": 287,
     "metadata": {},
     "output_type": "execute_result"
    }
   ],
   "source": [
    "df"
   ]
  },
  {
   "cell_type": "code",
   "execution_count": 295,
   "id": "8909eb40-8d92-4489-bee8-9f86ead14eff",
   "metadata": {},
   "outputs": [],
   "source": [
    "df['Grade'] = df['Grade'].cat.set_categories(['very good','bad','very bad','good','medium'])"
   ]
  },
  {
   "cell_type": "code",
   "execution_count": 297,
   "id": "9f3c5aba-d613-4fb0-a266-7c411047a2fd",
   "metadata": {},
   "outputs": [
    {
     "data": {
      "text/plain": [
       "0          NaN\n",
       "1     very bad\n",
       "2    very good\n",
       "3     very bad\n",
       "4          NaN\n",
       "5          NaN\n",
       "Name: Grade, dtype: category\n",
       "Categories (5, object): ['very good', 'bad', 'very bad', 'good', 'medium']"
      ]
     },
     "execution_count": 297,
     "metadata": {},
     "output_type": "execute_result"
    }
   ],
   "source": [
    "df['Grade']"
   ]
  },
  {
   "cell_type": "code",
   "execution_count": 299,
   "id": "af481cf2-da77-4a66-9c90-533e29524105",
   "metadata": {},
   "outputs": [],
   "source": [
    "import matplotlib.pyplot as plt"
   ]
  },
  {
   "cell_type": "code",
   "execution_count": 301,
   "id": "040b8202-eb37-4895-acf0-74d99a7ed33c",
   "metadata": {},
   "outputs": [],
   "source": [
    "plt.close('all')"
   ]
  },
  {
   "cell_type": "code",
   "execution_count": 305,
   "id": "67025864-f872-4852-a03e-8c66c0b9fe03",
   "metadata": {},
   "outputs": [],
   "source": [
    "ts = pd.Series(np.random.randn(500), index = pd.date_range('16/09/2024', periods=500))"
   ]
  },
  {
   "cell_type": "code",
   "execution_count": 307,
   "id": "7fe99a86-ea3e-4d2e-9f01-3e3e5a0cd66a",
   "metadata": {},
   "outputs": [],
   "source": [
    "ts = ts.cumsum()"
   ]
  },
  {
   "cell_type": "code",
   "execution_count": 309,
   "id": "9b1df1fd-b1a0-4fdf-b58e-aaddfbb92a7f",
   "metadata": {},
   "outputs": [
    {
     "data": {
      "text/plain": [
       "<Axes: >"
      ]
     },
     "execution_count": 309,
     "metadata": {},
     "output_type": "execute_result"
    },
    {
     "data": {
      "image/png": "[encoded data removed]",
      "text/plain": [
       "<Figure size 640x480 with 1 Axes>"
      ]
     },
     "metadata": {},
     "output_type": "display_data"
    }
   ],
   "source": [
    "ts.plot()"
   ]
  },
  {
   "cell_type": "code",
   "execution_count": null,
   "id": "90697ad9-a011-4e15-af7b-22adbae853cd",
   "metadata": {},
   "outputs": [],
   "source": []
  },
  {
   "cell_type": "markdown",
   "id": "268f8777-bd45-4f88-a387-d20ef3ee9268",
   "metadata": {},
   "source": [
    "how to plot using pandas"
   ]
  },
  {
   "cell_type": "code",
   "execution_count": 313,
   "id": "6809d045-5f2b-4c7a-8402-cdda6a6cdd65",
   "metadata": {},
   "outputs": [],
   "source": [
    "ts.to_csv('ts.csv')"
   ]
  },
  {
   "cell_type": "code",
   "execution_count": 321,
   "id": "f2528f28-e145-4003-8084-586333dda4e9",
   "metadata": {},
   "outputs": [
    {
     "data": {
      "text/html": [
       "<div>\n",
       "<style scoped>\n",
       "    .dataframe tbody tr th:only-of-type {\n",
       "        vertical-align: middle;\n",
       "    }\n",
       "\n",
       "    .dataframe tbody tr th {\n",
       "        vertical-align: top;\n",
       "    }\n",
       "\n",
       "    .dataframe thead th {\n",
       "        text-align: right;\n",
       "    }\n",
       "</style>\n",
       "<table border=\"1\" class=\"dataframe\">\n",
       "  <thead>\n",
       "    <tr style=\"text-align: right;\">\n",
       "      <th></th>\n",
       "      <th>year</th>\n",
       "      <th>region</th>\n",
       "      <th>npg</th>\n",
       "      <th>birth_rate</th>\n",
       "      <th>death_rate</th>\n",
       "      <th>gdw</th>\n",
       "      <th>urbanization</th>\n",
       "    </tr>\n",
       "  </thead>\n",
       "  <tbody>\n",
       "    <tr>\n",
       "      <th>0</th>\n",
       "      <td>1990</td>\n",
       "      <td>Republic of Adygea</td>\n",
       "      <td>1.9</td>\n",
       "      <td>14.2</td>\n",
       "      <td>12.3</td>\n",
       "      <td>84.66</td>\n",
       "      <td>52.42</td>\n",
       "    </tr>\n",
       "    <tr>\n",
       "      <th>1</th>\n",
       "      <td>1990</td>\n",
       "      <td>Altai Krai</td>\n",
       "      <td>1.8</td>\n",
       "      <td>12.9</td>\n",
       "      <td>11.1</td>\n",
       "      <td>80.24</td>\n",
       "      <td>58.07</td>\n",
       "    </tr>\n",
       "    <tr>\n",
       "      <th>2</th>\n",
       "      <td>1990</td>\n",
       "      <td>Amur Oblast</td>\n",
       "      <td>7.6</td>\n",
       "      <td>16.2</td>\n",
       "      <td>8.6</td>\n",
       "      <td>69.55</td>\n",
       "      <td>68.37</td>\n",
       "    </tr>\n",
       "    <tr>\n",
       "      <th>3</th>\n",
       "      <td>1990</td>\n",
       "      <td>Arkhangelsk Oblast</td>\n",
       "      <td>3.7</td>\n",
       "      <td>13.5</td>\n",
       "      <td>9.8</td>\n",
       "      <td>73.26</td>\n",
       "      <td>73.63</td>\n",
       "    </tr>\n",
       "    <tr>\n",
       "      <th>4</th>\n",
       "      <td>1990</td>\n",
       "      <td>Astrakhan Oblast</td>\n",
       "      <td>4.7</td>\n",
       "      <td>15.1</td>\n",
       "      <td>10.4</td>\n",
       "      <td>77.05</td>\n",
       "      <td>68.01</td>\n",
       "    </tr>\n",
       "    <tr>\n",
       "      <th>...</th>\n",
       "      <td>...</td>\n",
       "      <td>...</td>\n",
       "      <td>...</td>\n",
       "      <td>...</td>\n",
       "      <td>...</td>\n",
       "      <td>...</td>\n",
       "      <td>...</td>\n",
       "    </tr>\n",
       "    <tr>\n",
       "      <th>2375</th>\n",
       "      <td>2017</td>\n",
       "      <td>Chuvash Republic</td>\n",
       "      <td>-1.3</td>\n",
       "      <td>11.3</td>\n",
       "      <td>12.6</td>\n",
       "      <td>76.63</td>\n",
       "      <td>62.00</td>\n",
       "    </tr>\n",
       "    <tr>\n",
       "      <th>2376</th>\n",
       "      <td>2017</td>\n",
       "      <td>Chukotka Autonomous Okrug</td>\n",
       "      <td>3.7</td>\n",
       "      <td>13.1</td>\n",
       "      <td>9.4</td>\n",
       "      <td>58.23</td>\n",
       "      <td>70.00</td>\n",
       "    </tr>\n",
       "    <tr>\n",
       "      <th>2377</th>\n",
       "      <td>2017</td>\n",
       "      <td>Sakha (Yakutia) Republic</td>\n",
       "      <td>6.4</td>\n",
       "      <td>14.5</td>\n",
       "      <td>8.1</td>\n",
       "      <td>70.10</td>\n",
       "      <td>65.50</td>\n",
       "    </tr>\n",
       "    <tr>\n",
       "      <th>2378</th>\n",
       "      <td>2017</td>\n",
       "      <td>Yamalo-Nenets Autonomous Okrug</td>\n",
       "      <td>9.1</td>\n",
       "      <td>14.0</td>\n",
       "      <td>4.9</td>\n",
       "      <td>53.57</td>\n",
       "      <td>83.70</td>\n",
       "    </tr>\n",
       "    <tr>\n",
       "      <th>2379</th>\n",
       "      <td>2017</td>\n",
       "      <td>Yaroslavl Oblast</td>\n",
       "      <td>-4.7</td>\n",
       "      <td>10.5</td>\n",
       "      <td>15.2</td>\n",
       "      <td>82.61</td>\n",
       "      <td>81.70</td>\n",
       "    </tr>\n",
       "  </tbody>\n",
       "</table>\n",
       "<p>2380 rows × 7 columns</p>\n",
       "</div>"
      ],
      "text/plain": [
       "      year                          region  npg  birth_rate  death_rate  \\\n",
       "0     1990              Republic of Adygea  1.9        14.2        12.3   \n",
       "1     1990                      Altai Krai  1.8        12.9        11.1   \n",
       "2     1990                     Amur Oblast  7.6        16.2         8.6   \n",
       "3     1990              Arkhangelsk Oblast  3.7        13.5         9.8   \n",
       "4     1990                Astrakhan Oblast  4.7        15.1        10.4   \n",
       "...    ...                             ...  ...         ...         ...   \n",
       "2375  2017                Chuvash Republic -1.3        11.3        12.6   \n",
       "2376  2017       Chukotka Autonomous Okrug  3.7        13.1         9.4   \n",
       "2377  2017        Sakha (Yakutia) Republic  6.4        14.5         8.1   \n",
       "2378  2017  Yamalo-Nenets Autonomous Okrug  9.1        14.0         4.9   \n",
       "2379  2017                Yaroslavl Oblast -4.7        10.5        15.2   \n",
       "\n",
       "        gdw  urbanization  \n",
       "0     84.66         52.42  \n",
       "1     80.24         58.07  \n",
       "2     69.55         68.37  \n",
       "3     73.26         73.63  \n",
       "4     77.05         68.01  \n",
       "...     ...           ...  \n",
       "2375  76.63         62.00  \n",
       "2376  58.23         70.00  \n",
       "2377  70.10         65.50  \n",
       "2378  53.57         83.70  \n",
       "2379  82.61         81.70  \n",
       "\n",
       "[2380 rows x 7 columns]"
      ]
     },
     "execution_count": 321,
     "metadata": {},
     "output_type": "execute_result"
    }
   ],
   "source": [
    "pd.read_csv('russian_demography.csv')"
   ]
  },
  {
   "cell_type": "code",
   "execution_count": null,
   "id": "e886a48a-041f-4e1f-b0c0-a855a803ddac",
   "metadata": {},
   "outputs": [],
   "source": []
  }
 ],
 "metadata": {
  "kernelspec": {
   "display_name": "Python 3 (ipykernel)",
   "language": "python",
   "name": "python3"
  },
  "language_info": {
   "codemirror_mode": {
    "name": "ipython",
    "version": 3
   },
   "file_extension": ".py",
   "mimetype": "text/x-python",
   "name": "python",
   "nbconvert_exporter": "python",
   "pygments_lexer": "ipython3",
   "version": "3.12.4"
  }
 },
 "nbformat": 4,
 "nbformat_minor": 5
}
